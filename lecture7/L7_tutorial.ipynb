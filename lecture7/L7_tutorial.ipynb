{
 "cells": [
  {
   "cell_type": "markdown",
   "metadata": {},
   "source": [
    "# ACSE-7 (Inversion and Optimisation)  <a class=\"tocSkip\"></a>\n",
    "\n",
    "# Homework Lecture 7: PDE-Constrained Optimisation<a class=\"tocSkip\"></a>"
   ]
  },
  {
   "cell_type": "code",
   "execution_count": 1,
   "metadata": {},
   "outputs": [],
   "source": [
    "import numpy as np\n",
    "import scipy.linalg as sl\n",
    "import matplotlib.pyplot as plt\n",
    "# font sizes for plots\n",
    "plt.rcParams['font.size'] = 16\n",
    "plt.rcParams['font.family'] = 'sans-serif'\n",
    "plt.rcParams['font.sans-serif'] = ['Arial', 'Dejavu Sans']"
   ]
  },
  {
   "cell_type": "code",
   "execution_count": 2,
   "metadata": {
    "collapsed": true
   },
   "outputs": [],
   "source": [
    "%matplotlib inline"
   ]
  },
  {
   "cell_type": "markdown",
   "metadata": {},
   "source": [
    "# Diffusion Equation\n",
    "\n",
    "We consider the diffusion equation\n",
    "\n",
    "$$\n",
    "  \\frac{\\partial u}{\\partial t} - \\kappa \\frac{\\partial^2}{\\partial x^2} = s(x, t)\n",
    "$$\n",
    "\n",
    "which has many uses, such as the dispersal of microparticles \n",
    "through random motion (Brownian motion), the spread of a disolved substance, e.g. a pollutant, in a fluid, or the spread of heat. For the moment let's think of $u$ as a concentration. The coefficient $\\kappa$ is the diffusion coefficient. We also consider a source term $s(x,t)$ which represent release of the concentration (can be a sink as well when negative).\n",
    "\n",
    "This PDE comes with the following initial and boundary conditions:\n",
    "\n",
    "$$\n",
    "  u(x, 0) = u_{\\text{ic}}(x), \\text{ and } \\\\\n",
    "  \\kappa\\left.\\frac{\\partial u(x,t)}{\\partial x}\\right|_{x=x_0} = \\Phi_0 \\text{ and }\n",
    "  \\kappa\\left.\\frac{\\partial u(x,t)}{\\partial x}\\right|_{x=x_1} = \\Phi_1\n",
    "$$\n",
    "\n",
    "Note that unlike for the advection equation example in the lecture notes we need a boundary condition on both sides of the domain which we assume is the interval $[x_0, x_1]$, and here we chose to apply a Neumann condition. The boundary values $\\Phi_{0,1}$ represent the diffusive flux through both boundaries."
   ]
  },
  {
   "cell_type": "markdown",
   "metadata": {},
   "source": [
    "# Tangent linear approach"
   ]
  },
  {
   "cell_type": "markdown",
   "metadata": {},
   "source": [
    "* we have observation data that tells us what the concentration $u(x,t)$ should be at $t=T$, say $u(x, T) \\approx u_{\\text{obs}}(x)$. We want to chance some parameters $m$ in our diffusion model to improve the match between the predicted concentration $u(x,t)$ predicted by the model and the observation. Write down what a suitable functional $f(u, m)$ would be for the associated optimisation problem"
   ]
  },
  {
   "cell_type": "markdown",
   "metadata": {},
   "source": [
    "* First we consider optimising the diffusion coefficient, so we choose $m$ to be a single parameter, $m=\\kappa$, that we want to optimize to improve the match with observations. Write the PDE system as a constraint $g(u, m)$ similar to the advection example with an entry for the actual PDE, and entries for the initial and both boundary conditions."
   ]
  },
  {
   "cell_type": "markdown",
   "metadata": {},
   "source": [
    "* In the lecture notes we saw that in the tangent linear approach we need to solve\n",
    "\n",
    "$$\n",
    "  \\frac{\\partial g}{\\partial u}\\delta u = -\\frac{\\partial g}{\\partial m}\\delta m\n",
    "$$\n",
    "\n",
    "to obtain the perturbation $\\delta u$ in $u$ due to a perturbation $\\delta m$ in $m$. In other words:\n",
    "\n",
    "$$\n",
    "  \\delta u = \\frac{du}{dm} \\delta m\n",
    "$$\n",
    "\n",
    "Work out what the PDE is for $\\delta u$, including initial and boundary conditions."
   ]
  },
  {
   "cell_type": "markdown",
   "metadata": {},
   "source": [
    "* Now, instead of the diffusivity coefficient, we want to invert for optimal boundary fluxes $\\Phi_1$ and $\\Phi_2$. We want to find the optimal *combination* of these two values, so we optimize for them simultaneously with $m=(\\Phi_1, \\Phi_2)$ now being a 2-vector. What is the consequence of this for the tangent-linear approach? You don't need to work out the new equations exactly (although it's a good exercise), just indicate what the main difference is with the previous case."
   ]
  },
  {
   "cell_type": "markdown",
   "metadata": {},
   "source": [
    "* Finally, we consider optimising the source term $s(x,t)$ and thus the optimisation parameter $m$ becomes a function $m(x,t) = s(x,t)$. Would we still be able to use the tangent-linear approach in this case to compute the gradient $df/dm$ ?"
   ]
  }
 ],
 "metadata": {
  "kernelspec": {
   "display_name": "Python 3",
   "language": "python",
   "name": "python3"
  },
  "language_info": {
   "codemirror_mode": {
    "name": "ipython",
    "version": 3
   },
   "file_extension": ".py",
   "mimetype": "text/x-python",
   "name": "python",
   "nbconvert_exporter": "python",
   "pygments_lexer": "ipython3",
   "version": "3.9.1+"
  },
  "toc": {
   "base_numbering": 1,
   "nav_menu": {},
   "number_sections": true,
   "sideBar": true,
   "skip_h1_title": false,
   "title_cell": "Table of Contents",
   "title_sidebar": "Contents",
   "toc_cell": false,
   "toc_position": {},
   "toc_section_display": true,
   "toc_window_display": false
  }
 },
 "nbformat": 4,
 "nbformat_minor": 2
}
