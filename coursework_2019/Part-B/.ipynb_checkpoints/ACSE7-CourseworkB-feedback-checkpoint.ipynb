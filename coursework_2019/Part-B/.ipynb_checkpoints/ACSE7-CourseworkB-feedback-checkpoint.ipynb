{
 "cells": [
  {
   "cell_type": "markdown",
   "metadata": {
    "slideshow": {
     "slide_type": "slide"
    }
   },
   "source": [
    "# ACSE-7 (Optimisation & Inversion) <a class=\"tocSkip\"></a>\n",
    "\n",
    "## Coursework part B - answers <a class=\"tocSkip\"></a>"
   ]
  },
  {
   "cell_type": "markdown",
   "metadata": {},
   "source": [
    "Below you will find the answers to the questions of Part B of the ACSE7 coursework. They are fairly succinct but contain the minimal amount of information required for a correct answer. First I will summarize some common issues found in the notebooks handed in."
   ]
  },
  {
   "cell_type": "markdown",
   "metadata": {},
   "source": [
    "<font size=\"1pt\">Some $\\LaTeX$ definitions hidden in this cell (double-click to reveal)</font>\n",
    "$\n",
    "\\newcommand\\vec[1]{\\boldsymbol{\\mathrm{#1}}}\n",
    "\\newcommand\\mat[1]{\\underline{\\mathbf{#1}}}\n",
    "\\newcommand\\R{\\mathbb{R}}\n",
    "\\newcommand\\vlam{\\boldsymbol{\\lambda}}\n",
    "$"
   ]
  },
  {
   "cell_type": "markdown",
   "metadata": {},
   "source": [
    "# Summary of Common Issues <a class=\"tocSkip\"></a>\n",
    "\n",
    "* question B2: The correct term is positive semi-definite, not semi-positive definite\n",
    "* question B3: When asked to proof that a matrix is SPD, you need to proof it's *symmetric* as well as positive definite. A few people forget to do the first.\n",
    "* question B10: The missing value was 3.14159. If you retrieved another value because you reran and overwrote the provided rsm-blurred.py this was still given full marks\n",
    "* question B14:\n",
    "\n",
    "The last question was a bit more challenging. Quite a few people probably\n",
    "thought they had the correct answer but did not realize their mistake because\n",
    "of insufficient/inappropriate testing: when performing a Taylor test you need\n",
    "to think carefully about in which point you want to evaluate it. In particular\n",
    "in an optimisation context when optimising $f(m)$ for some vector $m$, you do not\n",
    "want to test your gradient `dfdm` in the point $m^*$ (the solution) because we know that\n",
    "$\\partial f/\\partial m(m^*)=0$. So for instance if you make a sign error (very common!) in your\n",
    "code, you will not notice it. \n",
    "\n",
    "It is better to evaluate the Taylor test in a point (or even better multiple\n",
    "points) that is randomly chosen. This is because an arbitrary, but human-chosen\n",
    "vector typically ends up being \"special\" in some kind of way, for instance you\n",
    "might choose a vector with all coefficients the same, and it often happens that\n",
    "your code works for these \"special\" choices but not in general.\n",
    "\n",
    "Another common problem was that people got confused by the given expression for\n",
    "\n",
    "\\begin{align*}\n",
    "  \\left(\\vlam^T \\frac{\\partial g(\\vec u, \\vec m)}{\\partial\\vec m}\\right)_j\n",
    "  =\\sum_{i=1}^{N_t} \\Delta t\\lambda^i_j \\left(\\mat K\\vec u^i\\right)_j\n",
    "\\end{align*}\n",
    "\n",
    "From that equation some people drew the following\n",
    "*incorrect* conclusion:\n",
    "\n",
    "\\begin{align*}\n",
    "\\text{incorrect: }\n",
    "  \\lambda^T \\frac{\\partial g(\\vec u, \\vec m)}{\\partial m} = \\sum_{i=1}^{N_t} \\Delta t(\\lambda^i)^T K u^i\n",
    "\\end{align*}\n",
    "\n",
    "or in code (also incorrect):\n",
    "```python\n",
    "    for i in range(Nt):\n",
    "        lambda_dot_dgdm += lamda[i] @ K @ u[i]\n",
    "```\n",
    "You can immediately see that this is not correct because each term in the\n",
    "summation is a scalar! The expression on the left-hand side on the other hand is a vector of length $N_x\\cdot N_y$."
   ]
  },
  {
   "cell_type": "markdown",
   "metadata": {},
   "source": [
    "A direct and correct way to implement the given formula,\n",
    " would be to loop over all grid-indices\n",
    "j=1,..Nx*Ny first and inside that loop have another loop over the timesteps\n",
    "i=1,..Nt in order to evaluate the coefficients `lambda_dot_dgdm[j]`:\n",
    "```python\n",
    "    lambda_dot_dgdm = np.zeros(Nx*Ny)\n",
    "    for j in range(Nx*Ny):\n",
    "      for i in range(Nt):\n",
    "        lambda_dot_dgdm[j] += lamda[i][j] * (K@u[i])[j]\n",
    "```\n",
    "This has the problem that the same matrix-vector products `K@u[i]` for \n",
    "every timestep i, get repeated for every gridpoint, which will make\n",
    "it very slow.  One way to solve this is to compute the Nt matrix-vector\n",
    "products first and store them in a list before the j-loop so they can be \n",
    "reused inside the loop.\n",
    "\n",
    "A more compact implementation is obtained by swapping the j and i-loops. We can\n",
    "then recognize the now _inner_ j-loop as implementing an element-wise product\n",
    "and sum which we could also perform using products and sums of numpy arrays.\n",
    "This is done in the following full solution for dfdm below:\n",
    "```python\n",
    "    def dfdm(m):\n",
    "        u = diffusion_model(Nx, Ny, m, u0, Nt)\n",
    "        lam = backward_model(Nx, Ny, m, Nt, u[-1])\n",
    "        K = K_matrix(Nx, Ny)\n",
    "        lambda_dot_dgdm = np.zeros(Nx*Ny)\n",
    "        for i in range(Nt):\n",
    "            lambda_dot_dgdm += delta_t * lam[i] * (K @ u[i])\n",
    "        return -lambda_dot_dgdm\n",
    "```\n",
    "Note that the function takes Nx, Ny, Nt, and u0 from outside the function. This\n",
    "is allowed because these are considered fixed in this problem. What is not\n",
    "correct is to take the forward solution u from outside the function because\n",
    "that depends on m, so the diffusion_model() needs to be rerun inside dfdm()\n",
    "using the provided value of m, and similarly the backward_model needs to be\n",
    "rerun using the end state of that last forward run.\n",
    "\n",
    "*****************************************"
   ]
  },
  {
   "cell_type": "code",
   "execution_count": 1,
   "metadata": {},
   "outputs": [],
   "source": [
    "# needs to be in separate cell!\n",
    "%matplotlib inline"
   ]
  },
  {
   "cell_type": "code",
   "execution_count": 2,
   "metadata": {},
   "outputs": [],
   "source": [
    "import numpy as np\n",
    "import matplotlib.pyplot as plt\n",
    "# the following allows us to plot triangles indicating convergence order\n",
    "from mpltools import annotation\n",
    "# scipy's optimization\n",
    "import scipy.optimize as sop\n",
    "import scipy.linalg as sl\n",
    "import scipy.sparse as sp\n",
    "import scipy.sparse.linalg as spl\n",
    "\n",
    "# font sizes for plots\n",
    "plt.rcParams['font.size'] = 16\n",
    "plt.rcParams['font.family'] = 'sans-serif'\n",
    "plt.rcParams['font.sans-serif'] = ['Arial', 'Dejavu Sans']"
   ]
  },
  {
   "cell_type": "markdown",
   "metadata": {},
   "source": [
    "# Question B1\n",
    "\n",
    "* What is your recommendation for a Krylov Subspace method to solve this linear system. Describe in one or two sentences why this method requires the matrix to be SPD.\n",
    "\n",
    "***"
   ]
  },
  {
   "cell_type": "markdown",
   "metadata": {},
   "source": [
    "## Answer <a class=\"tocSkip\"></a>\n",
    "For SPD matrices the Conjugate Gradient method is *the* recommended iterative method. Additionally, although not explicitly asked for, students could mention preconditioning with a SPD preconditioner. \n",
    "\n",
    "A number of correct answers possible for why this method requires the matrix to be SPD (one is sufficient):\n",
    "* It is based on the premise that the subsequent search directions should be A-orthogonal (i.e. orthogonal with respect to the inner product induced by the matrix), this is in order to ensure that the method is optimal in the sense that in each iteration the chosen point is closest in the norm induced by the matrix (A-norm). This inner product/norm induced by the matrix is only well defined if the matrix is SPD.\n",
    "* The coeffient alpha has a $\\vec r^T\\mat A\\vec r$ in its denominator which would go to zero if $\\mat A$ is not definite. This answer alone is insufficient as it doesn't require symmetry or positiveness, just definiteness\n",
    "* An argument based on the fact that the CG method is based on a minimisation principle of $f(\\vec x)=\\tfrac 12\\vec x^T\\mat A\\vec x - \\vec b^T\\vec x$ which only has a unique local minimum when $\\mat A$ is SPD. For full marks you need to roughly indicate what goes wrong when $\\mat A$ is not, e.g. not having a local mimimum along the search direction. Just saying \"$f$ does not have a unique local minimum\" is not sufficient, as we're not solving for a local minimum but for a solution to $\\mat A\\vec x=\\vec b$.\n",
    "* The CG method is based on minimizing the error in the A-norm in the Krylov Subspace, without $\\mat A$ being SPD there is no such minimum."
   ]
  },
  {
   "cell_type": "markdown",
   "metadata": {},
   "source": [
    "# Question B2\n",
    "\n",
    "\n",
    "Note that for the rows associated with interior points, we have\n",
    "\n",
    "$$\n",
    "  \\sum_{j=1}^n K_{ij} = 0\n",
    "$$\n",
    "\n",
    "i.e. the sum of the entries in each interior row is zero. If we apply Neumann (instead of Dirichlet) boundary conditions, the same is true for all rows: both boundary and interior rows sum to zero."
   ]
  },
  {
   "cell_type": "markdown",
   "metadata": {},
   "source": [
    "* Is the matrix with Neumann boundary condition still Symmetric Positive Definite? **Hint:** consider a vector $\\vec v$ whose values are all the same: $v_i=C$ for all $i$ with some constant $C$, and compute $\\vec v^T\\mat K\\vec v$. Assuming the matrix is symmetric, and that for all other vectors $\\vec v$ we still have $\\vec v^T\\mat K\\vec v\\gt 0$, what other term *does* apply to this matrix?\n",
    "\n",
    "***"
   ]
  },
  {
   "cell_type": "markdown",
   "metadata": {},
   "source": [
    "## Answer <a class=\"tocSkip\"></a>\n",
    "Following the hint with a vector $\\vec v, v_i=C$:\n",
    "\n",
    "$$\n",
    "  \\vec v^T \\mat K \\vec v = \\sum_{i=1}^n v_i \\sum_{j=1}^n K_{ij} v_j = \\sum_{i=1}^n C \\sum_{j=1}^n K_{ij} C\n",
    "  = C^2 \\sum_{i,j=1}^n K_{ij} = 0\n",
    "$$\n",
    "\n",
    "In combination with the assumption $\\vec v^T \\mat K \\vec v$ for other vectors $\\vec v$, we have:\n",
    "\n",
    "$$\n",
    "  \\vec v^T \\mat K \\vec v \\geq 0\n",
    "$$\n",
    "\n",
    "in other words: *the matrix is Positive Semi-Definite*\n",
    "\n",
    "***"
   ]
  },
  {
   "cell_type": "markdown",
   "metadata": {},
   "source": [
    "# Question B3\n",
    "\n",
    "\n",
    "By adding a time derivative, we can turn this PDE into the diffusion equation\n",
    "\n",
    "$$\n",
    "  \\frac{\\partial u(x,y,t)}{\\partial t} - m \\frac{\\partial^2 u(x,y,t)}{\\partial x^2} - m\\frac{\\partial^2 u(x,y,t)}{\\partial y^2} = 0\n",
    "$$\n",
    "\n",
    "with diffusion coefficient $m$."
   ]
  },
  {
   "cell_type": "markdown",
   "metadata": {},
   "source": [
    "With an implicit time integration (backward Euler) the discrete equation looks like:\n",
    "    \n",
    "$$ \n",
    "\\frac{u_i^{k+1} - u_i^k}{\\Delta t} +\n",
    "m\\frac{-u_{i-1}^{k+1} + 2u_{i}^{k+1} -u_{i+1}^{k+1}}{\\Delta x^2} + m\\frac{-u_{i-N_x}^{k+1} + 2u_{i}^{k+1} - u_{i+N_x}^{k+1}}{\\Delta y^2} = 0 $$\n",
    "\n",
    "where the superscript ${}^{k+1}$ refers to the solution at the end of the timestep, and ${}^k$ to the value at the beginning of the timestep.\n",
    "\n",
    "After multiplying all terms with $\\Delta t$, we can write this discretisation as a linear system\n",
    "\n",
    "$$\n",
    "  \\mat A \\vec u^{k+1} = \\vec u^k\n",
    "$$\n",
    "\n",
    "where the matrix $\\mat A$ is given by\n",
    "\n",
    "$$\n",
    "  \\mat A = \\mat I + m~\\Delta t~\\mat K\n",
    "$$\n",
    "\n",
    "with identity matrix $\\mat I$, and $\\mat K$ the same matrix as we used for Poisson's equation above with Neumann conditions."
   ]
  },
  {
   "cell_type": "markdown",
   "metadata": {},
   "source": [
    "* Using what you already know about $\\mat K$, proof that $\\mat A$ is Symmetric Positive Definite.\n",
    "\n",
    "***"
   ]
  },
  {
   "cell_type": "markdown",
   "metadata": {},
   "source": [
    "## Answer <a class=\"tocSkip\"></a>\n",
    "First, the proof that it is symmetric:\n",
    "\n",
    "$$\n",
    "  \\mat A^T = \\mat I^T + m~\\Delta t~\\mat K^T = \\mat I + m~\\Delta t~\\mat K = \\mat A\n",
    "$$\n",
    "\n",
    "Definiteness follows from\n",
    "\n",
    "\\begin{align*}\n",
    "  \\vec v^T \\mat A\\vec v &= \\vec v^T\\mat I\\vec v + m~\\Delta t\\vec v^T\\mat K \\vec v \\\\\n",
    "    &= \\vec v^T\\vec v + m~\\Delta t\\vec v^T\\mat K \\vec v\n",
    "\\end{align*}\n",
    "\n",
    "where the first term is strictly positive for nonzero $\\vec v$, and the second term is 0 or positive due to $\\mat K$ being positive semi-definite. Therefore\n",
    "\n",
    "\\begin{align*}\n",
    "  \\vec v^T \\mat A\\vec v \\gt 0\n",
    "\\end{align*}\n",
    "\n",
    "for all nonzero $\\vec v$, which proofs that $\\mat A$ is Positive Definite.\n",
    "\n",
    "***"
   ]
  },
  {
   "cell_type": "markdown",
   "metadata": {},
   "source": [
    "# Question B4\n",
    "\n",
    "We consider the use of dense vs. sparse matrices in solving this system. We use the Conjugate Gradient method to solve the linear system above on a series of computational grids where we increase the resolution and thus the number of grid points $n=N_x\\cdot N_y$. We record the average time the CG method takes to perform a single iteration with the results displayed in the graph below. Describe the difference in terms of scaling for the case with dense matrices and the case with sparse matrices, and explain the reason why these differences can be observed. You only need to describe the asymptotic behaviour."
   ]
  },
  {
   "cell_type": "markdown",
   "metadata": {},
   "source": [
    "<img src='graph1.png'></img>\n",
    "\n",
    "***"
   ]
  },
  {
   "cell_type": "markdown",
   "metadata": {},
   "source": [
    "## Answer <a class=\"tocSkip\"></a>\n",
    "The scaling of the computational cost of a single iteration appears to be quadratic for dense matrices, and linear for sparse matrices. This is because each iteration is dominated (\\*) by the cost of a matrix vector multiplication, which is quadratic for dense matrices because we have to multiply the $n\\times n$ matrix entries with the vector entries, whereas for a sparse matrix with a finite (in this case 5) nonzero entries per row, the total number of nonzero entries in the matrix grows linear with $n$ (the number of rows), and thus also the cost of a matrix vector multiplication.\n",
    "\n",
    "(\\*) to be precise: the cost of the other operations are at most linear\n",
    "\n",
    "***"
   ]
  },
  {
   "cell_type": "markdown",
   "metadata": {},
   "source": [
    "# Question B5\n",
    "\n",
    "As a stopping criterion we use a relative tolerance $\\epsilon_{\\text{rel}}=10^{-5}$. In the next two figures, we show the overall time for the Conjugate Gradient algorithm to converge with that criterion, and the number of iterations it takes. Only the results with a sparse matrix are shown. Again describe and explain the asymptotic behaviour of both graphs. You do not need to explain the slope of 0.5 in the right-hand figure. Given that we can observe a slope of 0.5 however, what is your expectation of the scaling between the condition number of the matrix and $n$?"
   ]
  },
  {
   "cell_type": "markdown",
   "metadata": {},
   "source": [
    "<img src=\"graph2.png\"></img>\n",
    "\n",
    "***"
   ]
  },
  {
   "cell_type": "markdown",
   "metadata": {},
   "source": [
    "## Answer <a class=\"tocSkip\"></a>\n",
    "In the left graph we see the computational cost scaling roughly at order 1.5, which is more than the scaling of the cost per iteration. This is due to the fact that the number of iterations goes up with increasing problem size $n$, as we can see on the right. This in turn is caused by an increasing condition number as we increase the resolution of our problem. It appears that the condition number is in fact scaling linearly with problem size, as we know that the number of iterations for CG scales with the square root of the condition number.\n",
    "\n",
    "The linear scaling of the condition number with problem size does not need to be explained here, but is due to the fact that for smaller $\\Delta x$ the $\\mat K$ term becomes dominant (with respect to the $\\mat I$-term). Even if, as we have done in our timings, we also half the timestep, the over all factor is $\\Delta t/\\Delta x^2$, so that the $\\mat K$ still becomes dominant. The scaling of the condition number of the Poisson matrix $\\mat K$ is explained in an optional section of lecture 5: $\\kappa \\sim 1/\\Delta x^2$ (because it scales with the square of the ratio between smallest and largest length scale) and $\\Delta x \\sim 1/N_x=1/\\sqrt{n}$, thus $\\kappa\\sim n$.\n",
    "***"
   ]
  },
  {
   "cell_type": "markdown",
   "metadata": {},
   "source": [
    "# Question B6\n",
    "\n",
    "We also measured the computational time for solving the linear system with a sparse direct method (not shown). We notice that the scaling of the computational time with the problem size $n$ was worse that linear. Explain why this is to be expected. Do you expect the scaling to be better, the same, or even worse when solving the same equation in three dimensions? Explain why.\n",
    "\n",
    "***"
   ]
  },
  {
   "cell_type": "markdown",
   "metadata": {},
   "source": [
    "## Answer <a class=\"tocSkip\"></a>\n",
    "The reason that the computational cost is more than linear is fill-in. Although with a fixed number of nonzeros per row, one might expect that for each row one only needs to do a limited number of row operations, and that the cost of each row operation is fixed - due to the fact that new nonzeros are created (fill-in) during these operations, the number of required row operations and the cost per row operation in fact increases gradually. The amount of fill-in is related to the nonzero structure of the matrix, with fill-in occuring inbetween the furthest away nonzero entries on a row. Since in three dimensions the distance between the furthest away nonzero entries increases, we expect the scaling to be even worse than in 2D.\n",
    "***"
   ]
  },
  {
   "cell_type": "markdown",
   "metadata": {},
   "source": [
    "# Question B7\n",
    "\n",
    "We decide to use the tangent-linear approach to compute the gradient of the reduced functional. Consider a perturbation $\\delta m$ in the diffusion coefficient $m$, show that the perturbation $\\delta u(x,y,t)$ to the solution $u(x,y,t)$ satisfies the following PDE\n",
    "\n",
    "$$\n",
    "      \\frac{\\partial \\delta u(x,y,t)}{\\partial t} -m\\frac{\\partial^2 \\delta u(x,y,t)}{\\partial x^2} - m\\frac{\\partial^2 \\delta u(x,y,t)}{\\partial y^2} =\n",
    "      \\delta m\\frac{\\partial^2 u(x,y,t)}{\\partial x^2} + \\delta m\\frac{\\partial^2 u(x,y,t)}{\\partial y^2}      \n",
    "$$\n",
    "\n",
    "with initial condition\n",
    "\n",
    "$$\n",
    "  \\delta u(x,y,0) = 0\n",
    "$$\n",
    "\n",
    "and boundary conditions\n",
    "\n",
    "\\begin{align*}\n",
    "    \\frac{\\partial u(x,y,t)}{\\partial x} &= 0 & \\text{ for } x=0\\text{ or x=L, and } y\\in [0,H] \\\\\n",
    "    \\frac{\\partial u(x,y,t)}{\\partial y} &= 0 &\n",
    "    \\text{ for } y=0\\text{ or y=H, and } x\\in [0,L]\n",
    "\\end{align*}\n",
    "\n",
    "***"
   ]
  },
  {
   "cell_type": "markdown",
   "metadata": {},
   "source": [
    "## Answer <a class=\"tocSkip\"></a>\n",
    "The tangent linear approach is based on the fact that $g(u(m), m)=0$ for all $m$, and thus\n",
    "\n",
    "$$\n",
    "  \\frac{\\mathrm{d}g(u(m), m)}{\\mathrm{d}m} = \n",
    "  \\frac{\\partial g(u, m)}{\\partial u}\n",
    "  \\frac{\\partial u(m)}{\\partial m} + \\frac{\\partial g(u, m)}{\\partial m} = 0\n",
    "$$\n",
    "\n",
    "or with $\\delta u = \\partial u/\\partial m \\cdot \\delta m$:\n",
    "\n",
    "$$\n",
    "  \\frac{\\partial g(u, m)}{\\partial u}\n",
    "  \\delta u = -\\frac{\\partial g(u, m)}{\\partial m}\\delta m\n",
    "$$\n",
    "\n",
    "(this is the tangent linear equation that doesn't need to rederived). Now we simply work out the left-hand and right-hand side of that equation:\n",
    "\n",
    "$$\n",
    "  \\begin{pmatrix}\n",
    "    \\frac{\\partial \\delta u(x,y,t)}{\\partial t} -m\\frac{\\partial^2 \\delta u(x,y,t)}{\\partial x^2} - m\\frac{\\partial^2 \\delta u(x,y,t)}{\\partial y^2}  \\\\\n",
    "    \\delta u(x, y, 0) \\\\\n",
    "    \\frac{\\partial \\delta u(x,y,t)}{\\partial x}  \\\\\n",
    "    \\frac{\\partial \\delta u(x,y,t)}{\\partial y} \n",
    "  \\end{pmatrix}\n",
    "  =\n",
    "  \\begin{pmatrix} \n",
    "\\delta m\\frac{\\partial^2 u(x,y,t)}{\\partial x^2} + \\delta m\\frac{\\partial^2 u(x,y,t)}{\\partial y^2} \\\\ \\phantom{\\frac{\\partial u}{\\partial x}} 0 \\phantom{\\frac{\\partial u}{\\partial x}} \\\\\n",
    "  \\phantom{\\frac{\\partial u}{\\partial x}} 0 \\phantom{\\frac{\\partial u}{\\partial x}} \\\\\n",
    "  \\phantom{\\frac{\\partial u}{\\partial x}} 0 \\phantom{\\frac{\\partial u}{\\partial x}} \n",
    "  \\end{pmatrix}\n",
    "  \\begin{array}{l}\n",
    "\\text{ for } (x,y)\\in [0,L]\\times[0,H], t \\in [0,T] \\phantom{\\frac{\\partial^2}{\\partial x}} \\\\\n",
    "\\text{ for } (x,y)\\in [0,L]\\times[0,H] \\phantom{\\frac{\\partial u}{\\partial x}} \\\\\n",
    "    \\text{ for } x=0\\text{ or x=L, and } y\\in [0,H], t \\in [0,T] \\phantom{\\frac{\\partial u}{\\partial x}} \\\\\n",
    "    \\text{ for } y=0\\text{ or y=H, and } x\\in [0,L], t \\in [0,T]\n",
    "  \\end{array},\n",
    "$$\n",
    "\n",
    "which gives us respectively the PDE, the initial condition and boundary conditions for $\\delta u$.\n",
    "\n",
    "***"
   ]
  },
  {
   "cell_type": "markdown",
   "metadata": {},
   "source": [
    "# Question B8\n",
    "\n",
    "Write a test that verifies that the gradient `dudm` computed using the tangent linear model is correct. You may reuse code from the lecture notes, but be aware that $m$ is just a single scalar and not an array, so you may have to adjust the code.\n",
    "\n",
    "***"
   ]
  },
  {
   "cell_type": "markdown",
   "metadata": {},
   "source": [
    "## Answer <a class=\"tocSkip\"></a>\n",
    "The appropriate test to test a gradient function is the Taylor test, we adapt the `taylor_test` function to work for one-dimensional derivatives:"
   ]
  },
  {
   "cell_type": "code",
   "execution_count": 11,
   "metadata": {},
   "outputs": [],
   "source": [
    "def taylor_test(f, grad_f, x, h0, max_iter=10, plot_convergence=True, print_convergence=True):\n",
    "    \"\"\"Taylor test to verify that the function grad_f is the derivative of the function `f`\n",
    "    \n",
    "    We test:\n",
    "    \n",
    "       f(x + h) = f(x) + grad_f(x).h + O(h^2)\n",
    "    \n",
    "    f, grad_f  - function and its derivative to test\n",
    "    x          - point in which to test\n",
    "    h0         - initial perturbation\n",
    "    max_iter   - number of times that h is halved\n",
    "    plot_convergence - whether to plot the convergence of the Taylor residual f(x+h)-f(x)-grad_f(x).h\n",
    "    print_convergence - prints the order of convergence between subsequent iterations.\"\"\"\n",
    "\n",
    "\n",
    "    h = h0\n",
    "    residuals = []\n",
    "    hs = []\n",
    "    fx = f(x)\n",
    "    dfdx = grad_f(x)\n",
    "    for i in range(max_iter):\n",
    "        r = f(x+h) - fx - dfdx * h\n",
    "        residuals.append(sl.norm(r))\n",
    "        hs.append(h)\n",
    "        h /= 2.\n",
    "\n",
    "    if plot_convergence:\n",
    "        fig, ax = plt.subplots(1,2, figsize=(16,4))\n",
    "        ax[0].semilogy(residuals)\n",
    "        ax[0].set_xlabel('iteration')\n",
    "        ax[0].set_ylabel('Taylor residual $|r|$')\n",
    "        ax[0].set_xticks(range(0,max_iter,2))\n",
    "        ax[1].loglog(hs, residuals)\n",
    "        ax[1].set_xlabel('perturbation size $\\|h\\|$')\n",
    "        ax[1].set_ylabel('Taylor residual $|r|$')\n",
    "\n",
    "        # NOTE: slope_marker does not seem to work in semilogy plots\n",
    "        annotation.slope_marker((1e-3, 1e-4), (2, 1), invert=True, ax=ax[1], size_frac=.2)\n",
    "\n",
    "    if print_convergence:\n",
    "        residuals = np.array(residuals)\n",
    "        print('Order of convergence, log(r(h_i)/r(h_{i+1}))/log(2):')\n",
    "        print(np.log(residuals[:-1]/residuals[1:])/np.log(2))"
   ]
  },
  {
   "cell_type": "markdown",
   "metadata": {},
   "source": [
    "Applying this to `dudm`:"
   ]
  },
  {
   "cell_type": "code",
   "execution_count": 12,
   "metadata": {},
   "outputs": [
    {
     "name": "stdout",
     "output_type": "stream",
     "text": [
      "Order of convergence, log(r(h_i)/r(h_{i+1}))/log(2):\n",
      "[1.95781965 1.97840721 1.98907331 1.99450348 1.99724337 1.99861958\n",
      " 1.99930926 1.99965451 1.99982717]\n"
     ]
    },
    {
     "data": {
      "image/png": "[encoded data removed]",
      "text/plain": [
       "<Figure size 1152x288 with 2 Axes>"
      ]
     },
     "metadata": {
      "needs_background": "light"
     },
     "output_type": "display_data"
    }
   ],
   "source": [
    "m0 = np.random.random()  # random number between 0 and 1\n",
    "h = .1*m0\n",
    "taylor_test(u, dudm, m0, h)"
   ]
  },
  {
   "cell_type": "markdown",
   "metadata": {},
   "source": [
    "which shows the expected 2nd order convergence of the Taylor residual\n",
    "\n",
    "***"
   ]
  },
  {
   "cell_type": "markdown",
   "metadata": {},
   "source": [
    "# Question B9\n",
    "\n",
    "Write a python function `dfdm` that computes:\n",
    "$$\n",
    "  \\frac{\\mathrm{d}f(\\vec u(m))}{\\mathrm{d}m} = \\left.\\frac{\\partial f(\\vec u)}{\\partial\\vec u}\\right|_{\\vec u=\\vec u(m)}\\cdot\\frac{\\mathrm{d}\\vec u}{\\mathrm{d}m}\n",
    "$$\n",
    "Write a test that verifies the gradient is correct.\n",
    "\n",
    "***"
   ]
  },
  {
   "cell_type": "markdown",
   "metadata": {},
   "source": [
    "## Answer <a class=\"tocSkip\"></a>\n",
    "Our implementation is based on the fact that\n",
    "\n",
    "$$\n",
    "  \\frac{\\partial f(\\vec u)}{\\partial\\vec u} = 2\\left(\\vec u - \\vec u_{\\text{end}}\\right)\n",
    "$$\n",
    "\n",
    "Thus:"
   ]
  },
  {
   "cell_type": "code",
   "execution_count": 16,
   "metadata": {},
   "outputs": [],
   "source": [
    "def dfdm(m):\n",
    "    return 2*(u(m)-u_end) @ dudm(m)"
   ]
  },
  {
   "cell_type": "code",
   "execution_count": 17,
   "metadata": {},
   "outputs": [
    {
     "name": "stdout",
     "output_type": "stream",
     "text": [
      "Order of convergence, log(r(h_i)/r(h_{i+1}))/log(2):\n",
      "[1.9563651  1.97758342 1.98863457 1.99427702 1.99712832 1.9985616\n",
      " 1.99928013 1.99963984 1.99982013]\n"
     ]
    },
    {
     "data": {
      "image/png": "[encoded data removed]",
      "text/plain": [
       "<Figure size 1152x288 with 2 Axes>"
      ]
     },
     "metadata": {
      "needs_background": "light"
     },
     "output_type": "display_data"
    }
   ],
   "source": [
    "m0 = np.random.random()  # random number between 0 and 1\n",
    "h = .1*m0\n",
    "taylor_test(fhat, dfdm, m0, h)"
   ]
  },
  {
   "cell_type": "markdown",
   "metadata": {},
   "source": [
    "Again showing second order convergence as expected\n",
    "\n",
    "***"
   ]
  },
  {
   "cell_type": "markdown",
   "metadata": {},
   "source": [
    "# Question B10\n",
    "\n",
    "What is the specific name of the algorithm implemented here? Why can we not use the standard Newton method? Use the above code to find the value of $m$ that was used to blur the photo. You will find that your initial guess needs to be roughly between 1 and 5. The algorithm does not converge for many values outside that range. Is this to be expected, and how could we improve it? (You do not need to actually implement this improvement)"
   ]
  },
  {
   "cell_type": "markdown",
   "metadata": {},
   "source": [
    "## Answer <a class=\"tocSkip\"></a>\n",
    "We cannot use the standard (pure) Newton method because it requires the second derivative which we do not have available. We recognize the approximation of the second derivative as the one-dimensional secant method.\n",
    "\n",
    "We try an initial guess of $m=1$:"
   ]
  },
  {
   "cell_type": "code",
   "execution_count": 20,
   "metadata": {},
   "outputs": [
    {
     "name": "stdout",
     "output_type": "stream",
     "text": [
      "Iteration 0, value: 3.0666892279566356\n",
      "Iteration 1, value: 3.085694265533108\n",
      "Iteration 2, value: 3.1398128470617945\n",
      "Iteration 3, value: 3.1415475738710423\n",
      "Iteration 4, value: 3.141589967643482\n"
     ]
    },
    {
     "data": {
      "text/plain": [
       "3.141589967643482"
      ]
     },
     "execution_count": 20,
     "metadata": {},
     "output_type": "execute_result"
    }
   ],
   "source": [
    "optimize(dfdm, 1)"
   ]
  },
  {
   "cell_type": "markdown",
   "metadata": {},
   "source": [
    "we conclude that the value of $m$ that was originally used $m\\approx 3.14159$. (students that retrieve a different value because they have rerun the code above and overwritten rsm-blurred.npy still get full marks)\n",
    "\n",
    "We also try an initial guess of $m=10$ (not asked):"
   ]
  },
  {
   "cell_type": "code",
   "execution_count": 21,
   "metadata": {},
   "outputs": [
    {
     "name": "stdout",
     "output_type": "stream",
     "text": [
      "Iteration 0, value: 9.69525064660023\n",
      "Iteration 1, value: 118.04126509084288\n",
      "Iteration 2, value: 166.92727029869383\n",
      "Iteration 3, value: 447.20121648249517\n",
      "Iteration 4, value: 1644.9275116733206\n",
      "Iteration 5, value: 2737.596986534735\n",
      "Iteration 6, value: 3506.440408792596\n",
      "Iteration 7, value: 4471.72613083168\n",
      "Iteration 8, value: 5469.731867642392\n",
      "Iteration 9, value: 6595.526486847071\n",
      "Iteration 10, value: 7831.5848472987755\n",
      "Iteration 11, value: 9207.819394495571\n",
      "Iteration 12, value: 10734.882150868647\n"
     ]
    },
    {
     "ename": "KeyboardInterrupt",
     "evalue": "",
     "output_type": "error",
     "traceback": [
      "\u001b[0;31m---------------------------------------------------------------------------\u001b[0m",
      "\u001b[0;31mKeyboardInterrupt\u001b[0m                         Traceback (most recent call last)",
      "\u001b[0;32m<ipython-input-21-cb670d662502>\u001b[0m in \u001b[0;36m<module>\u001b[0;34m\u001b[0m\n\u001b[0;32m----> 1\u001b[0;31m \u001b[0moptimize\u001b[0m\u001b[0;34m(\u001b[0m\u001b[0mdfdm\u001b[0m\u001b[0;34m,\u001b[0m \u001b[0;36m10\u001b[0m\u001b[0;34m)\u001b[0m\u001b[0;34m\u001b[0m\u001b[0;34m\u001b[0m\u001b[0m\n\u001b[0m",
      "\u001b[0;32m<ipython-input-19-35305d1b00cb>\u001b[0m in \u001b[0;36moptimize\u001b[0;34m(dfdm, m0)\u001b[0m\n\u001b[1;32m      7\u001b[0m     \u001b[0mm_i\u001b[0m \u001b[0;34m=\u001b[0m \u001b[0mm0\u001b[0m\u001b[0;34m\u001b[0m\u001b[0;34m\u001b[0m\u001b[0m\n\u001b[1;32m      8\u001b[0m     \u001b[0;32mfor\u001b[0m \u001b[0mi\u001b[0m \u001b[0;32min\u001b[0m \u001b[0mrange\u001b[0m\u001b[0;34m(\u001b[0m\u001b[0;36m100\u001b[0m\u001b[0;34m)\u001b[0m\u001b[0;34m:\u001b[0m  \u001b[0;31m# fixed number of maximum iterations\u001b[0m\u001b[0;34m\u001b[0m\u001b[0;34m\u001b[0m\u001b[0m\n\u001b[0;32m----> 9\u001b[0;31m         \u001b[0mgradf_i\u001b[0m \u001b[0;34m=\u001b[0m \u001b[0mdfdm\u001b[0m\u001b[0;34m(\u001b[0m\u001b[0mm_i\u001b[0m\u001b[0;34m)\u001b[0m\u001b[0;34m\u001b[0m\u001b[0;34m\u001b[0m\u001b[0m\n\u001b[0m\u001b[1;32m     10\u001b[0m         \u001b[0;31m# stopping criterion\u001b[0m\u001b[0;34m\u001b[0m\u001b[0;34m\u001b[0m\u001b[0;34m\u001b[0m\u001b[0m\n\u001b[1;32m     11\u001b[0m         \u001b[0;32mif\u001b[0m \u001b[0mabs\u001b[0m\u001b[0;34m(\u001b[0m\u001b[0mgradf_i\u001b[0m\u001b[0;34m)\u001b[0m \u001b[0;34m<\u001b[0m \u001b[0;36m1e-5\u001b[0m\u001b[0;34m:\u001b[0m\u001b[0;34m\u001b[0m\u001b[0;34m\u001b[0m\u001b[0m\n",
      "\u001b[0;32m<ipython-input-16-09ea3ba37625>\u001b[0m in \u001b[0;36mdfdm\u001b[0;34m(m)\u001b[0m\n\u001b[1;32m      2\u001b[0m \u001b[0mh\u001b[0m \u001b[0;34m=\u001b[0m \u001b[0;36m.1\u001b[0m\u001b[0;34m*\u001b[0m\u001b[0mm0\u001b[0m\u001b[0;34m\u001b[0m\u001b[0;34m\u001b[0m\u001b[0m\n\u001b[1;32m      3\u001b[0m \u001b[0;32mdef\u001b[0m \u001b[0mdfdm\u001b[0m\u001b[0;34m(\u001b[0m\u001b[0mm\u001b[0m\u001b[0;34m)\u001b[0m\u001b[0;34m:\u001b[0m\u001b[0;34m\u001b[0m\u001b[0;34m\u001b[0m\u001b[0m\n\u001b[0;32m----> 4\u001b[0;31m     \u001b[0;32mreturn\u001b[0m \u001b[0;36m2\u001b[0m\u001b[0;34m*\u001b[0m\u001b[0;34m(\u001b[0m\u001b[0mu\u001b[0m\u001b[0;34m(\u001b[0m\u001b[0mm\u001b[0m\u001b[0;34m)\u001b[0m\u001b[0;34m-\u001b[0m\u001b[0mu_end\u001b[0m\u001b[0;34m)\u001b[0m \u001b[0;34m@\u001b[0m \u001b[0mdudm\u001b[0m\u001b[0;34m(\u001b[0m\u001b[0mm\u001b[0m\u001b[0;34m)\u001b[0m\u001b[0;34m\u001b[0m\u001b[0;34m\u001b[0m\u001b[0m\n\u001b[0m",
      "\u001b[0;32m<ipython-input-10-3d58a717261d>\u001b[0m in \u001b[0;36mdudm\u001b[0;34m(m)\u001b[0m\n\u001b[1;32m     13\u001b[0m     \"\"\"Compute gradient of solution u wrt diffusion coefficient m. Keep all other inputs fixed\n\u001b[1;32m     14\u001b[0m     Keep all other inputs fixed (Nx, Ny, delta_x=1, Nt=5, etc)\"\"\"\n\u001b[0;32m---> 15\u001b[0;31m     \u001b[0mdu\u001b[0m \u001b[0;34m=\u001b[0m \u001b[0mtangent_linear_model\u001b[0m\u001b[0;34m(\u001b[0m\u001b[0mNx\u001b[0m\u001b[0;34m,\u001b[0m \u001b[0mNy\u001b[0m\u001b[0;34m,\u001b[0m \u001b[0mm\u001b[0m\u001b[0;34m,\u001b[0m \u001b[0mu0\u001b[0m\u001b[0;34m,\u001b[0m \u001b[0mNt\u001b[0m\u001b[0;34m)\u001b[0m\u001b[0;34m\u001b[0m\u001b[0;34m\u001b[0m\u001b[0m\n\u001b[0m\u001b[1;32m     16\u001b[0m     \u001b[0;32mreturn\u001b[0m \u001b[0mdu\u001b[0m\u001b[0;34m\u001b[0m\u001b[0;34m\u001b[0m\u001b[0m\n",
      "\u001b[0;32m<ipython-input-9-eba4f002497d>\u001b[0m in \u001b[0;36mtangent_linear_model\u001b[0;34m(Nx, Ny, kappa, u0, Nt, delta_t, delta_x, delta_m)\u001b[0m\n\u001b[1;32m     16\u001b[0m     \u001b[0mdu\u001b[0m \u001b[0;34m=\u001b[0m \u001b[0mnp\u001b[0m\u001b[0;34m.\u001b[0m\u001b[0mzeros_like\u001b[0m\u001b[0;34m(\u001b[0m\u001b[0mu\u001b[0m\u001b[0;34m)\u001b[0m\u001b[0;34m\u001b[0m\u001b[0;34m\u001b[0m\u001b[0m\n\u001b[1;32m     17\u001b[0m     \u001b[0;32mfor\u001b[0m \u001b[0mi\u001b[0m \u001b[0;32min\u001b[0m \u001b[0mrange\u001b[0m\u001b[0;34m(\u001b[0m\u001b[0mNt\u001b[0m\u001b[0;34m)\u001b[0m\u001b[0;34m:\u001b[0m\u001b[0;34m\u001b[0m\u001b[0;34m\u001b[0m\u001b[0m\n\u001b[0;32m---> 18\u001b[0;31m         \u001b[0mu\u001b[0m \u001b[0;34m=\u001b[0m \u001b[0mspl\u001b[0m\u001b[0;34m.\u001b[0m\u001b[0mspsolve\u001b[0m\u001b[0;34m(\u001b[0m\u001b[0mA\u001b[0m\u001b[0;34m,\u001b[0m \u001b[0mu\u001b[0m\u001b[0;34m)\u001b[0m\u001b[0;34m\u001b[0m\u001b[0;34m\u001b[0m\u001b[0m\n\u001b[0m\u001b[1;32m     19\u001b[0m         \u001b[0mdu\u001b[0m \u001b[0;34m=\u001b[0m \u001b[0mspl\u001b[0m\u001b[0;34m.\u001b[0m\u001b[0mspsolve\u001b[0m\u001b[0;34m(\u001b[0m\u001b[0mA\u001b[0m\u001b[0;34m,\u001b[0m \u001b[0mdu\u001b[0m\u001b[0;34m-\u001b[0m\u001b[0mdelta_t\u001b[0m\u001b[0;34m*\u001b[0m\u001b[0mdelta_m\u001b[0m\u001b[0;34m*\u001b[0m\u001b[0;34m(\u001b[0m\u001b[0mK\u001b[0m \u001b[0;34m@\u001b[0m \u001b[0mu\u001b[0m\u001b[0;34m)\u001b[0m\u001b[0;34m)\u001b[0m\u001b[0;34m\u001b[0m\u001b[0;34m\u001b[0m\u001b[0m\n\u001b[1;32m     20\u001b[0m     \u001b[0;32mreturn\u001b[0m \u001b[0mdu\u001b[0m\u001b[0;34m\u001b[0m\u001b[0;34m\u001b[0m\u001b[0m\n",
      "\u001b[0;32m~/venv/acse-7/lib/python3.7/site-packages/scipy/sparse/linalg/dsolve/linsolve.py\u001b[0m in \u001b[0;36mspsolve\u001b[0;34m(A, b, permc_spec, use_umfpack)\u001b[0m\n\u001b[1;32m    194\u001b[0m             \u001b[0moptions\u001b[0m \u001b[0;34m=\u001b[0m \u001b[0mdict\u001b[0m\u001b[0;34m(\u001b[0m\u001b[0mColPerm\u001b[0m\u001b[0;34m=\u001b[0m\u001b[0mpermc_spec\u001b[0m\u001b[0;34m)\u001b[0m\u001b[0;34m\u001b[0m\u001b[0;34m\u001b[0m\u001b[0m\n\u001b[1;32m    195\u001b[0m             x, info = _superlu.gssv(N, A.nnz, A.data, A.indices, A.indptr,\n\u001b[0;32m--> 196\u001b[0;31m                                     b, flag, options=options)\n\u001b[0m\u001b[1;32m    197\u001b[0m             \u001b[0;32mif\u001b[0m \u001b[0minfo\u001b[0m \u001b[0;34m!=\u001b[0m \u001b[0;36m0\u001b[0m\u001b[0;34m:\u001b[0m\u001b[0;34m\u001b[0m\u001b[0;34m\u001b[0m\u001b[0m\n\u001b[1;32m    198\u001b[0m                 \u001b[0mwarn\u001b[0m\u001b[0;34m(\u001b[0m\u001b[0;34m\"Matrix is exactly singular\"\u001b[0m\u001b[0;34m,\u001b[0m \u001b[0mMatrixRankWarning\u001b[0m\u001b[0;34m)\u001b[0m\u001b[0;34m\u001b[0m\u001b[0;34m\u001b[0m\u001b[0m\n",
      "\u001b[0;31mKeyboardInterrupt\u001b[0m: "
     ]
    }
   ],
   "source": [
    "optimize(dfdm, 10)"
   ]
  },
  {
   "cell_type": "markdown",
   "metadata": {},
   "source": [
    "The reason the method does not converge when the initial guess is too far away from the solution, is that Newton's method only guarantees local convergence, i.e. convergence when *close enough* to the solution. To improve this situation, and obtain *global convergence* from any initial guess, we might combine the algorithm with a line search or a trust region method.\n",
    "\n",
    "***"
   ]
  },
  {
   "cell_type": "markdown",
   "metadata": {},
   "source": [
    "# Question B11\n",
    "\n",
    "Show that the matrix $\\mat A$ is *not* symmetric (either by mathematical proof or by experiment), assuming the values of $\\vec m$ are not all the same."
   ]
  },
  {
   "cell_type": "markdown",
   "metadata": {},
   "source": [
    "## Answer <a class=\"tocSkip\"></a>\n",
    "The entries of $\\mat A$ are given by\n",
    "\n",
    "$$\n",
    "  A_{ij} = I_{ij} + \\Delta t m_i K_{ij}\n",
    "$$\n",
    "\n",
    "and swapping the indices, and making use of the fact that $\\mat I$ and $\\mat K$ are symmetric:\n",
    "\n",
    "\\begin{align*}\n",
    "  A_{ji} &= I_{ji} + \\Delta t m_j K_{ji} \\\\\n",
    "  &= I_{ij} + \\Delta t m_j K_{ij}\n",
    "\\end{align*}\n",
    "\n",
    "and thus $A_{ij} \\neq A_{ji}$ if $m_i\\neq m_j$. (**5pt**)\n",
    "\n",
    "Alternatively, we could have shown assymetry for a specific matrix assembled using the code given. (also full points, but only if symmetry is tested properly)\n",
    "***"
   ]
  },
  {
   "cell_type": "markdown",
   "metadata": {},
   "source": [
    "# Question B12\n",
    "\n",
    "We decide to solve this optimisation problem using a gradient-based optimisation algorithm, where the gradient is computed using the adjoint technique. Why can we not use the tangent linear approach as before (efficiently)? What are the three steps we need to take to compute this gradient?"
   ]
  },
  {
   "cell_type": "markdown",
   "metadata": {},
   "source": [
    "## Answer <a class=\"tocSkip\"></a>\n",
    "The reason we cannot use the tangent-linear model is that this would require to solve $\\partial u/\\partial m_i$ for each $m_i$ separately and would therefore be prohibitively expensive.\n",
    "\n",
    "The three steps are (cf section 5 in lecture 7):\n",
    "\n",
    "1. Solve the PDE constraint $g(\\vec u, \\vec m)=0$ to obtain $\\vec u=\\vec u(\\vec m)$. This is done running `diffusion_model`\n",
    "\n",
    "2. Solve the adjoint equation using $\\vec m$ and $u(\\vec m)$ for $\\vlam$, such that $\\frac{\\partial\\mathcal{L}(\\vec u, \\vec m, \\vlam)}{\\partial\\vec u}=0$\n",
    "\n",
    "3. The derivative of the reduced functional is now given by\n",
    "\n",
    "$$\n",
    "  \\frac{d\\hat f(\\vec m)}{d\\vec m} = \\frac{\\partial\\mathcal{L}(\\vec u, \\vec m, \\lambda)}{\\partial\\vec m} = \\frac{\\partial f(\\vec u, \\vec m)}{\\partial\\vec m} - \\vlam^T \\frac{\\partial g(\\vec u, \\vec m)}{\\partial\\vec m}\n",
    "$$\n",
    "\n",
    "***"
   ]
  },
  {
   "cell_type": "markdown",
   "metadata": {},
   "source": [
    "# Question B13\n",
    "\n",
    "Derive the (discrete) adjoint equation for this problem. Work out how the resulting linear system can be solved timestep by timestep. In what order are the timesteps best solved?"
   ]
  },
  {
   "cell_type": "markdown",
   "metadata": {},
   "source": [
    "## Answer <a class=\"tocSkip\"></a>\n",
    "\n",
    "The discrete adjoint equation looks like (cf. section 4.5 of lecture 7):\n",
    "\n",
    "$$\n",
    "  \\left(\\frac{\\partial g(\\vec u, \\vec m)}{\\partial\\vec u}\\right)^T\n",
    "  \\vlam = \\frac{\\partial f(\\vec u, \\vec m)}{\\partial\\vec u}\n",
    "$$\n",
    "\n",
    "The derivative $\\partial g/\\partial u$ is just the big matrix above in $g(\\vec u, \\vec m)$, and thus\n",
    "\n",
    "$$\n",
    "\\left(\\frac{\\partial g(\\vec u, \\vec m)}{\\partial\\vec u}\\right)^T =\n",
    "\\begin{pmatrix}\n",
    "\\mat A^T & -\\mat I & 0 & 0 & \\cdots & 0\\\\\n",
    "0 & \\mat A^T & -\\mat I & 0 &\\cdots & 0\\\\\n",
    "0 & 0 & \\mat A^T & -\\mat I & \\cdots & 0 \\\\\n",
    "\\vdots & \\vdots & \\ddots & \\ddots & \\cdots & 0 \\\\\n",
    "0 & 0 & \\cdots & 0 & \\mat A^T & -\\mat I\\\\\n",
    "0 & 0 & \\cdots &0 & 0 & \\mat A^T\n",
    "\\end{pmatrix}\n",
    "$$\n",
    "\n",
    "The functional only depends on the solution $\\vec u^{N_t}$ in the last timestep, and thus\n",
    "\n",
    "$$\n",
    "  \\frac{\\partial f(\\vec u, \\vec m)}{\\partial\\vec u}\n",
    "  =\n",
    "  \\begin{pmatrix}\n",
    "    0 \\\\ 0 \\\\ \\vdots \\\\\n",
    "    2\\left(\\vec u^{N_t}-\\vec u_{\\text{end}}\\right)\n",
    "  \\end{pmatrix}\n",
    "$$\n",
    "\n",
    "or combined:\n",
    "\n",
    "$$\n",
    "\\begin{pmatrix}\n",
    "\\mat A^T & -\\mat I & 0 & 0 & \\cdots & 0\\\\\n",
    "0 & \\mat A^T & -\\mat I & 0 &\\cdots & 0\\\\\n",
    "0 & 0 & \\mat A^T & -\\mat I & \\cdots & 0 \\\\\n",
    "\\vdots & \\vdots & \\ddots & \\ddots & \\cdots & 0 \\\\\n",
    "0 & 0 & \\cdots & 0 & \\mat A^T & -\\mat I\\\\\n",
    "0 & 0 & \\cdots &0 & 0 & \\mat A^T\n",
    "\\end{pmatrix}\n",
    "\\begin{pmatrix}\n",
    "  \\vlam^1 \\\\\n",
    "  \\vlam^2 \\\\\n",
    "  \\vlam^3 \\\\\n",
    "  \\vdots \\\\\n",
    "  \\vlam^{N_t-1} \\\\\n",
    "  \\vlam^{N_t}\n",
    "\\end{pmatrix} = \n",
    "  \\begin{pmatrix}\n",
    "    0 \\\\ 0 \\\\ 0 \\\\ \\vdots \\\\ 0 \\\\\n",
    "    2\\left(\\vec u^{N_t}-\\vec u_{\\text{end}}\\right)\n",
    "  \\end{pmatrix}\n",
    "$$\n",
    "\n",
    "Because of the upper diagonal block structure, this system can be solved going backwards through the timesteps. We start at the last timestep:\n",
    "\n",
    "$$\n",
    "   \\mat A^T\\vlam^{N_t} = 2\\left(\\vec u^{N_t}-\\vec u_{\\text{end}}\\right)\n",
    "$$\n",
    "\n",
    "and then subsequently:\n",
    "\n",
    "\\begin{align*}\n",
    "   \\mat A^T\\vlam^{N_t-1} - \\vlam^{N_t} = 0 \\\\\n",
    "   \\vdots \\\\\n",
    "   \\mat A^T\\vlam^{2} - \\vlam^{3} = 0 \\\\\n",
    "   \\mat A^T\\vlam^{1} - \\vlam^{2} = 0 \\\\\n",
    "\\end{align*}\n",
    "\n",
    "in other words:\n",
    "\n",
    "$$\n",
    "  \\mat A^T\\vlam^i = \\vlam^{i+1}\n",
    "$$\n",
    "\n",
    "***"
   ]
  },
  {
   "cell_type": "markdown",
   "metadata": {},
   "source": [
    "# Question B14\n",
    "Implement the derivative $\\mathrm{d}\\hat f(\\vec m)/\\mathrm{d}\\vec m$ in a python function `dfdm`. As always, test your derivative: i.e. write a test that verifies that `dfdm` is a derivative of `fhat` above.\n",
    "\n",
    "**Hint**:\n",
    "You may use the following expression:\n",
    "\n",
    "\\begin{align*}\n",
    "  \\left(\\vlam^T \\frac{\\partial g(\\vec u, \\vec m)}{\\partial\\vec m}\\right)_j\n",
    "  =\\sum_{i=1}^{N_t} \\Delta t\\lambda^i_j \\left(\\mat K\\vec u^i\\right)_j\n",
    "\\end{align*}\n",
    "\n",
    "where $\\lambda^i_j$ is the $j$ entry of the adjoint solution $\\vlam^i$ at timestep $i$ (the $j$th entry in the $i$th array of the list of arrays returned by `backward_model`). Note that there is no summation over $j$ in the last expression: the shape of $\\partial g/\\partial\\vec m$ is $(Nt\\cdot n)\\times n$, so $\\vlam^T \\partial g/\\partial\\vec m$ is a $n$-vector whose $j$-th entry is given above. Similarly $(\\mat K\\vec u^i)_j$ means the $j$ entry of the vector given by the matrix-vector multiplication $\\mat K\\vec u^i$ where $\\vec u^i$ is the solution in the $i$-th timestep (returned as a list of arrays by `diffusion_model`)."
   ]
  },
  {
   "cell_type": "markdown",
   "metadata": {},
   "source": [
    "## Answer <a class=\"tocSkip\"></a>\n",
    "\n",
    "We use the formula from step 3 above:\n",
    "\n",
    "$$\n",
    "  \\frac{d\\hat f(\\vec m)}{d\\vec m} = \\frac{\\partial f(\\vec u, \\vec m)}{\\partial\\vec m} - \\vlam^T \\frac{\\partial g(\\vec u, \\vec m)}{\\partial\\vec m}\n",
    "$$\n",
    "\n",
    "where $\\partial f(\\vec u, \\vec m)/\\partial \\vec m=0$.\n",
    "\n",
    "So combined with the hint above:"
   ]
  },
  {
   "cell_type": "code",
   "execution_count": 30,
   "metadata": {},
   "outputs": [],
   "source": [
    "delta_t = 1.0\n",
    "\n",
    "def dfdm(m):\n",
    "    u = diffusion_model(Nx, Ny, m, u0, Nt)\n",
    "    lam = backward_model(Nx, Ny, m, Nt, u[-1])\n",
    "    K = K_matrix(Nx, Ny)\n",
    "    lambda_dot_dgdm = np.zeros(Nx*Ny)\n",
    "    for i in range(Nt):\n",
    "        lambda_dot_dgdm += delta_t * lam[i] * (K @ u[i])\n",
    "    return -lambda_dot_dgdm"
   ]
  },
  {
   "cell_type": "markdown",
   "metadata": {},
   "source": [
    "To test we again use the Taylor test, now in a version that with multi-dimensional inputs (but f is assumed scalar-valued):"
   ]
  },
  {
   "cell_type": "code",
   "execution_count": 31,
   "metadata": {},
   "outputs": [],
   "source": [
    "def taylor_test(f, grad_f, x, h0, max_iter=10, plot_convergence=True, print_convergence=True):\n",
    "    \"\"\"Taylor test to verify that the function grad_f is the derivative of the function `f`\n",
    "    \n",
    "    We test:\n",
    "    \n",
    "       f(x + h) = f(x) + grad_f(x).h + O(h^2)\n",
    "    \n",
    "    f, grad_f  - function and its derivative to test\n",
    "    x          - point in which to test\n",
    "    h0         - initial perturbation\n",
    "    max_iter   - number of times that h is halved\n",
    "    plot_convergence - whether to plot the convergence of the Taylor residual f(x+h)-f(x)-grad_f(x).h\n",
    "    print_convergence - prints the order of convergence between subsequent iterations.\"\"\"\n",
    "\n",
    "\n",
    "    h = h0.copy()\n",
    "    residuals = []\n",
    "    hnorms = []\n",
    "    fx = f(x)\n",
    "    dfdx = grad_f(x)\n",
    "    for i in range(max_iter):\n",
    "        r = f(x+h) - fx - np.dot(dfdx, h)\n",
    "        residuals.append(sl.norm(r))\n",
    "        hnorms.append(sl.norm(h))\n",
    "        h /= 2.\n",
    "\n",
    "    if plot_convergence:\n",
    "        fig, ax = plt.subplots(1,2, figsize=(16,4))\n",
    "        ax[0].semilogy(residuals)\n",
    "        ax[0].set_xlabel('iteration')\n",
    "        ax[0].set_ylabel('Taylor residual $|r|$')\n",
    "        ax[0].set_xticks(range(0,max_iter,2))\n",
    "        ax[1].loglog(hnorms, residuals)\n",
    "        ax[1].set_xlabel('perturbation size $\\|h\\|$')\n",
    "        ax[1].set_ylabel('Taylor residual $|r|$')\n",
    "\n",
    "        # NOTE: slope_marker does not seem to work in semilogy plots\n",
    "        annotation.slope_marker((1e-3, 1e-4), (2, 1), invert=True, ax=ax[1], size_frac=.2)\n",
    "\n",
    "    if print_convergence:\n",
    "        residuals = np.array(residuals)\n",
    "        print('Order of convergence, log(r(h_i)/r(h_{i+1}))/log(2):')\n",
    "        print(np.log(residuals[:-1]/residuals[1:])/np.log(2))"
   ]
  },
  {
   "cell_type": "code",
   "execution_count": 33,
   "metadata": {},
   "outputs": [
    {
     "name": "stdout",
     "output_type": "stream",
     "text": [
      "f(u(m)):  136.59571860946008\n",
      "f(u(m)):  119.14378133015965\n",
      "f(u(m)):  107.36442322255043\n",
      "f(u(m)):  108.22293341109841\n",
      "f(u(m)):  114.6316230051049\n",
      "f(u(m)):  122.0075583874135\n",
      "f(u(m)):  127.93479226281745\n",
      "f(u(m)):  131.82582056579778\n",
      "f(u(m)):  134.08436174303304\n",
      "f(u(m)):  135.30599560368228\n",
      "f(u(m)):  135.94201279933873\n",
      "f(u(m)):  136.2666110758954\n",
      "f(u(m)):  136.43059561675688\n",
      "f(u(m)):  136.51301410254035\n",
      "f(u(m)):  136.55433051484195\n",
      "f(u(m)):  136.57501559076513\n",
      "Order of convergence, log(r(h_i)/r(h_{i+1}))/log(2):\n",
      "[1.19661497 1.31457625 1.46493169 1.62728357 1.76828935 1.86823333\n",
      " 1.92929256 1.96330859 1.98130139 1.99056001 1.99525702 1.99762272\n",
      " 1.99880991 1.99940459]\n"
     ]
    },
    {
     "data": {
      "image/png": "[encoded data removed]",
      "text/plain": [
       "<Figure size 1152x288 with 2 Axes>"
      ]
     },
     "metadata": {
      "needs_background": "light"
     },
     "output_type": "display_data"
    }
   ],
   "source": [
    "m0 = np.random.random(Nx*Ny)\n",
    "h = np.random.random(m0.shape)\n",
    "taylor_test(fhat, dfdm, m0, h, max_iter=15)"
   ]
  }
 ],
 "metadata": {
  "kernelspec": {
   "display_name": "Python 3",
   "language": "python",
   "name": "python3"
  },
  "language_info": {
   "codemirror_mode": {
    "name": "ipython",
    "version": 3
   },
   "file_extension": ".py",
   "mimetype": "text/x-python",
   "name": "python",
   "nbconvert_exporter": "python",
   "pygments_lexer": "ipython3",
   "version": "3.8.5"
  },
  "toc": {
   "base_numbering": 1,
   "nav_menu": {},
   "number_sections": true,
   "sideBar": true,
   "skip_h1_title": false,
   "title_cell": "Table of Contents",
   "title_sidebar": "Contents",
   "toc_cell": false,
   "toc_position": {},
   "toc_section_display": true,
   "toc_window_display": false
  }
 },
 "nbformat": 4,
 "nbformat_minor": 4
}
