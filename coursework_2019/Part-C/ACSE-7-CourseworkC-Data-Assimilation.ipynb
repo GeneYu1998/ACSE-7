{
 "cells": [
  {
   "cell_type": "markdown",
   "metadata": {},
   "source": [
    "# ACSE 7 Data Assimilation assessment\n",
    "\n",
    "_Expected completion time:_\n",
    "- Part I: less than 30 minutes\n",
    "- Part II: less than 2 hours 30 minutes\n",
    "\n",
    "The forced one-dimensional viscous Burgers' equation occurs frequently in fluid dynamics and acoustics. In form it is very similar to the Navier-Stokes equations you saw in ACSE-3,\n",
    "\n",
    "$$ \\frac{\\partial u}{\\partial t} +u\\frac{\\partial u}{\\partial z} = \\nu \\frac{\\partial^2 u}{\\partial z^2} +r(z).$$\n",
    "\n",
    "Here $u$ is the variable of interest, $z$ is the independent variable representing space in the domain and $r(z)$ is a given forcing term. For numerical convenience it is also common to write the advective term $u\\frac{\\partial u}{\\partial z}$ in a conservative form,\n",
    "$$ \\frac{\\partial u}{\\partial t} +\\frac{1}{2}\\frac{\\partial u^2}{\\partial z} = \\nu \\frac{\\partial^2 u}{\\partial z^2} +r(z).$$\n",
    "\n",
    "You have been provided with observational data of $u$ for a number of time levels at $z=5$ and $z=-5$ from a Burger's model system in a periodic domain of period 20. In the region $[-10, 10]$ $r(z)$ takes the form $100\\sin\\left(\\frac{3t}{8}\\right)\\exp(-100z^2)$."
   ]
  },
  {
   "cell_type": "markdown",
   "metadata": {},
   "source": [
    "## Part I\n",
    "\n",
    "Consider the following potential data assimilation strategies:\n",
    "\n",
    "- Multiple 4D-Var assimilation events\n",
    "- Multiple OI assimilation events\n",
    "- A single OI assimilation\n",
    "- A single 4D-Var assimilation\n",
    "- Multiple iterations of the ordinary Kalman filter\n",
    "- Multiple 3D-Var assimialtion events\n",
    "\n",
    "Place the six possible strategies in order from most appropriate to least appropriate in order to generate an accurate forcast at the time $t=100$. For each strategy include a _short_ (i.e one paragraph or less) explanation of why you have placed it where you have."
   ]
  },
  {
   "cell_type": "markdown",
   "metadata": {},
   "source": [
    "#### Insert answer here\n",
    "\n",
    "Most appropriate\n",
    "  1. ..\n",
    "  2. ..\n",
    "  3. ..\n",
    "  4. ..\n",
    "  5. ..\n",
    "  6. ..\n",
    "  \n",
    "Least appropriate"
   ]
  },
  {
   "cell_type": "markdown",
   "metadata": {},
   "source": [
    "## Part II\n",
    "\n",
    "You may assume that the observations are independent, with Gaussian errors with standard deviation 0.05 (at $z=-3$ ) and 0.1 (at $z=3$). The supplied observational data and background error covariance matrix can be loaded using the following code block:"
   ]
  },
  {
   "cell_type": "code",
   "execution_count": 3,
   "metadata": {},
   "outputs": [],
   "source": [
    "# observations data is in array form y[timelevel, location]\n",
    "# where location 0 is z=-5 and location 1 is z=5\n",
    "#\n",
    "# The actual time value is stored in the t_obs array\n",
    "\n",
    "import numpy as np\n",
    "data = np.load('burgers_observations.npz')\n",
    "t_obs = data['t_obs']\n",
    "y = data['y']\n",
    "\n",
    "# B is the (sparse) background error covariance matrix\n",
    "\n",
    "def generate_B_matrix(z):\n",
    "    B = np.empty([len(z), len(z)])\n",
    "    \n",
    "    for _ in range(len(z)):\n",
    "        B[_, :] = 0.2**2*np.exp(-4*(z[_]-z)**2)*((z[_]-z)**2<=4)\n",
    "    return B"
   ]
  },
  {
   "cell_type": "markdown",
   "metadata": {},
   "source": [
    "- Implement your best data assimilation strategy to provide a forecast at $t=100$ for an initial background at $t=0$ of $u=1$ (i.e $x_b$=1) using the observations, background error covariance matrix and observation statistices provided. \n",
    "- Write a short (i.e three paragraph or less) description of your method, and of any potential issues that it will not be able to cope with.\n",
    "\n",
    "For your convenience, you may use the following forecast model, or write your own.\n"
   ]
  },
  {
   "cell_type": "code",
   "execution_count": 2,
   "metadata": {
    "scrolled": true
   },
   "outputs": [
    {
     "data": {
      "image/png": "[encoded data removed]",
      "text/plain": [
       "<Figure size 432x288 with 1 Axes>"
      ]
     },
     "metadata": {
      "needs_background": "light"
     },
     "output_type": "display_data"
    }
   ],
   "source": [
    "%matplotlib inline\n",
    "import numpy as np\n",
    "import matplotlib.pyplot as plt\n",
    "from scipy.linalg import inv\n",
    "\n",
    "z = np.linspace(-10, 10, 61)\n",
    "dz = z[1]-z[0]\n",
    "u = np.full(z.shape, 1.0)\n",
    "nu = 0.4\n",
    "dt = 0.05\n",
    "\n",
    "B = generate_B_matrix(z)\n",
    "\n",
    "## Use forward Euler for the (nonlinear) advection  and Crank-Nicolson for diffusion\n",
    "def rhs(U, dt, t):\n",
    "    out = np.empty(U.shape)\n",
    "    out[0] = U[0]-0.5*dt/dz*(U[1]**2-U[-1]**2-nu*(U[-1]-2*U[0]+U[1])/dz)\n",
    "    out[1:-1] = U[1:-1]-0.5*dt/dz*(U[2:]**2-U[:-2]**2-nu*(U[:-2]-2*U[1:-1]+U[2:])/dz)\n",
    "    out[-1] = U[-1]-0.5*dt/dz*(U[0]**2-U[-2]**2-nu*(U[-2]-2*U[-1]+U[0])/dz)\n",
    "    \n",
    "    return out+dt*10*np.sin(.375*np.pi*(t+0.5*dt))*np.exp(-100*z**2)\n",
    "\n",
    "def lhs_matrix(u, dt):\n",
    "    mat = np.eye(u.shape[0])\n",
    "    mat[0,-1] -= 0.5*dt*nu/dz**2\n",
    "    mat[0, 0] += dt*nu/dz**2\n",
    "    mat[0, 1] -= 0.5*dt*nu/dz**2\n",
    "    for _ in range(1, u.shape[0]-1):\n",
    "        mat[_, _-1] -= 0.5*dt*nu/dz**2\n",
    "        mat[_, _] += dt*nu/dz**2\n",
    "        mat[_, _+1] -= 0.5*dt*nu/dz**2\n",
    "    mat[-1,-2] -= 0.5*dt*nu/dz**2\n",
    "    mat[-1, -1] += dt*nu/dz**2\n",
    "    mat[-1, 0] -= 0.5*dt*nu/dz**2\n",
    "    return mat\n",
    "\n",
    "def burgers_equation(u0, dt, t_final):\n",
    "    t = 0.0\n",
    "    u = u0\n",
    "    out = [u0]\n",
    "    mat = lhs_matrix(u0, dt)\n",
    "    matinv = inv(mat)\n",
    "    while t<t_final:\n",
    "        for _ in range(10):\n",
    "            u = matinv.dot(rhs(u, dt, t))\n",
    "            t += dt\n",
    "        out.append(u)\n",
    "    return out\n",
    "\n",
    "data = burgers_equation(u, dt, 100)\n",
    "plt.plot(z, data[-1]);"
   ]
  },
  {
   "cell_type": "code",
   "execution_count": null,
   "metadata": {},
   "outputs": [],
   "source": [
    "## Add new code cells as needed"
   ]
  }
 ],
 "metadata": {
  "kernelspec": {
   "display_name": "Python 3",
   "language": "python",
   "name": "python3"
  },
  "language_info": {
   "codemirror_mode": {
    "name": "ipython",
    "version": 3
   },
   "file_extension": ".py",
   "mimetype": "text/x-python",
   "name": "python",
   "nbconvert_exporter": "python",
   "pygments_lexer": "ipython3",
   "version": "3.8.5"
  },
  "toc": {
   "base_numbering": 1,
   "nav_menu": {},
   "number_sections": false,
   "sideBar": true,
   "skip_h1_title": false,
   "title_cell": "Table of Contents",
   "title_sidebar": "Contents",
   "toc_cell": false,
   "toc_position": {
    "height": "calc(100% - 180px)",
    "left": "10px",
    "top": "150px",
    "width": "320px"
   },
   "toc_section_display": true,
   "toc_window_display": false
  }
 },
 "nbformat": 4,
 "nbformat_minor": 4
}
