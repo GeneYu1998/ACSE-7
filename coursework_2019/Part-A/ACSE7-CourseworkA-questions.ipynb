{
 "cells": [
  {
   "cell_type": "markdown",
   "metadata": {
    "slideshow": {
     "slide_type": "slide"
    }
   },
   "source": [
    "# ACSE-7 (Optimisation & Inversion) <a class=\"tocSkip\">\n",
    "\n",
    "## Coursework part A"
   ]
  },
  {
   "cell_type": "markdown",
   "metadata": {},
   "source": [
    "_Expected completion time:_\n",
    "- A1: 30 minutes\n",
    "- A2: 1 hour\n",
    "- A3: 1-2 hours"
   ]
  },
  {
   "cell_type": "markdown",
   "metadata": {},
   "source": [
    "# Question A1\n",
    "\n",
    "Consider a linear inversion problem written in the form \n",
    "\n",
    "$$G\\boldsymbol{m} = \\boldsymbol{d}.$$\n",
    "\n",
    "The following four mathematical expressions give possible solutions to this problem\n",
    "\n",
    "\n",
    "1. $\\boldsymbol{m} =  G^+\\boldsymbol{d},$\n",
    "\n",
    "\n",
    "2. $\\boldsymbol{m} = G^T(GG^T)^{-1}\\boldsymbol{d},$\n",
    "\n",
    "\n",
    "3. $\\boldsymbol{m} = G^{-1}\\boldsymbol{d},$\n",
    "\n",
    "\n",
    "4. $\\boldsymbol{m} = (G^T G)^{-1} G^T  \\boldsymbol{d}.$\n",
    "\n",
    "\n",
    "For each of these approaches explain in words what type of inversion problem the approach can be used to solve, what properties the corresponding solution will possess, and any potential issues that might arise when attempting to utilise this solution approach."
   ]
  },
  {
   "cell_type": "markdown",
   "metadata": {},
   "source": [
    "# Question A2\n",
    "\n",
    "Consider the rectangular matrix\n",
    "\n",
    "$$G = \n",
    "\\begin{pmatrix}\n",
    "2 & 2 & 10 & 10 \\\\\n",
    "2 & 3 & 14 & 12 \\\\\n",
    "4 & 5 & 24 & 22 \n",
    "\\end{pmatrix}.\n",
    "$$\n",
    "\n",
    "Convert this matrix into reduced-row-echelon form. \n",
    "\n",
    "What is the rank of this matrix? What dimensions are its range and its null space?\n",
    "\n",
    "Find the appropriate number of vectors which can be used as a basis to span the null space.\n",
    "\n",
    "Now consider the data vector\n",
    "$$\\boldsymbol{d} = \\begin{pmatrix}\n",
    "26 \\\\\n",
    "30\\\\\n",
    "56\n",
    "\\end{pmatrix}.$$\n",
    "\n",
    "\n",
    "Use the pseudo-inverse (you may make use of `np.linalg.pinv`) to find a solution to the problem $G\\boldsymbol{m}=\\boldsymbol{d}$.\n",
    "\n",
    "Demonstrate though some examples that adding any multiples of the vectors spanning the null space to this solution (i.e. adding any vector from within the null space) also provides a valid solution to this problem.\n",
    "\n",
    "Demonstrate that the solution obtained using the pseudo-inverse is the minimal norm solution to this problem."
   ]
  },
  {
   "cell_type": "markdown",
   "metadata": {},
   "source": [
    "# Question A3\n",
    "\n",
    "Recall the lecture 1 homework exercise where we used SVD to perform image compression (or low rank approximation of the corresponding matrix representing the grey scale version of the image) on a photo of our building.\n",
    "\n",
    "Explain why the sum of the first $n$ singular values, as a fraction of the sum of all the singular values, can be used as a useful metric for how well the information in the image is represented by the low rank approximation.\n",
    "\n",
    "For the Royal School of Mines image plot a cumulative sum of the singular values as a fraction of the sum of all singular values - how fast this fraction gets close to one can be used as a guide for how easy the image is to compress.\n",
    "\n",
    "Try and find two additional images for which different behaviour in the cumulative sums of singular values plots can be seen - comment on what you observe.  [Note that flags are nice examples of images that can be relatively simple - consider using your home flag, or others that might be especially simple designs]."
   ]
  }
 ],
 "metadata": {
  "celltoolbar": "Slideshow",
  "kernelspec": {
   "display_name": "Python 3",
   "language": "python",
   "name": "python3"
  },
  "language_info": {
   "codemirror_mode": {
    "name": "ipython",
    "version": 3
   },
   "file_extension": ".py",
   "mimetype": "text/x-python",
   "name": "python",
   "nbconvert_exporter": "python",
   "pygments_lexer": "ipython3",
   "version": "3.7.3"
  },
  "latex_envs": {
   "LaTeX_envs_menu_present": true,
   "autoclose": true,
   "autocomplete": true,
   "bibliofile": "biblio.bib",
   "cite_by": "apalike",
   "current_citInitial": 1,
   "eqLabelWithNumbers": true,
   "eqNumInitial": 1,
   "hotkeys": {
    "equation": "Ctrl-E",
    "itemize": "Ctrl-I"
   },
   "labels_anchors": false,
   "latex_user_defs": false,
   "report_style_numbering": false,
   "user_envs_cfg": true
  },
  "toc": {
   "base_numbering": 1,
   "nav_menu": {},
   "number_sections": false,
   "sideBar": false,
   "skip_h1_title": false,
   "title_cell": "Table of Contents",
   "title_sidebar": "Contents",
   "toc_cell": false,
   "toc_position": {},
   "toc_section_display": false,
   "toc_window_display": false
  }
 },
 "nbformat": 4,
 "nbformat_minor": 1
}
