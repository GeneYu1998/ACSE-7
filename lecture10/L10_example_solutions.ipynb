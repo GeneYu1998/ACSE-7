{
 "cells": [
  {
   "cell_type": "markdown",
   "metadata": {},
   "source": [
    "# L10_2 wave propagation exercise example solution:\n",
    "\n",
    "An exact traveling wave solution to the 1-dimensional wave-equation,\n",
    "$$\\frac{1}{c^2}\\frac{\\partial^2 u}{\\partial t^2}-\\frac{\\partial^2 u}{\\partial x^2}=0,$$\n",
    "on the interval $x\\in[0,1]$ with $c=1$ is given by:\n",
    "$$u(x,t)=\\left[\\mathrm{max}(0,4\\zeta(1-\\zeta))\\right]^{12},$$\n",
    "where\n",
    "$$\\zeta=4(x-ct)-1,$$\n",
    "subject to the boundary conditions $u(0,t)=u(1,t)=0$. A potential Devito implementation is outlined below."
   ]
  },
  {
   "cell_type": "code",
   "execution_count": 17,
   "metadata": {},
   "outputs": [],
   "source": [
    "import numpy as np\n",
    "from devito import Function, solve, Grid\n",
    "\n",
    "# Python functions to compute the initial condition:\n",
    "def compute_zeta(x,t):\n",
    "    return 4.0*(x-t)-1.0\n",
    "\n",
    "def compute_u(x,t):\n",
    "    u1 = 4.0*compute_zeta(x,t)*(1.0-compute_zeta(x,t))\n",
    "    u2 = np.zeros(u1.shape)\n",
    "    return (np.maximum(u1,u2))**(12)\n",
    "\n",
    "# define spatial mesh\n",
    "# Size of rectangular domain\n",
    "Lx = 1\n",
    "\n",
    "# Number of grid points in each direction, including boundary nodes\n",
    "Nx = 201\n",
    "\n",
    "# hence the mesh spacing\n",
    "dx = Lx/(Nx-1)\n",
    "\n",
    "x = np.linspace(0,Lx,Nx)\n",
    "\n",
    "grid = Grid(shape=(Nx), extent=(Lx))\n",
    "\n",
    "# Initial condition\n",
    "u_0 = Function(name='u_0', grid=grid)\n",
    "u_0.data[:] = compute_u(x,0)\n",
    "\n",
    "# We'll need one of these for composing the boundary conditions:\n",
    "t = grid.stepping_dim\n",
    "time = grid.time_dim"
   ]
  },
  {
   "cell_type": "code",
   "execution_count": 73,
   "metadata": {},
   "outputs": [
    {
     "name": "stdout",
     "output_type": "stream",
     "text": [
      "Eq(u(t + dt, x), dt**2*(-2.5*u(t, x)/h_x**2 - 0.0833333333*u(t, x - 2*h_x)/h_x**2 + 1.33333333*u(t, x - h_x)/h_x**2 + 1.33333333*u(t, x + h_x)/h_x**2 - 0.0833333333*u(t, x + 2*h_x)/h_x**2 + 2.0*u(t, x)/dt**2 - u(t - dt, x)/dt**2))\n"
     ]
    }
   ],
   "source": [
    "# Devito implementation\n",
    "\n",
    "# Required imports\n",
    "from devito import TimeFunction, Eq, Operator\n",
    "\n",
    "# Define the grid/computational domain\n",
    "\n",
    "# Wavefield\n",
    "u = TimeFunction(name='u', grid=grid, time_order=3, space_order=4)\n",
    "\n",
    "# Time-step\n",
    "dt = 0.0001\n",
    "\n",
    "# Define the equation and boundary conditions (with c=1)\n",
    "pde = u.dt2-u.dx2\n",
    "eq = Eq(u.forward, solve(pde, u.forward))\n",
    "print(eq)\n",
    "bc = [Eq(u[t+1, 0], 0)]\n",
    "bc += [Eq(u[t+1, Nx-1], 0)]\n",
    "\n",
    "# Set the initial conditions\n",
    "u.data[0,:] = u_0.data[:]\n",
    "u.data[1,:] = compute_u(x,dt)\n",
    "# Create the Devito Operator\n",
    "op = Operator([eq]+bc)"
   ]
  },
  {
   "cell_type": "code",
   "execution_count": 74,
   "metadata": {},
   "outputs": [
    {
     "name": "stderr",
     "output_type": "stream",
     "text": [
      "Operator `Kernel` ran in 0.01 s\n"
     ]
    },
    {
     "data": {
      "text/plain": [
       "PerformanceSummary([(PerfKey(name='section0', rank=None),\n",
       "                     PerfEntry(time=0.0018669999999999425, gflopss=0.0, gpointss=0.0, oi=0.0, ops=0, itershapes=[]))])"
      ]
     },
     "execution_count": 74,
     "metadata": {},
     "output_type": "execute_result"
    }
   ],
   "source": [
    "op.apply(time_m=1, time_M=19999, dt=dt)"
   ]
  },
  {
   "cell_type": "code",
   "execution_count": 75,
   "metadata": {},
   "outputs": [
    {
     "data": {
      "image/png": "[encoded data removed]",
      "text/plain": [
       "<Figure size 432x288 with 1 Axes>"
      ]
     },
     "metadata": {
      "needs_background": "light"
     },
     "output_type": "display_data"
    }
   ],
   "source": [
    "# Plot the initial condition and final condition\n",
    "\n",
    "%matplotlib inline\n",
    "import matplotlib.pyplot as plt\n",
    "\n",
    "plt.plot(x, u_0.data[:], label = \"$u(x,0)$\")\n",
    "plt.plot(x, u.data[0, :], label = \"$u(x,T)$\")\n",
    "plt.xlabel('$x$')\n",
    "plt.ylabel('$u$')\n",
    "plt.legend()\n",
    "plt.show()"
   ]
  },
  {
   "cell_type": "code",
   "execution_count": 61,
   "metadata": {},
   "outputs": [
    {
     "data": {
      "image/png": "[encoded data removed]",
      "text/plain": [
       "<Figure size 432x288 with 1 Axes>"
      ]
     },
     "metadata": {
      "needs_background": "light"
     },
     "output_type": "display_data"
    }
   ],
   "source": [
    "# Plot the residual\n",
    "\n",
    "%matplotlib inline\n",
    "\n",
    "plt.plot(x, np.abs(u_0.data[:]-u.data[0, :]))\n",
    "plt.xlabel('$x$')\n",
    "plt.ylabel('$\\delta u$')\n",
    "plt.show()"
   ]
  },
  {
   "cell_type": "markdown",
   "metadata": {},
   "source": [
    "You can now play around with some parameters and reduce the residual."
   ]
  },
  {
   "cell_type": "markdown",
   "metadata": {},
   "source": [
    "# L10_tutorial exercise example solution:\n",
    "\n",
    "Consider the following boundary value problem for the 1D wave equation:\n",
    "\n",
    "\\begin{align}\n",
    "  \\frac{1}{c^2}\\frac{\\partial^2 u}{\\partial t^2}(x,t)-\\frac{\\partial^2 u}{\\partial x^2}(x,t)&=0, \\\\\n",
    "  u(0,t)=u(10,t)&= 0, \\\\\n",
    "  \\frac{\\partial u}{\\partial t}(x,0)&=0, \\\\\n",
    "  u(x,0)&=\n",
    "    \\begin{cases}\n",
    "      0, & 0 \\leq x < 4,\\\\\n",
    "      1, & 4 \\leq x \\leq 6,\\\\\n",
    "      0, & 6 < x \\leq 10.\n",
    "    \\end{cases}\n",
    "\\end{align}\n",
    "\n",
    "The initial state is illustrated in the figure below:"
   ]
  },
  {
   "cell_type": "markdown",
   "metadata": {},
   "source": [
    "<img src=\"figures/exact_solution.png\" width=\"450\" height=\"450\" align=\"center\"/>"
   ]
  },
  {
   "cell_type": "markdown",
   "metadata": {},
   "source": [
    "The exact solution can be written as:\n",
    "\\begin{equation}\n",
    " u(x,t)=\\sum_{n=1}^{\\infty}A_{n}\\sin\\left(\\frac{n\\pi x}{10}\\right)\\cos\\left(\\frac{n\\pi ct}{10}\\right),\n",
    "\\end{equation}\n",
    "where\n",
    "\\begin{equation}\n",
    "  A_n=\\frac{2}{n\\pi}\\left[\\cos\\left(\\frac{4n\\pi}{10}\\right)-\\cos\\left(\\frac{6n\\pi}{10}\\right)\\right].\n",
    "\\end{equation}\n",
    "\n",
    "From analysing the exact solution, we can see that the wave will return to it's initial position (for the first time) when\n",
    "\n",
    "\\begin{equation*}\n",
    " \\frac{cT\\pi}{10}=2\\pi,\n",
    "\\end{equation*}\n",
    "\n",
    "and hence the period $T=20/c$. We'll run our simulation forward to this time for comparison."
   ]
  },
  {
   "cell_type": "markdown",
   "metadata": {},
   "source": [
    "A potential Devito implementation is outlined below (note that this is similar to the previous exercise):"
   ]
  },
  {
   "cell_type": "code",
   "execution_count": 6,
   "metadata": {},
   "outputs": [],
   "source": [
    "from numpy import sin, cos, pi, linspace, shape, zeros, mod\n",
    "\n",
    "import matplotlib.pyplot as plt\n",
    "\n",
    "# Global constants\n",
    "L = 10. # Define length of domain as a global variable\n",
    "N = 2000 # Number of terms in the Fourier sine series\n",
    "l = 1001 # Define number of points in domain\n",
    "c = 1.0 # Speed of sound\n",
    "\n",
    "x = linspace(0, L, l) # x axis for calling u(x, t) at given t\n",
    "\n",
    "# Calculate exact solution\n",
    "\n",
    "def u_e(x, t):\n",
    "    s = zeros(x.size)\n",
    "    for i in range(1,N+1):\n",
    "        s+=A_n(i)*sin(i*pi*x/L)*cos(i*pi*c*t/L)\n",
    "    return s\n",
    "\n",
    "def A_n(n):\n",
    "    const = 2/n/pi*(cos(4*n*pi/L)-cos(6*n*pi/L))\n",
    "    return const"
   ]
  },
  {
   "cell_type": "code",
   "execution_count": 7,
   "metadata": {},
   "outputs": [
    {
     "data": {
      "image/png": "[encoded data removed]",
      "text/plain": [
       "<Figure size 432x288 with 1 Axes>"
      ]
     },
     "metadata": {
      "needs_background": "light"
     },
     "output_type": "display_data"
    }
   ],
   "source": [
    "%matplotlib inline\n",
    "# Plot solution at a point T in time\n",
    "T = 0\n",
    "plt.plot(x, u_e(x, T))\n",
    "plt.xlabel('x')\n",
    "plt.ylabel('u(x,0)')\n",
    "plt.show()"
   ]
  },
  {
   "cell_type": "code",
   "execution_count": 8,
   "metadata": {},
   "outputs": [],
   "source": [
    "# Devito implimentation\n",
    "\n",
    "time_order = 2\n",
    "space_order = 2"
   ]
  },
  {
   "cell_type": "code",
   "execution_count": 9,
   "metadata": {},
   "outputs": [],
   "source": [
    "# Required imports\n",
    "from devito import Grid, TimeFunction, Eq, solve, Operator\n",
    "\n",
    "# Define the grid/computational domain\n",
    "grid = Grid(shape=(l), extent=(L))\n",
    "t_s = grid.stepping_dim\n",
    "\n",
    "# Wavefield\n",
    "u = TimeFunction(name='u', grid=grid, time_order=time_order, space_order=space_order)\n",
    "\n",
    "dx = abs(x[1]-x[0])\n",
    "# Critical time-step\n",
    "dt = 0.004 # (dt < 0.42*dx/c)\n",
    "\n",
    "# Define the equation and boundary conditions\n",
    "pde = 1/c**2*u.dt2-u.dx2\n",
    "eq = Eq(u.forward, solve(pde, u.forward))\n",
    "bc = [Eq(u[t_s+1, 0], 0)]\n",
    "bc += [Eq(u[t_s+1, -1], 0)]\n",
    "\n",
    "# Set the initial conditions\n",
    "u0 = u_e(x, 0)\n",
    "u1 = u_e(x, dt)\n",
    "u.data[0,:] = u0\n",
    "u.data[1,:] = u1\n",
    "\n",
    "# Create the Devito Operator\n",
    "op = Operator([eq]+bc)"
   ]
  },
  {
   "cell_type": "code",
   "execution_count": 10,
   "metadata": {},
   "outputs": [
    {
     "name": "stderr",
     "output_type": "stream",
     "text": [
      "Operator `Kernel` ran in 0.01 s\n"
     ]
    },
    {
     "data": {
      "text/plain": [
       "PerformanceSummary([(PerfKey(name='section0', rank=None),\n",
       "                     PerfEntry(time=0.000927000000000016, gflopss=0.0, gpointss=0.0, oi=0.0, ops=0, itershapes=[]))])"
      ]
     },
     "execution_count": 10,
     "metadata": {},
     "output_type": "execute_result"
    }
   ],
   "source": [
    "# Now lets run the operator - by choosing time_M=4999 our final result will be from t=20.\n",
    "op.apply(time_m=1, time_M=4999, dt=dt)"
   ]
  },
  {
   "cell_type": "code",
   "execution_count": 11,
   "metadata": {},
   "outputs": [
    {
     "data": {
      "image/png": "[encoded data removed]",
      "text/plain": [
       "<Figure size 432x288 with 1 Axes>"
      ]
     },
     "metadata": {
      "needs_background": "light"
     },
     "output_type": "display_data"
    }
   ],
   "source": [
    "%matplotlib inline\n",
    "# Lets plot some Devito results:\n",
    "plt.plot(x, u.data[mod(5000,3), :])\n",
    "plt.xlabel('x')\n",
    "plt.ylabel('u(x,t)')\n",
    "plt.show()"
   ]
  },
  {
   "cell_type": "markdown",
   "metadata": {},
   "source": [
    "The above result isn't terrible but there's been quite a bit of numerical dispersion. How do you think we can improve it? We can increase the resolution, increase the space order of our discretisation etc. Try playing around with these things to see what you come up. Another big improvement can be found by improving our time stepping scheme so, although a little more involved, that's something you could also play around with.\n",
    "\n",
    "Note that a pure python implementation has not been given here but from looking at the c-code Devito produces it's easy to see how one could be achieved:"
   ]
  },
  {
   "cell_type": "code",
   "execution_count": 12,
   "metadata": {},
   "outputs": [
    {
     "name": "stdout",
     "output_type": "stream",
     "text": [
      "#define _POSIX_C_SOURCE 200809L\n",
      "#define START_TIMER(S) struct timeval start_ ## S , end_ ## S ; gettimeofday(&start_ ## S , NULL);\n",
      "#define STOP_TIMER(S,T) gettimeofday(&end_ ## S, NULL); T->S += (double)(end_ ## S .tv_sec-start_ ## S.tv_sec)+(double)(end_ ## S .tv_usec-start_ ## S .tv_usec)/1000000;\n",
      "\n",
      "#include \"stdlib.h\"\n",
      "#include \"math.h\"\n",
      "#include \"sys/time.h\"\n",
      "#include \"xmmintrin.h\"\n",
      "#include \"pmmintrin.h\"\n",
      "\n",
      "struct dataobj\n",
      "{\n",
      "  void *restrict data;\n",
      "  int * size;\n",
      "  int * npsize;\n",
      "  int * dsize;\n",
      "  int * hsize;\n",
      "  int * hofs;\n",
      "  int * oofs;\n",
      "} ;\n",
      "\n",
      "struct profiler\n",
      "{\n",
      "  double section0;\n",
      "} ;\n",
      "\n",
      "\n",
      "int Kernel(const float dt, const float h_x, struct dataobj *restrict u_vec, const int time_M, const int time_m, const int x_M, const int x_m, struct profiler * timers)\n",
      "{\n",
      "  float (*restrict u)[u_vec->size[1]] __attribute__ ((aligned (64))) = (float (*)[u_vec->size[1]]) u_vec->data;\n",
      "\n",
      "  /* Flush denormal numbers to zero in hardware */\n",
      "  _MM_SET_DENORMALS_ZERO_MODE(_MM_DENORMALS_ZERO_ON);\n",
      "  _MM_SET_FLUSH_ZERO_MODE(_MM_FLUSH_ZERO_ON);\n",
      "\n",
      "  for (int time = time_m, t0 = (time)%(3), t1 = (time + 2)%(3), t2 = (time + 1)%(3); time <= time_M; time += 1, t0 = (time)%(3), t1 = (time + 2)%(3), t2 = (time + 1)%(3))\n",
      "  {\n",
      "    /* Begin section0 */\n",
      "    START_TIMER(section0)\n",
      "    for (int x = x_m; x <= x_M; x += 1)\n",
      "    {\n",
      "      float r5 = dt*dt;\n",
      "      u[t2][x + 2] = 1.0F*r5*((u[t0][x + 1] - 2.0F*u[t0][x + 2] + u[t0][x + 3])/((h_x*h_x)) + (2.0F*u[t0][x + 2] - 1.0F*u[t1][x + 2])/r5);\n",
      "    }\n",
      "    STOP_TIMER(section0,timers)\n",
      "    /* End section0 */\n",
      "    u[t2][2] = 0;\n",
      "    u[t2][1] = 0;\n",
      "  }\n",
      "\n",
      "  return 0;\n",
      "}\n",
      "\n"
     ]
    }
   ],
   "source": [
    "print(op.ccode)"
   ]
  },
  {
   "cell_type": "markdown",
   "metadata": {},
   "source": [
    "# L10_04_boundary_conditions subdomain exercise potential solution:\n",
    "\n",
    "Let us utilize `SubDomain`s to write an `Operator` to produce the following result in a single iteration:\n",
    "```\n",
    "f.data = Data([[0., 0., 0., 0., 0., 0., 0., 0., 0., 0.],\n",
    "               [0., 1., 1., 1., 1., 3., 3., 3., 3., 0.],\n",
    "               [0., 1., 1., 1., 1., 3., 3., 3., 3., 0.],\n",
    "               [0., 1., 1., 1., 1., 3., 3., 3., 3., 0.],\n",
    "               [0., 1., 1., 1., 1., 3., 3., 3., 3., 0.],\n",
    "               [0., 2., 2., 2., 2., 4., 4., 4., 4., 0.],\n",
    "               [0., 2., 2., 2., 2., 4., 4., 4., 4., 0.],\n",
    "               [0., 2., 2., 2., 2., 4., 4., 4., 4., 0.],\n",
    "               [0., 2., 2., 2., 2., 4., 4., 4., 4., 0.],\n",
    "               [0., 0., 0., 0., 0., 0., 0., 0., 3., 0.]], dtype=float32)\n",
    "```"
   ]
  },
  {
   "cell_type": "code",
   "execution_count": 13,
   "metadata": {},
   "outputs": [
    {
     "name": "stderr",
     "output_type": "stream",
     "text": [
      "Operator `Kernel` ran in 0.01 s\n"
     ]
    },
    {
     "data": {
      "text/plain": [
       "PerformanceSummary([(PerfKey(name='section0', rank=None),\n",
       "                     PerfEntry(time=2e-06, gflopss=0.0, gpointss=0.0, oi=0.0, ops=0, itershapes=[]))])"
      ]
     },
     "execution_count": 13,
     "metadata": {},
     "output_type": "execute_result"
    }
   ],
   "source": [
    "# Devito code:\n",
    "from devito import *\n",
    "\n",
    "# Define 4 subdomains:\n",
    "class TopLeft(SubDomain):\n",
    "    name = 'topleft'\n",
    "    def define(self, dimensions):\n",
    "        x, y = dimensions\n",
    "        return {x: ('middle', 1, 5), y: ('middle', 1, 5)}\n",
    "tl = TopLeft()\n",
    "\n",
    "class TopRight(SubDomain):\n",
    "    name = 'topright'\n",
    "    def define(self, dimensions):\n",
    "        x, y = dimensions\n",
    "        return {x: ('middle', 1, 5), y: ('middle', 5, 1)}\n",
    "tr = TopRight()\n",
    "\n",
    "class BottomLeft(SubDomain):\n",
    "    name = 'bottomleft'\n",
    "    def define(self, dimensions):\n",
    "        x, y = dimensions\n",
    "        return {x: ('middle', 5, 1), y: ('middle', 1, 5)}\n",
    "bl = BottomLeft()\n",
    "\n",
    "class BottomRight(SubDomain):\n",
    "    name = 'bottomright'\n",
    "    def define(self, dimensions):\n",
    "        x, y = dimensions\n",
    "        return {x: ('middle', 5, 1), y: ('middle', 5, 1)}\n",
    "br = BottomRight()\n",
    "\n",
    "grid = Grid(shape = (10, 10), subdomains = (tl, tr, bl, br))\n",
    "f = Function(name = 'f', grid = grid)\n",
    "\n",
    "eq1 = Eq(f, f+1, subdomain = grid.subdomains['topleft'])\n",
    "eq2 = Eq(f, f+3, subdomain = grid.subdomains['topright'])\n",
    "eq3 = Eq(f, f+2, subdomain = grid.subdomains['bottomleft'])\n",
    "eq4 = Eq(f, f+4, subdomain = grid.subdomains['bottomright'])\n",
    "\n",
    "Operator([eq1, eq2, eq3, eq4])()"
   ]
  },
  {
   "cell_type": "code",
   "execution_count": 14,
   "metadata": {},
   "outputs": [
    {
     "data": {
      "text/plain": [
       "Data([[0., 0., 0., 0., 0., 0., 0., 0., 0., 0.],\n",
       "      [0., 1., 1., 1., 1., 3., 3., 3., 3., 0.],\n",
       "      [0., 1., 1., 1., 1., 3., 3., 3., 3., 0.],\n",
       "      [0., 1., 1., 1., 1., 3., 3., 3., 3., 0.],\n",
       "      [0., 1., 1., 1., 1., 3., 3., 3., 3., 0.],\n",
       "      [0., 2., 2., 2., 2., 4., 4., 4., 4., 0.],\n",
       "      [0., 2., 2., 2., 2., 4., 4., 4., 4., 0.],\n",
       "      [0., 2., 2., 2., 2., 4., 4., 4., 4., 0.],\n",
       "      [0., 2., 2., 2., 2., 4., 4., 4., 4., 0.],\n",
       "      [0., 0., 0., 0., 0., 0., 0., 0., 0., 0.]], dtype=float32)"
      ]
     },
     "execution_count": 14,
     "metadata": {},
     "output_type": "execute_result"
    }
   ],
   "source": [
    "# Lets check the result:\n",
    "f.data"
   ]
  }
 ],
 "metadata": {
  "kernelspec": {
   "display_name": "devito",
   "language": "python",
   "name": "devito"
  },
  "language_info": {
   "codemirror_mode": {
    "name": "ipython",
    "version": 3
   },
   "file_extension": ".py",
   "mimetype": "text/x-python",
   "name": "python",
   "nbconvert_exporter": "python",
   "pygments_lexer": "ipython3",
   "version": "3.9.2"
  }
 },
 "nbformat": 4,
 "nbformat_minor": 2
}
