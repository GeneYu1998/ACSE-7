{
 "cells": [
  {
   "cell_type": "markdown",
   "metadata": {
    "slideshow": {
     "slide_type": "slide"
    }
   },
   "source": [
    "# ACSE-7 (Inversion and Optimisation)  <a class=\"tocSkip\"></a>\n",
    "\n",
    "## Lecture 4: Gradient Based Methods - part two  <a class=\"tocSkip\"></a>"
   ]
  },
  {
   "cell_type": "markdown",
   "metadata": {
    "slideshow": {
     "slide_type": "slide"
    },
    "toc": true
   },
   "source": [
    "<h1>Table of Contents<span class=\"tocSkip\"></span></h1>\n",
    "<div class=\"toc\"><ul class=\"toc-item\"><li><span><a href=\"#Quasi-Newton-Secant-methods\" data-toc-modified-id=\"Quasi-Newton-Secant-methods-1\"><span class=\"toc-item-num\">1&nbsp;&nbsp;</span>Quasi-Newton Secant methods</a></span><ul class=\"toc-item\"><li><span><a href=\"#Broyden's-method,-the-good-and-the-bad-(*)\" data-toc-modified-id=\"Broyden's-method,-the-good-and-the-bad-(*)-1.1\"><span class=\"toc-item-num\">1.1&nbsp;&nbsp;</span>Broyden's method, the good and the bad (*)</a></span></li><li><span><a href=\"#Symmetric-Rank-One-Update-(SR1)-(*)\" data-toc-modified-id=\"Symmetric-Rank-One-Update-(SR1)-(*)-1.2\"><span class=\"toc-item-num\">1.2&nbsp;&nbsp;</span>Symmetric Rank One Update (SR1) (*)</a></span></li><li><span><a href=\"#Broyden-Fletcher-Goldfarb-Shanno-(BFGS)-(*)\" data-toc-modified-id=\"Broyden-Fletcher-Goldfarb-Shanno-(BFGS)-(*)-1.3\"><span class=\"toc-item-num\">1.3&nbsp;&nbsp;</span>Broyden-Fletcher-Goldfarb-Shanno (BFGS) (*)</a></span></li><li><span><a href=\"#Limited-Memory-Implementations\" data-toc-modified-id=\"Limited-Memory-Implementations-1.4\"><span class=\"toc-item-num\">1.4&nbsp;&nbsp;</span>Limited Memory Implementations</a></span></li></ul></li><li><span><a href=\"#Stopping-Criteria\" data-toc-modified-id=\"Stopping-Criteria-2\"><span class=\"toc-item-num\">2&nbsp;&nbsp;</span>Stopping Criteria</a></span><ul class=\"toc-item\"><li><span><a href=\"#Absolute-Tolerance-and-Scaling\" data-toc-modified-id=\"Absolute-Tolerance-and-Scaling-2.1\"><span class=\"toc-item-num\">2.1&nbsp;&nbsp;</span>Absolute Tolerance and Scaling</a></span></li><li><span><a href=\"#Relative-Tolerance\" data-toc-modified-id=\"Relative-Tolerance-2.2\"><span class=\"toc-item-num\">2.2&nbsp;&nbsp;</span>Relative Tolerance</a></span></li><li><span><a href=\"#Stalling-Criteria\" data-toc-modified-id=\"Stalling-Criteria-2.3\"><span class=\"toc-item-num\">2.3&nbsp;&nbsp;</span>Stalling Criteria</a></span></li><li><span><a href=\"#Stopping-Criteria-for-Optimisation\" data-toc-modified-id=\"Stopping-Criteria-for-Optimisation-2.4\"><span class=\"toc-item-num\">2.4&nbsp;&nbsp;</span>Stopping Criteria for Optimisation</a></span></li></ul></li><li><span><a href=\"#Truncated-Newton-Methods\" data-toc-modified-id=\"Truncated-Newton-Methods-3\"><span class=\"toc-item-num\">3&nbsp;&nbsp;</span>Truncated Newton Methods</a></span><ul class=\"toc-item\"><li><span><a href=\"#Truncated-Newton-CG-Example\" data-toc-modified-id=\"Truncated-Newton-CG-Example-3.1\"><span class=\"toc-item-num\">3.1&nbsp;&nbsp;</span>Truncated Newton-CG Example</a></span></li></ul></li><li><span><a href=\"#Computing-and-Testing-the-Gradient:-Taylor-Test\" data-toc-modified-id=\"Computing-and-Testing-the-Gradient:-Taylor-Test-4\"><span class=\"toc-item-num\">4&nbsp;&nbsp;</span>Computing and Testing the Gradient: Taylor Test</a></span><ul class=\"toc-item\"><li><span><a href=\"#Obtaining-Gradient-Information\" data-toc-modified-id=\"Obtaining-Gradient-Information-4.1\"><span class=\"toc-item-num\">4.1&nbsp;&nbsp;</span>Obtaining Gradient Information</a></span></li><li><span><a href=\"#Taylor-Test\" data-toc-modified-id=\"Taylor-Test-4.2\"><span class=\"toc-item-num\">4.2&nbsp;&nbsp;</span>Taylor Test</a></span></li><li><span><a href=\"#Polygons,-Perimeter-and-Area\" data-toc-modified-id=\"Polygons,-Perimeter-and-Area-4.3\"><span class=\"toc-item-num\">4.3&nbsp;&nbsp;</span>Polygons, Perimeter and Area</a></span></li></ul></li><li><span><a href=\"#List-of-Definitions\" data-toc-modified-id=\"List-of-Definitions-5\"><span class=\"toc-item-num\">5&nbsp;&nbsp;</span>List of Definitions</a></span></li></ul></div>"
   ]
  },
  {
   "cell_type": "markdown",
   "metadata": {
    "slideshow": {
     "slide_type": "skip"
    }
   },
   "source": [
    "## Summary <a class=\"tocSkip\"></a>\n",
    "We will continue on the subject of quasi Newton methods, by discussing multi-dimensional secant methods, which build up an approximation of the Hessian by looking at the difference in subsequently computed first derivatives. A very popular method in optimisation is BFGS, which guarantees that the approximated Hessian is SPD. The limited memory version L-BFGS limits memory use (and computational time) by throwing away some older information, and in some cases actually improves the Hessian approximation when the local Hessian has changed from the initial location. An issue with secant methods is that the scaling of the initial Hessian influences the convergence.\n",
    "Further in this lecture, we discuss different criteria to decide when to stop the iteration for the various iterative methods that are discussed in this course. This brings us to the concept of truncated Newton methods, which rather than solving the linear system associated with the Newton step exactly, uses an iterative method with a very loose tolerance. This not only saves on computation but remarkably also improves the robustness of the method. Finally, we discuss how to obtain and test the gradient information that is required in Newton and quasi Newton methods.\n",
    "\n",
    "### Important concepts: <a class=\"tocSkip\"></a>\n",
    "- quasi-Newton, secant methods: Broyden, BFGS and L-BFGS-B\n",
    "- different types of stopping criterion: absolute, relative, stalling\n",
    "- truncated Newton methods\n",
    "- Taylor test"
   ]
  },
  {
   "cell_type": "code",
   "execution_count": 1,
   "metadata": {
    "slideshow": {
     "slide_type": "skip"
    }
   },
   "outputs": [],
   "source": [
    "# needs to be in separate cell!\n",
    "%matplotlib inline"
   ]
  },
  {
   "cell_type": "code",
   "execution_count": 2,
   "metadata": {
    "slideshow": {
     "slide_type": "skip"
    }
   },
   "outputs": [],
   "source": [
    "import numpy as np\n",
    "import matplotlib.pyplot as plt\n",
    "# the following allows us to plot triangles indicating convergence order\n",
    "from mpltools import annotation\n",
    "# scipy's optimization\n",
    "import scipy.optimize as sop\n",
    "import scipy.linalg as sl\n",
    "\n",
    "# font sizes for plots\n",
    "plt.rcParams['font.size'] = 16\n",
    "plt.rcParams['font.family'] = 'sans-serif'\n",
    "plt.rcParams['font.sans-serif'] = ['Arial', 'Dejavu Sans']"
   ]
  },
  {
   "cell_type": "code",
   "execution_count": 3,
   "metadata": {
    "slideshow": {
     "slide_type": "skip"
    }
   },
   "outputs": [
    {
     "data": {
      "text/html": [
       "<style>\n",
       "a.definition {\n",
       "    color: blue;\n",
       "    font-style: italic;\n",
       "    font-weight: bold;\n",
       "}\n",
       "div.optional {\n",
       "    background-color: #f0f8ff;\n",
       "    border-color: #e0f0ff;\n",
       "    border-left: 5px solid #e0f0ff;\n",
       "    padding: 0.5em;\n",
       "}\n",
       "div.text_cell_render{\n",
       "    font-size:14pt;\n",
       "}\n",
       "</style>\n"
      ],
      "text/plain": [
       "<IPython.core.display.HTML object>"
      ]
     },
     "metadata": {},
     "output_type": "display_data"
    }
   ],
   "source": [
    "%%html\n",
    "<style>\n",
    "a.definition {\n",
    "    color: blue;\n",
    "    font-style: italic;\n",
    "    font-weight: bold;\n",
    "}\n",
    "div.optional {\n",
    "    background-color: #f0f8ff;\n",
    "    border-color: #e0f0ff;\n",
    "    border-left: 5px solid #e0f0ff;\n",
    "    padding: 0.5em;\n",
    "}\n",
    "div.text_cell_render{\n",
    "    font-size:14pt;\n",
    "}\n",
    "</style>"
   ]
  },
  {
   "cell_type": "markdown",
   "metadata": {
    "slideshow": {
     "slide_type": "slide"
    }
   },
   "source": [
    "# Quasi-Newton Secant methods\n",
    "\n",
    "For one-dimensional problems we have seen that we can avoid computing the Jacobian $F'$ (Hessian $f''$ in optimisation) using the secant method, where we approximate it using the difference of the two last evaluations of $F$:\n",
    "\n",
    "$$\n",
    "  F'(x^{(i)}) \\approx  \\frac{F(x^{(i)}) - F(x^{(i-1)})}{x^{(i)}-x^{(i-1)}}\n",
    "$$"
   ]
  },
  {
   "cell_type": "markdown",
   "metadata": {
    "slideshow": {
     "slide_type": "fragment"
    }
   },
   "source": [
    "In multiple dimensions, the problem is that we need to know the derivative of ${\\bf F}$ in multiple directions, whereas this approach only gives us information about the derivative in the direction of the last step: ${\\bf x}^{(i)}-{\\bf x}^{(i-1)}$:\n",
    "\n",
    "$$\n",
    "  {\\bf F}'({\\bf x}^{(i)}) \\left[{\\bf x}^{(i)}-{\\bf x}^{(i-1)}\\right] \\approx  {\\bf F}({\\bf x}^{(i)}) - {\\bf F}({\\bf x}^{(i-1)})\n",
    "$$"
   ]
  },
  {
   "cell_type": "markdown",
   "metadata": {
    "slideshow": {
     "slide_type": "fragment"
    }
   },
   "source": [
    "A solution is to retain information about the derivative in other directions from previous iterations, and build up the approximate Jacobian $\\underline{\\mathbf B}^{(i)}$ iteratively. In each iteration we demand:\n",
    "\n",
    "$$\n",
    "  \\underline{\\mathbf B}^{(i)} \\left[{\\bf x}^{(i)}-{\\bf x}^{(i-1)}\\right] = {\\bf F}({\\bf x}^{(i)}) - {\\bf F}({\\bf x}^{(i-1)})\n",
    "$$"
   ]
  },
  {
   "cell_type": "markdown",
   "metadata": {
    "slideshow": {
     "slide_type": "subslide"
    }
   },
   "source": [
    "These methods typically start from an initial approximation by a scalar multiple of the identity matrix: $\\underline{\\mathbf B}^{(0)} = \\lambda_0\\underline{\\mathbf I}$. Note that choosing $\\underline{\\mathbf B} = \\underline{\\mathbf I}$ in all iterations would lead to the steepest descent method. Unfortunately this choice means that the secant methods, at least initially, suffer from the same scaling problem as Steepest Descent. Although the methods we discuss have self-correcting properties, the scaling of the initial guess will have an influence on the convergence of the approximate Jacobian $\\underline{\\mathbf B}^{(i)}$. This initial scaling by $\\lambda_0$ is often a user-defined parameter."
   ]
  },
  {
   "cell_type": "markdown",
   "metadata": {
    "slideshow": {
     "slide_type": "subslide"
    }
   },
   "source": [
    "In the following sections we will briefly explain the most well known <a class=\"definition\" href=\"#definitions\" id=\"quasiNewtonsecantmethods\">quasi-Newton secant methods</a>: Broyden's method, the symmetric rank-one (SR1) method and the Broyden-Fletcher-Goldfarb-Shanno (BFGS) method. The BFGS method is often used in optimisation problems, where, as we have seen, maintaining Symmetric Positive Definiteness of the Hessian $f''$ is important. In root-finding problems where the Jacobian ${\\bf F}'$ is not always symmetric Broyden's method is also used. The big advantage of all quasi-Newton methods over full Newton methods, is the fact that no Hessian (optimisation) or Jacobian (root-finding) information needs to be calculated. In addition, as can be read below, the simple way the approximate Hessian is updated, means that we can also construct the inverse of the approximate Hessian, which means that we can avoid having to do a linear solve to establish the new search direction."
   ]
  },
  {
   "cell_type": "markdown",
   "metadata": {
    "slideshow": {
     "slide_type": "subslide"
    }
   },
   "source": [
    "<div class=\"optional\">\n",
    "To simplify the formulas we introduce the following shorthand for the step in ${\\bf x}$, and change in ${\\bf F}$\n",
    "\n",
    "\\begin{align*}\n",
    "  {\\bf s} &= {\\bf x}^{(i)} - {\\bf x}^{(i-1)}, \\\\\n",
    "  {\\bf y} &= {\\bf F}({\\bf x}^{(i)}) - {\\bf F}({\\bf x}^{(i-1)}).\n",
    "\\end{align*}\n",
    "\n",
    "The <a class=\"definition\" href=\"#definitions\" id=\"secantequation\">secant equation</a> then becomes\n",
    "\n",
    "<a name='secant-equation'></a>\n",
    "$$\n",
    "  \\underline{\\mathbf B}^{(i)} {\\bf s}  = {\\bf y}\n",
    "  \\label{secant-equation} \\tag{secant-equation}\n",
    "$$\n",
    "<br/>\n",
    "</div>"
   ]
  },
  {
   "cell_type": "markdown",
   "metadata": {
    "slideshow": {
     "slide_type": "subslide"
    }
   },
   "source": [
    "## Broyden's method, the good and the bad (*)\n",
    "\n",
    "<div class=\"optional\">\n",
    "It should noted that the secant equation only provides information about $\\underline{\\mathbf B}^{(i)}$ in one direction (the current step direction ${\\bf s}$). Broyden's method is based on the idea that we want to maintain information of $\\underline{\\mathbf B}$ in all other directions from our previous Hessian approximation $\\underline{\\mathbf B}^{(i-1)}$. We can do this by decomposing a vector ${\\bf v}$ in a component in the direction of ${\\bf s}$ and a component orthogonal to it:\n",
    "\n",
    "$$\n",
    "  {\\bf v} = {\\bf v}^s + {\\bf v}^\\perp = \\frac{{{\\bf s}}^T {\\bf v}}{{{\\bf s}}^T {\\bf s}} {\\bf s} + \\left[{\\bf v} - \\frac{{{\\bf s}}^T {\\bf v}}{{{\\bf s}}^T {\\bf s}} {\\bf s}\\right]\n",
    "$$\n",
    "</div>"
   ]
  },
  {
   "cell_type": "markdown",
   "metadata": {
    "slideshow": {
     "slide_type": "fragment"
    }
   },
   "source": [
    "<div class=\"optional\">\n",
    "Then if we apply $\\underline{\\mathbf B}^{(i)}$ with $\\underline{\\mathbf B}^{(i)}{\\bf v}^\\perp = \\underline{\\mathbf B}^{(i-1)}{\\bf v}^\\perp$\n",
    "(i.e. we use the approximate Hessian from the previous iteration for the orthogonal component):\n",
    "\\begin{align*}\n",
    "  \\underline{\\mathbf B}^{(i)}{\\bf v} \n",
    "  &= \\underline{\\mathbf B}^{(i)}{\\bf v}^s + \\underline{\\mathbf B}^{(i-1)}{\\bf v}^\\perp \\\\\n",
    "  &= \\frac{{{\\bf s}}^T {\\bf v}}{{{\\bf s}}^T {\\bf s}} \\underline{\\mathbf B}^{(i)}{\\bf s}\n",
    "    + \\underline{\\mathbf B}^{(i-1)}{\\bf v}^\\perp \\\\\n",
    "    &= \\frac{{{\\bf s}}^T {\\bf v}}{{{\\bf s}}^T {\\bf s}} {\\bf y}\n",
    "    + \\underline{\\mathbf B}^{(i-1)}{\\bf v} - \\frac{{{\\bf s}}^T {\\bf v}}{{{\\bf s}}^T {\\bf s}}\\underline{\\mathbf B}^{(i-1)}{\\bf s},\n",
    "\\end{align*}\n",
    "\n",
    "where in the last step we used the [(secant-equation)](#secant-equation).\n",
    "</div>"
   ]
  },
  {
   "cell_type": "markdown",
   "metadata": {
    "slideshow": {
     "slide_type": "fragment"
    }
   },
   "source": [
    "<div class=\"optional\">\n",
    "This tells us that we should update according to\n",
    "\n",
    "$$\n",
    "  \\underline{\\mathbf B}^{(i)} = \\underline{\\mathbf B}^{(i-1)} + \\frac 1{{{\\bf s}}^T {\\bf s}} \\left[{\\bf y} - \\underline{\\mathbf B}^{(i-1)}{\\bf s}\\right]{{\\bf s}}^T\n",
    "  \\label{good-Broyden} \\tag{good-Broyden}\n",
    "$$\n",
    "\n",
    "This is called <a class=\"definition\" href=\"#definitions\" id=\"Broydensgoodmethod\">Broyden's \"good\" method</a>.\n",
    "</div>"
   ]
  },
  {
   "cell_type": "markdown",
   "metadata": {
    "slideshow": {
     "slide_type": "subslide"
    }
   },
   "source": [
    "<div class=\"optional\">\n",
    "An update with a matrix of the form ${\\bf u}{\\bf w}^T$ is called a rank-1 update. Under such an update the inverse of $\\underline{\\mathbf B}^{(i)}$, which we'll denote with $\\underline{\\mathbf H}^{(i)}={\\underline{\\mathbf B}^{(i)}}^{-1}$, changes according to\n",
    "\n",
    "<a name=\"Sherman-Morrison\"></a>\n",
    "$$\n",
    "  \\underline{\\mathbf B}^{(i)} = \\underline{\\mathbf B}^{(i-1)} + {\\bf u}{\\bf w}^T \\implies\n",
    "  \\underline{\\mathbf H}^{(i)} = \\underline{\\mathbf H}^{(i-1)} - \\frac{\\underline{\\mathbf H}^{(i-1)}{\\bf u}{\\bf w}^T\\underline{\\mathbf H}^{(i-1)}}{1 +{\\bf w}^T\\underline{\\mathbf H}^{(i-1)}{\\bf u}}\n",
    "  \\label{Sherman-Morrison} \\tag{Sherman-Morrison}\n",
    "$$\n",
    "</div>"
   ]
  },
  {
   "cell_type": "markdown",
   "metadata": {
    "slideshow": {
     "slide_type": "subslide"
    }
   },
   "source": [
    "<div class=\"optional\">\n",
    "Thus for Broyden's method (with ${\\bf u}={\\bf y} - \\underline{\\mathbf B}^{(i-1)}{\\bf s}$ and ${\\bf w}={\\bf s}/({\\bf s}^T{\\bf s})$), we obtain, after some tedious algebra:\n",
    "\n",
    "$$\n",
    "  \\underline{\\mathbf H}^{(i)} = \\underline{\\mathbf H}^{(i-1)} + \\frac{\\left({\\bf s}{\\bf s}^T - \\underline{\\mathbf H}^{(i-1)}{\\bf y}{\\bf s}^T\\right)\\underline{\\mathbf H}^{(i-1)}}{{{\\bf s}}^T \\underline{\\mathbf H}^{(i-1)}{\\bf y}}\n",
    "$$\n",
    "\n",
    "This means that instead of updating $\\underline{\\mathbf B}^{(i)}$ every iteration and solving $\\underline{\\mathbf B}^{(i)}{\\bf p} = -{\\bf F}({\\bf x}^{(i)})$ for the *new* step ${\\bf p}$, we can simply start with the identity matrix as our first approximation of the *inverse Hessian*, $\\underline{\\mathbf H}^{(0)}=\\underline{\\mathbf I}$, update it every iteration according to the above rule, and obtain ${\\bf p}=-\\underline{\\mathbf H}^{(i)}{\\bf F}(x^{(i)})$.\n",
    "</div>"
   ]
  },
  {
   "cell_type": "markdown",
   "metadata": {
    "slideshow": {
     "slide_type": "subslide"
    }
   },
   "source": [
    "<div class=\"optional\">\n",
    "\n",
    "Note that the [(secant-equation)](#secant-equation) can also be expressed as\n",
    "\n",
    "$$\n",
    "  \\underline{\\mathbf H}^{(i)}{\\bf y} = {\\bf s} ,\n",
    "$$\n",
    "\n",
    "which simply reverses $\\underline{\\mathbf B}^{(i)}\\leftrightarrow\\underline{\\mathbf H}^{(i)}$ and ${\\bf s}\\leftrightarrow{\\bf y}$. Therefore, if we start from this form of the equation, and instead demand that our update to the _inverse_ Jacobian satisfies it and $\\underline{\\mathbf H}^{(i)}{\\bf v}^\\perp=\\underline{\\mathbf H}^{(i-1)}{\\bf v}^\\perp$ for any ${\\bf v}^\\perp$ orthogonal to ${\\bf y}$, we obtain a new method,\n",
    "known as <a class=\"definition\" href=\"#definitions\" id=\"Broydensbadmethod\">Broyden's \"bad\" method</a>,\n",
    "\n",
    "$$\n",
    "  \\underline{\\mathbf H}^{(i)} = \\underline{\\mathbf H}^{(i-1)} + \\frac 1{{{\\bf y}}^T {\\bf y}} \\left[{\\bf s} - \\underline{\\mathbf H}^{(i-1)}{\\bf y}\\right]{{\\bf y}}^T,\n",
    "    \\label{bad-Broyden} \\tag{bad-Broyden}\n",
    "$$\n",
    "\n",
    "which is simply Broyden's good method with the substitutions: $\\underline{\\mathbf B}^{(i)}\\leftrightarrow\\underline{\\mathbf H}^{(i)}$ and ${\\bf s}\\leftrightarrow{\\bf y}$. The names for the two methods, good Broyden and bad Broyden, stems from the historical fact that Broyden was seeing unstable behaviour with the \"bad\" method in his applications. Both methods are widely used in practice however. One of their differences is that Broyden's good method is sensitive to the scaling of the unknowns ${\\bf x}$, whereas Broyden's bad method is sensitive to the scaling of ${\\bf F}$.\n",
    "</div>"
   ]
  },
  {
   "cell_type": "markdown",
   "metadata": {
    "slideshow": {
     "slide_type": "slide"
    }
   },
   "source": [
    "## Symmetric Rank One Update (SR1) (*)\n",
    "\n",
    "<div class=\"optional\">\n",
    "It should be noted that neither Broyden method produce symmetric approximations to the approximate Jacobian and its inverse. In optimisation problems, where the Hessian $f''({\\bf x})=F'({\\bf x})$ is symmetric, we therefore typically use methods that guarantee a symmetric approximate Hessian. It can be shown than the only rank-one update that preserves symmetry - in other words the only update of the form $\\underline{\\mathbf H}^{(i)} = \\underline{\\mathbf H}^{(i-1)} + {\\bf u}{\\bf u}^T$ for some vector ${\\bf u}$ - that satisfies [(secant-equation)](#secant-equation), is given by\n",
    "\n",
    "$$\n",
    "  \\underline{\\mathbf H}^{(i)} = \\underline{\\mathbf H}^{(i-1)} + \\frac{\\left[{\\bf s}-\\underline{\\mathbf H}^{(i-1)}{\\bf y}\\right]\\left[{\\bf s}-\\underline{\\mathbf H}^{(i-1)}{\\bf y}\\right]^T}{\\left[{\\bf s}-\\underline{\\mathbf H}^{(i-1)}{\\bf y}\\right]^T{\\bf y}}\n",
    "$$\n",
    "\n",
    "Although symmetric, the approximate Hessians are not guaranteed to be SPD. This was traditionally seen as a drawback of the <a class=\"definition\" href=\"#definitions\" id=\"SymmetricRankeOneSRmethod\">Symmetric Ranke One (SR1) method</a> over the BFGS method (see next section), but in combination with trust region methods SR1 can actually outperform BFGS, in particular in regions of the domain where the actual Hessian isn't necessarily SPD.\n",
    "</div>"
   ]
  },
  {
   "cell_type": "markdown",
   "metadata": {
    "slideshow": {
     "slide_type": "slide"
    }
   },
   "source": [
    "## Broyden-Fletcher-Goldfarb-Shanno (BFGS) (*)\n",
    "\n",
    "<div class=\"optional\">\n",
    "The <a class=\"definition\" href=\"#definitions\" id=\"BroydenFletcherGoldfarbShannoBFGSmethod\">Broyden-Fletcher-Goldfarb-Shanno (BFGS) method</a> achieves Symmetric Positive Definiteness of the approximate Hessians through a rank-two update\n",
    "\n",
    "$$\n",
    "  \\underline{\\mathbf B}^{(i)} = \\underline{\\mathbf B}^{(i-1)} + \\frac{{\\bf y}{\\bf y}^T}{{\\bf y}^T{\\bf s}} -\n",
    "  \\frac{\\left[\\underline{\\mathbf B}^{(i-1)}{\\bf s}\\right]\\left[\\underline{\\mathbf B}^{(i-1)}{\\bf s}\\right]^T}{{\\bf s}^T\\underline{\\mathbf B}^{(i-1)}{\\bf s}}\n",
    "$$\n",
    "\n",
    "Since this method is basically formed of two rank-one updates, we can again use [(Sherman-Morrison)](#Sherman-Morrison) to work out an update for the inverse approximate Hessian\n",
    "\n",
    "$$\n",
    "  \\underline{\\mathbf H}^{(i)} = \n",
    "  \\left[\\underline{\\mathbf I} - \\frac{{\\bf s}{\\bf y}^T}{{\\bf y}^T{\\bf s}}\\right]\n",
    "  \\underline{\\mathbf H}^{(i-1)}\n",
    "  \\left[\\underline{\\mathbf I} - \\frac{{\\bf y}{\\bf s}^T}{{\\bf y}^T{\\bf s}}\\right]\n",
    "  + \\frac{{\\bf s}{\\bf s}^T}{{\\bf y}^T{\\bf s}}\n",
    "$$\n",
    "\n",
    "For Broyden's good method we can show that the update to the approximate Hessian, is the unique update that satisfies the secant equation and stays closest to the previous approximation. Broyden's bad method, which is its dual method obtained by swapping $\\underline{\\mathbf B}\\leftrightarrow\\underline{\\mathbf H}$ and ${\\bf y}\\leftrightarrow{\\bf s}$, is the unique method for which the inverse of the approximate Hessian stays closest to the previous iteration."
   ]
  },
  {
   "cell_type": "markdown",
   "metadata": {
    "slideshow": {
     "slide_type": "skip"
    }
   },
   "source": [
    "Similarly it can be shown that the BFGS update for the *inverse* approximate Hessian $\\underline{\\mathbf H}$ is the unique update defined by the closest SPD matrix that satisfies the (inverse) secant equation $\\underline{\\mathbf H}^{(i)}{\\bf y}={\\bf s}$. Also here we can find a dual method, swapping $\\underline{\\mathbf B}\\leftrightarrow\\underline{\\mathbf H}$ and ${\\bf y}\\leftrightarrow{\\bf s}$, that updates the approximate Hessian $\\underline{\\mathbf B}$ to the closest SPD matrix satisfying the secant equation. This method is known as the Davidon-Fletcher-Powell (DFP) update. The DFP method turns out to be not as effective as BFGS, but linear combinations of the two methods have shown to give good results on some problems.\n",
    "</div>"
   ]
  },
  {
   "cell_type": "markdown",
   "metadata": {
    "slideshow": {
     "slide_type": "slide"
    }
   },
   "source": [
    "## Limited Memory Implementations\n",
    "\n",
    "For optimisation and root-finding problems with many unknowns $n$, the quasi-Newton secant methods can offer a big saving by avoiding the calculation of a large expensive Hessian/Jacobian matrix. Although the methods above provide a cheap way to update approximate Hessians, the approximate Hessian is still stored as a dense $n\\times n$ matrix, which for large $n$ may become infeasible. Also the cost of even a single matrix-vector multiplication with a dense $n\\times n$ matrix - we need this in the update of the search direction\n",
    "\n",
    "$$\n",
    "  {\\bf p} = -\\underline{\\mathbf H}^{(k)} {\\bf F}({\\bf x}^{(k)})\n",
    "$$\n",
    "\n",
    "\\- may become prohibitive. This matrix vector-multiplication is in fact the only reason we are interested in creating an inverse approximate Hessian. As an alternative, assuming we start from a simple approximation like the identity matrix, we can avoid storing the matrix altogether, by only storing the vectors involved in the updates and re-applying all previous updates whenever we perform the matrix-vector multiplication."
   ]
  },
  {
   "cell_type": "markdown",
   "metadata": {
    "slideshow": {
     "slide_type": "subslide"
    }
   },
   "source": [
    "As an example, if the approximate inverse Hessian is formed by a series of rank one updates, then by definition we have a series of vectors ${\\bf v}^{(i)}$ and ${\\bf u}^{(i)}$, such that \n",
    "\n",
    "$$\n",
    "  \\underline{\\mathbf H}^{(k)} = \\underline{\\mathbf I} + \\sum_{i=0}^{k-1} {\\bf v}^{(i)} \\left[{\\bf u}^{(i)}\\right]^T\n",
    "$$\n",
    "\n",
    "and thus in iteration $k$ the search direction can be obtained by\n",
    "\n",
    "$$\n",
    "  {\\bf p} = -\\underline{\\mathbf H}^{(k)} {\\bf F}({\\bf x}^{(k)})\n",
    "    = -{\\bf F}({\\bf x}^{(k)}) - \\sum_{i=0}^{k-1} {\\bf v}^{(i)} \\left(\\left[{\\bf u}^{(i)}\\right]^T\n",
    "    {\\bf F}({\\bf x}^{(k)})\\right)\n",
    "$$"
   ]
  },
  {
   "cell_type": "markdown",
   "metadata": {
    "slideshow": {
     "slide_type": "subslide"
    }
   },
   "source": [
    "This approach implements the same algorithms but avoids storing a dense matrix. Instead it only stores the vectors ${\\bf v}^{(i)}$ and ${\\bf u}^{(i)}$. This is usually referred to as a <a class=\"definition\" href=\"#definitions\" id=\"limitedmemoryapproach\">limited memory approach</a>. The limited memory version of BFGS is known as L-BFGS and is a very popular algorithm in unconstrained optimisation. A version with simple bounds on ${\\bf x}\\in\\mathbb{R}^n$ of the form:\n",
    "    \n",
    "$$\n",
    "  x_{i,\\text{min}} \\leq x_i \\leq x_{i,\\text{max}} \\text{ for } i=1,\\dots,n\n",
    "$$\n",
    "    \n",
    "is available under the name L-BFGS-B. We will come back to the topic of (more general) constraints on ${\\bf x}$ in lecture 6."
   ]
  },
  {
   "cell_type": "markdown",
   "metadata": {
    "slideshow": {
     "slide_type": "subslide"
    }
   },
   "source": [
    "Of course in this method, the memory use and cost-per-iteration will increase every iteration as the number of \"involved vectors\" increases. Therefore if a large number of iterations is required it may make sense to *restart* the Hessian approximation after a fixed number of iterations, which means that all update vectors are discarded and the Hessian approximation is reset to the identity. This is a similar *restart* procedure we will encounter in lecture 5 with the GMRES algorithm. Although restarts may hamper the convergence of the method, in some problem where the Hessian varies rapidly throughout the domain, discarding out-of-date information can actually be beneficial.\n",
    "\n",
    "Also, note that when we restart we go back to the Hessian being the identity, which, as we have seen previously, produces the same search direction as in steepest descent (the negative gradient direction). Thus if somewhere along our iterative trajectory, we end up with a poorly behaved approximate Hessian (inverse), restarting has the effect of falling back to the \"safer\" steepest descent method."
   ]
  },
  {
   "cell_type": "markdown",
   "metadata": {
    "slideshow": {
     "slide_type": "slide"
    }
   },
   "source": [
    "# Stopping Criteria\n",
    "\n",
    "All methods we have discussed so far, Steepest Descent, Conjugate Gradient, Newton and Quasi-Newton methods, were <a class=\"definition\" href=\"#definitions\" id=\"iterativemethods\">iterative methods</a> in which an initial guess ${\\bf x}^{(0)}$ is iteratively improved until we have converged to a root of $F({\\bf x}) = 0$ or a local minimum of $f({\\bf x})$. Since every iterate ${\\bf x}^{(i)}$ is an approximation to the exact answer ${\\bf x}^*$, an important question is to figure out how accurate our current best guess ${\\bf x}^{(i)}$ is and how to decide whether it is accurate enough that we can end the iteration. This decision is referred to as the <a class=\"definition\" href=\"#definitions\" id=\"stoppingcriterion\">stopping criterion</a>.\n",
    "\n",
    "The fundamental problem with stopping criteria is that - although for testing purposes we might be solving synthetic problems for which we do know an exact analytical answer - in practice we of course don't know the exact solution ${\\bf x}^*$. So in general, we can't base our stopping criterion on the norm of the exact error: $\\| {\\bf x}^{(i)} - {\\bf x}^* \\|$."
   ]
  },
  {
   "cell_type": "markdown",
   "metadata": {
    "slideshow": {
     "slide_type": "slide"
    }
   },
   "source": [
    "## Absolute Tolerance and Scaling\n",
    "\n",
    "In the case of a root-finding problem, the best way to judge our current best guess, is to establish how well it satisfies our equations. So a good stopping criterion might be\n",
    "\n",
    "$$\n",
    "  \\| {\\bf F}({\\bf x}^{(i)}) \\| \\lt \\varepsilon_{\\text{abs}}\n",
    "$$\n",
    "\n",
    "where $\\varepsilon$ is a tolerance chosen in advance. The problem with this kind of <a class=\"definition\" href=\"#definitions\" id=\"absolutetolerance\">absolute tolerance</a> is that it may be hard to predict what a small-enough error is that is acceptable. In particular, this will heavily depend on the scaling of the problem. (Note that we have already encountered the problem of scaling in lecture 3, where we saw that a bad choice of scaling may lead to inappropriate step sizes)."
   ]
  },
  {
   "cell_type": "markdown",
   "metadata": {
    "slideshow": {
     "slide_type": "skip"
    }
   },
   "source": [
    "As an example, say ${\\bf x}$ represents the coordinates of an object in 3D and we constrain these by enforcing three chosen distances $d_A, d_B,$ and $d_C$ to three other objects A, B, and C. This problem can be formulated as:\n",
    "\n",
    "$$\n",
    "   {\\bf F}({\\bf x}) = \\begin{pmatrix}\n",
    "   \\| {\\bf x} - {\\bf x}_A \\|^2 - d_A^2 \\\\\n",
    "   \\| {\\bf x} - {\\bf x}_B \\|^2 - d_B^2 \\\\\n",
    "   \\| {\\bf x} - {\\bf x}_C \\|^2 - d_C^2\n",
    "   \\end{pmatrix}\n",
    "   = {\\bf 0}\n",
    "$$\n",
    "\n",
    "Here, we have chosen to use the *square* of the 2-norm: $\\|{\\bf x} - {\\bf x}_A\\|^2 = \\left[{\\bf x} - {\\bf x}_A\\right]^T\\left[{\\bf x} - {\\bf x}_A\\right]$, since this gives a simpler function that is smooth everywhere. The absolute function error $\\| {\\bf F}({\\bf x}^{(i)}) \\|$ then measures the square of the error in the distance to the objects. Suppose we're choosing to use SI units, and express coordinates and distances in metres. If the objects in our problem are planets, and we find an error of a kilometre acceptable then we should allow for an absoluter error in ${\\bf F}$ of $\\varepsilon_{\\text{abs}}=10^6$. If on the other hand, our objects are molecules, and an acceptable error in the position is $\\approx 1$nm, then we should set $\\varepsilon_{\\text{abs}}=10^{-18}$.\n",
    "\n",
    "Of course a better choice of units would lead to a much better scaling of this problem. For more complex problems, *nondimensionalisation* may achieve the same, but this relies on good estimates of typical values for variables and terms in your equations. In particular, in complex, nonlinear problems the typical values of ${\\bf F}$ may vary a lot throughout the domain, and it can be hard to predict what a small enough value of $\\|{\\bf F}\\|$ is for a reasonably good approximation of ${\\bf x}^*$. In practice tolerances are therefore often chosen to be very strict (e.g. orders of magnitude smaller than a 'back-of-the-envelope' estimate). Only once the error is better-understood after a number of solves, we can then try to loosen the tolerance to see if we can improve efficiency without deteriorating the result."
   ]
  },
  {
   "cell_type": "markdown",
   "metadata": {
    "slideshow": {
     "slide_type": "slide"
    }
   },
   "source": [
    "## Relative Tolerance\n",
    "\n",
    "In some situations we may know that our initial guess ${\\bf x}^{(0)}$ is already a fairly good approximation of ${\\bf x}^*$. A good example is that of a time-stepping numerical model, where the solution from the previous time-step is a good initial guess for the solution at the next time step (assuming our time-step is small enough). In such situations, a lot of these scaling issues with a stopping criterion based on the absolute error can be avoided by using the stopping criterion:\n",
    "\n",
    "$$\n",
    "  \\| {\\bf F}({\\bf x}^{(i)}) \\| \\lt \\varepsilon_{\\text{rel}} \\| {\\bf F}({\\bf x}^{(0)}) \\|\n",
    "$$\n",
    "\n",
    "where $\\varepsilon_{\\text{rel}}$ is a <a class=\"definition\" href=\"#definitions\" id=\"relativetolerance\">relative tolerance</a> that is typically chosen such that the error is reduced by several orders of magnitude, e.g. $\\varepsilon_{\\text{rel}}=10^{-5}$. Again, it is advisable to start with a strict criterion. In the time-stepping numerical model for instance, we would only start loosening the tolerance once it's established that the model is running stably, so that we can investigate whether we can make the model more efficient with a larger value of $\\varepsilon_{\\text{rel}}$ without making the model unstable."
   ]
  },
  {
   "cell_type": "markdown",
   "metadata": {
    "slideshow": {
     "slide_type": "fragment"
    }
   },
   "source": [
    "In the case of linear systems, even if we don't have a good initial guess, and we simply start with ${\\bf x}^{(0)}={\\bf 0}$, a relative error can still be a good estimate. In this case we have ${\\bf F}({\\bf x})=\\underline{\\mathbf A}{\\bf x} - {\\bf b}$, so that ${\\bf F}({\\bf x}^{(0)})={\\bf b}$ and we can use\n",
    "\n",
    "$$\n",
    "  \\| {\\bf F}({\\bf x}^{(i)}) \\| \\lt \\varepsilon_{\\text{rel}} \\| {\\bf b} \\|\n",
    "$$"
   ]
  },
  {
   "cell_type": "markdown",
   "metadata": {
    "slideshow": {
     "slide_type": "slide"
    }
   },
   "source": [
    "## Stalling Criteria\n",
    "\n",
    "Instead of considering the residual in the last iteration, we can also look at the change between subsequent iterations. As we approach the root ${\\bf x}^*$ we expect the changes in subsequent iterations to become smaller and smaller, and we may choose a tolerance and decide that if\n",
    "\n",
    "$$\n",
    "  \\| {\\bf x}^{(i)}-{\\bf x}^{(i-1)} \\| \\lt \\varepsilon_{{\\bf x}, \\text{stall}}\n",
    "$$\n",
    "\n",
    "further changes are no longer significant, and terminate the iteration. Similarly, we may decide that if the\n",
    "residual no longer reduces significantly between time-steps,\n",
    "\n",
    "$$\n",
    "  \\| {\\bf F}({\\bf x}^{(i)})-{\\bf F}({\\bf x}^{(i-1)}) \\| \\lt \\varepsilon_{{\\bf F}, \\text{stall}}\n",
    "$$\n",
    "\n",
    "then we may terminate the iteration. These type of stopping criteria are called <a class=\"definition\" href=\"#definitions\" id=\"stallingcriteria\">stalling criteria</a>."
   ]
  },
  {
   "cell_type": "markdown",
   "metadata": {
    "slideshow": {
     "slide_type": "skip"
    }
   },
   "source": [
    "There are several pitfalls with this approach. A stalling criterion  based on changes in ${\\bf F}$ may lead to early termination when moving through parts of the domain where ${\\bf F}$, is relatively flat. In contrast, in parts of the domain where ${\\bf F}$ is steep, i.e. a small change in ${\\bf x}$ leads to a large change in ${\\bf F}$, we may decide to terminate\n",
    "based on a stalling criterion in ${\\bf x}$, while we could easily reduce ${\\bf F}$ further.\n",
    "\n",
    "A more general problem with stalling criteria is that they rely on a guarantee that the method actually converges to the desired answer ${\\bf x}^*$ if we let it continue (i.e. iterate) for long enough. Although we have encountered some methods that have guaranteed convergence properties, for many methods there are no such guarantees. Even methods that do have guarantees, these only apply under certain strict conditions. For instance we have seen that for linear inversion problems the Conjugate Gradient method is guaranteed to converge in $n$ iterations, but only if the linear system matrix $\\underline{\\mathbf A}$ is SPD. In practice, it is very hard to check these conditions. In particular differentiability, often a condition for nonlinear methods, is frequently violated in practice. Furthermore there are all sorts of other subtle issues, like for instance machine round-off errors, that mean that the theoretical convergence does not happen in practice.\n",
    "\n",
    "If the method does not converge to ${\\bf x}^*$, there are two possibilities: 1) ${\\bf x}^{(i)}$ does not converge at all - in this case the method will never terminate, 2) ${\\bf x}^{(i)}$ does converge, but to the wrong answer; in this case the stalling criterion will terminate the iteration, but we have no indication of whether the answer is any good or not. On the other hand, if we use a criterion based on the residual (absolute or relative), the method will not terminate in either case. There we can simply apply a maximum number of iterations, and return an error if the maximum is exceeded. If the method is terminated before-hand, we at least have some confidence in the quality of the result.\n",
    "\n",
    "Despite these objections, stalling criteria are still often used in practice. One reason for this is that the stalling criterion based on $\\varepsilon_{{\\bf x}, \\text{stall}}$ only relies on the scaling of ${\\bf x}$, which is often easier to control than the scaling of the residual ${\\bf F}$. Given the arguments above however, a termination based on this criterion should always be followed by a check for the quality of the result, for instance by checking the residual for the final iteration."
   ]
  },
  {
   "cell_type": "markdown",
   "metadata": {
    "slideshow": {
     "slide_type": "slide"
    }
   },
   "source": [
    "## Stopping Criteria for Optimisation\n",
    "\n",
    "For an optimisation problem, the best criterion to determine whether we are close to a local minimum, or at least a stationary point, is to look at the magnitude of the derivative. The tolerance is then referred to as the (absolute) gradient tolerance\n",
    "\n",
    "$$\n",
    "  \\| {\\bf f}'({\\bf x}^{(i)}) \\| \\lt \\varepsilon_{\\text{abs}}\n",
    "$$\n",
    "\n",
    "For optimisations the scaling problem is exacerbated by the fact that even if we properly scale $f$ (say it always takes a value between 0 and 1), the scaling of $f'$ also depends on the scaling of the unknowns ${\\bf x}$.\n",
    "\n",
    "In *some* minimisation problems, the minimal value is well known, it is only the location of the minimizer ${\\bf x}^*$ that is unknown. In this case, we could base our stopping criterion on $f$ as well, but we have to be careful in case there are other local minima with higher values."
   ]
  },
  {
   "cell_type": "markdown",
   "metadata": {
    "slideshow": {
     "slide_type": "subslide"
    }
   },
   "source": [
    "The same objections to stalling criteria, which can be either in ${\\bf x}$, $f({\\bf x})$, or $f'({\\bf x})$, apply to minimisation problems. A termination based on a stalling criterion, should be followed by a check to see that the gradient is small. Regardless of stopping criterion, we could additionally check whether the achieved stationary point is actually a local minimum, by checking whether the Hessian $f''({\\bf x})$ is SPD - however this check is hard to perform for large scale problems.\n",
    "\n",
    "Finally, if a local minimum is obtained in a point that is not differentiable, think for instance of $f(x)=|x|$ in 1D, the gradient may not actually converge to 0. In such cases, the method might not converge at all with ${\\bf x}^{(i)}$ jumping around the minimum, or, what often happens, is that the line search or trust region method breaks down, since the decrease of $f$ predicted by the gradient, cannot actually be achieved (think of the Armijo rule from the previous lecture). In practice many problems are actually non-differentiable; They are only smooth enough by approximation. For instance in the approximation of a numerical model, and many other applications with gridded data, there will usually be some grid-scale noise. If the problem is smooth enough on the larger scale, we will be able to achieve some reduction of the gradient, but if we set our tolerances too tight the method will break down as we get closer to the solution. This problem is illustrated in the following figure."
   ]
  },
  {
   "cell_type": "code",
   "execution_count": 7,
   "metadata": {},
   "outputs": [
    {
     "data": {
      "image/png": "[encoded data removed]",
      "text/plain": [
       "<Figure size 1152x1152 with 4 Axes>"
      ]
     },
     "metadata": {
      "needs_background": "light"
     },
     "output_type": "display_data"
    }
   ],
   "source": [
    "noise_amplitude = 1e-3\n",
    "N = 200\n",
    "dx = 2/N\n",
    "xzoom = 0.2\n",
    "\n",
    "def f(x):\n",
    "    return np.arctan(x)**2\n",
    "\n",
    "fig, ax = plt.subplots(2,2, figsize=(16,16))\n",
    "\n",
    "x = np.linspace(-1, 1, N)\n",
    "f_num = f(x)\n",
    "np.random.seed(2)  # set the seed to ensure we always get the same \"random\" noise\n",
    "f_num += np.random.rand(N) * noise_amplitude\n",
    "# numerical derivative using central differencing: f_i = (f_{i+1}-f_{i-1})/dx\n",
    "# this computes the derivative for the points x[1:-1]\n",
    "df_num = (f_num[2:]-f_num[:-2])/dx\n",
    "\n",
    "# x, f and df restricted to a zoom-in -0.2\\lt x\\lt 0.2\n",
    "cond = (x > -0.2) & (x < 0.2)\n",
    "xz = x[cond]\n",
    "fz = f_num[cond]\n",
    "dfz = df_num[cond[1:-1]]\n",
    "\n",
    "ax[0,0].plot(x, f_num, label='$f(x)$')\n",
    "ax[0,0].legend()\n",
    "\n",
    "ax[1,0].plot(xz, fz, label='$f(x)$')\n",
    "ax[1,0].legend()\n",
    "from matplotlib.patches import Rectangle\n",
    "axis = ax[1,0].axis()\n",
    "p = Rectangle([axis[0], axis[2]], width=axis[1]-axis[0], height=axis[3]-axis[2],\n",
    "              edgecolor='red', fill=False)\n",
    "ax[0,0].add_artist(p)\n",
    "\n",
    "\n",
    "ax[0,1].plot(x[1:-1], df_num, label=\"$f'(x)$\")\n",
    "ax[0,1].legend()\n",
    "ax[0,1].plot([x[0], x[-1]], [0, 0], 'k')  # x-axis\n",
    "\n",
    "ax[1,1].plot(xz, dfz, label=\"$f'(x)$\")\n",
    "ax[1,1].plot([xz[0], xz[-1]], [0, 0], 'k')  # x-axis\n",
    "ax[1,1].legend()\n",
    "from matplotlib.patches import Rectangle\n",
    "axis = ax[1,1].axis()\n",
    "p = Rectangle([axis[0], axis[2]], width=axis[1]-axis[0], height=axis[3]-axis[2],\n",
    "              edgecolor='red', fill=False)\n",
    "ax[0,1].add_artist(p);"
   ]
  },
  {
   "cell_type": "markdown",
   "metadata": {
    "slideshow": {
     "slide_type": "notes"
    }
   },
   "source": [
    "In the figure above, we see a quadratic function $f$ with some added noise. The noise here is purely random, but this is very similar to noise one might see in the output of a numerical model, or in measurements. In the top-left figure the noise is hardly visible, and only in the zoom-in of the same graph (bottom-left figure) some noise can be seen. When we look at the derivative of $f$ treated as a piecewise linear function (top-right, and zoom-in bottom-right), we see a lot more noise. This is typical of numerical derivatives on gridded data; Even if the noise in $f$ itself is small, the noise in $f'$ is significant because the variations happen over small distances at the scale of the grid resolution. An optimisation algorithm that finds local minima by searching for the roots in $f'$ will strugle to reduce the absolute value of $f'$ to below $0.1$."
   ]
  },
  {
   "cell_type": "markdown",
   "metadata": {
    "slideshow": {
     "slide_type": "slide"
    }
   },
   "source": [
    "# Truncated Newton Methods\n",
    "So far in the linear solve to compute the next Newton step:\n",
    "\n",
    "$$\n",
    "  \\underline{\\mathbf B}^{(i)} {\\bf p}^{(i)} = -{\\bf F}({\\bf x}^{(i)}),\n",
    "$$\n",
    "\n",
    "where $\\underline{\\mathbf B}^{(i)}$ is the Hessian, or an approximation of it, at ${\\bf x}^{(i)}$, we have used a direct solve to compute ${\\bf p}^{(i)}$ exactly. In many cases, as we will come back to  in more detail in lecture 5, iterative solvers can be more efficient than direct methods."
   ]
  },
  {
   "cell_type": "markdown",
   "metadata": {
    "slideshow": {
     "slide_type": "subslide"
    }
   },
   "source": [
    "In lecture 2, we have already encountered a very effective iterative solver to solve linear systems where the matrix is SPD. We know that after $n$ iterations (where $n$ is the number of rows/columns of the matrix) this method converges to the answer exactly. A natural idea would be to look if we can get away with solving the system less accurately, and stop the iteration as soon as the residual ${\\bf r}={\\bf A}{\\bf x}-{\\bf b}$ has been reduced by a certain factor (a relative tolerance!). After all we have seen that we can get away with pretty big approximations in the Hessian itself.\n",
    "\n",
    "As it turns out, we can indeed get away with a very loose tolerance, and thus dramatically decrease the cost of the linear solve in each Newton iteration. Moreover, it turns out that making this approximation can actually increase the robustness of the Newton method! This seems like a little counter-intuitive, but is in-line with our experience with trust region methods and also a method like BFGS. There the modification/approximation of the Hessian makes the method more robust when the exact Hessian is not well-behaved (i.e. not SPD). A similar process takes place if we solve the update-step not exactly.\n",
    "\n",
    "As a reminder, when we were looking at the Conjugate Gradient algorithm, it became clear that the very first iteration is exactly the same as steepest descent. Thus intuitively we can see that a rough approximation with just a few iterations of CG stays closer to the steepest descent method, which deals more robustly with an indefinite Hessian. What is remarkable however, that it can be proven that this rough approximation is enough to maintain the convergence properties of the Newton method when we are getting near the local minimum. In other words we only need to do a little better than steepest descent, to maintain the local convergence properties of the Newton method.\n",
    "\n",
    "This approach, Newton's method where the linear solve is done with only a few iterations of an iterative solver, is refered to as a <a class=\"definition\" href=\"#definitions\" id=\"truncatedNewton\">truncated Newton</a> method. In particular the combination of Newton with truncated CG, often just referred to simply as <a class=\"definition\" href=\"#definitions\" id=\"NewtonCG\">Newton-CG</a>, is a very popular method. Where, as we have seen yesterday, pure Newton with a line search is not very robust in the present of indefinite Hessians, Newton-CG with a line search is a much more robust method (as we will see in the example below). In `scipy.optimization` it is available as `newton-cg` and the `tnc` methods of [`minimize`](https://docs.scipy.org/doc/scipy/reference/generated/scipy.optimize.minimize.html) (the latter also offers simple bound restrictions as L-BFGS-B). For added robustness the Newton-CG approach is also often combined with a trust region approach (e.g. `trust-ncg` of [`minimize`](https://docs.scipy.org/doc/scipy/reference/generated/scipy.optimize.minimize.html))."
   ]
  },
  {
   "cell_type": "markdown",
   "metadata": {
    "slideshow": {
     "slide_type": "slide"
    }
   },
   "source": [
    "## Truncated Newton-CG Example\n",
    "We return to the example in yesterday's lecture notes, where we were trying to find the minimum of\n",
    "\n",
    "$$\n",
    "  f(x, y) = \\frac{\\left(x^2 + (\\gamma y)^2 -1\\right)^2}{x^2 + (\\gamma y)^2 - 1/h} - y,\n",
    "$$\n",
    "\n",
    "and we found Newton's method to be struggling even with a line search. First let's repeat the definition of the function in code, and its first and second derivative:"
   ]
  },
  {
   "cell_type": "code",
   "execution_count": 8,
   "metadata": {},
   "outputs": [],
   "source": [
    "from mpl_toolkits.mplot3d import Axes3D\n",
    "\n",
    "gamma = 5  # aspect ratio\n",
    "mx = 2.5  # width of axis view\n",
    "x0 = np.array([-0.5,-0.5])  # initial guess\n",
    "h = 10.  # height of bump\n",
    "\n",
    "# here and below we ... (three dots) to leave free any unspecified dimensions\n",
    "# so if x.shape=(D,):    x[...,0] = x[0]\n",
    "#    if x.shape=(N,D):   x[...,0] = x[:,0]\n",
    "#    if x.shape=(M,N,D): x[...,0] = x[:,:,0], etc.\n",
    "# in this way the function f works regardless of whether we give it one point in R^D\n",
    "# or a MxN raster of points\n",
    "def f(x):\n",
    "    return (x[...,0]**2 + (gamma*x[...,1])**2 - 1)**2/(x[...,0]**2 + (gamma*x[...,1])**2 + 1/h) - x[...,1]\n",
    "\n",
    "\n",
    "def dfdx(xy):\n",
    "    x = xy[...,0]\n",
    "    y = xy[...,1]\n",
    "    ans = np.empty_like(xy)\n",
    "    ans[...,0] = -2*x*(gamma**2*y**2 + x**2 - 1)**2/(gamma**2*y**2 + x**2 + 1/h)**2 + 4*x*(gamma**2*y**2 + x**2 - 1)/(gamma**2*y**2 + x**2 + 1/h)\n",
    "    ans[...,1] = -2*gamma**2*y*(gamma**2*y**2 + x**2 - 1)**2/(gamma**2*y**2 + x**2 + 1/h)**2 + 4*gamma**2*y*(gamma**2*y**2 + x**2 - 1)/(gamma**2*y**2 + x**2 + 1/h) - 1\n",
    "    return ans\n",
    "\n",
    "\n",
    "def hess(xy):\n",
    "    x = xy[...,0]\n",
    "    y = xy[...,1]\n",
    "    ans = np.empty(xy.shape+(xy.shape[-1],))\n",
    "    ans[...,0,0] = 2*(2*gamma**2*y**2 + 4*x**2*(gamma**2*y**2 + x**2 - 1)**2/(gamma**2*y**2 + x**2 + 1/h)**2 - 8*x**2*(gamma**2*y**2 + x**2 - 1)/(gamma**2*y**2 + x**2 + 1/h) + 6*x**2 - (gamma**2*y**2 + x**2 - 1)**2/(gamma**2*y**2 + x**2 + 1/h) - 2)/(gamma**2*y**2 + x**2 + 1/h)\n",
    "    ans[...,0,1] = 8*gamma**2*x*y*((gamma**2*y**2 + x**2 - 1)**2/(gamma**2*y**2 + x**2 + 1/h)**2 - 2*(gamma**2*y**2 + x**2 - 1)/(gamma**2*y**2 + x**2 + 1/h) + 1)/(gamma**2*y**2 + x**2 + 1/h)\n",
    "    ans[...,1,0] = ans[...,0,1]\n",
    "    ans[...,1,1] = 2*gamma**2*(4*gamma**2*y**2*(gamma**2*y**2 + x**2 - 1)**2/(gamma**2*y**2 + x**2 + 1/h)**2 - 8*gamma**2*y**2*(gamma**2*y**2 + x**2 - 1)/(gamma**2*y**2 + x**2 + 1/h) + 6*gamma**2*y**2 + 2*x**2 - (gamma**2*y**2 + x**2 - 1)**2/(gamma**2*y**2 + x**2 + 1/h) - 2)/(gamma**2*y**2 + x**2 + 1/h)\n",
    "    return ans"
   ]
  },
  {
   "cell_type": "markdown",
   "metadata": {},
   "source": [
    "To implement the Newton-CG method we copy the `conjugate_gradient` routine from lecture 2. We have made two modifications however:\n",
    "1. we implement a relative tolerance stopping criterion, which stops the iteration as soon as the residual norm is smaller than a specified fraction `rtol` of the the initial residual.\n",
    "2. we know that the conjugate gradient method only works for SPD matrices. We can detect indefiniteness if the inner product $\\langle {\\bf p},\\underline{\\mathbf A}{\\bf p}\\rangle$ becomes 0 or negative. Rather than continueing at that point, we now indicate failure by returning `None`"
   ]
  },
  {
   "cell_type": "code",
   "execution_count": 9,
   "metadata": {},
   "outputs": [],
   "source": [
    "def conjugate_gradient(A, b, x0, rtol=1e-5, verbose=False):\n",
    "    r0 = b - A @ x0\n",
    "    init_residual_norm = sl.norm(r0)\n",
    "    p = r0\n",
    "    x = x0\n",
    "    i = 0\n",
    "    while sl.norm(r0)>rtol*init_residual_norm:\n",
    "        Ap = A @ p\n",
    "        pAp = np.dot(p, Ap)\n",
    "        if pAp <= 0.0:\n",
    "            # A is not SPD: failure\n",
    "            if verbose:\n",
    "                print('CG Failure after {} iterations'.format(i))\n",
    "            return None\n",
    "        alpha = np.dot(r0, r0) / pAp\n",
    "        x = x + alpha * p\n",
    "        r1 = r0 - alpha * Ap\n",
    "        beta = np.dot(r1, r1)/np.dot(r0, r0)\n",
    "        p = r1 + beta * p\n",
    "        r0 = r1\n",
    "        i = i + 1\n",
    "    if verbose:\n",
    "        print('CG Converged after {} iterations'.format(i))\n",
    "    return x"
   ]
  },
  {
   "cell_type": "markdown",
   "metadata": {},
   "source": [
    "Then we copy the `simple_line_search` from yesterday's notes and define `newton_cg_method` which is the same `newton_method_ls` except that the direct solve `sl.solve` has been replaced with a call to `conjugate_gradient`. When the CG method fails (due to the Hessian not being SPD), we switch to steepest descent instead."
   ]
  },
  {
   "cell_type": "code",
   "execution_count": 10,
   "metadata": {},
   "outputs": [],
   "source": [
    "def simple_line_search(x, p, f, initial_slope, alpha=1e-4, max_search_iter=100):\n",
    "    \"\"\"Simple line search that halves lambda until the Armijo rule is satisfied\n",
    "    \n",
    "    x - initial point (at lambda=0)\n",
    "    p - search direction, search is along x+lambda*p\n",
    "    f - (callback) function to minimize\n",
    "    initial_slope - derivative of f in x in p-direction\"\"\"\n",
    "    lamda = 1.\n",
    "    if initial_slope==0.0:\n",
    "        return x, 1.0, 0\n",
    "    for j in range(max_search_iter):\n",
    "        xt = x + lamda*p\n",
    "        # check Armijo rule:\n",
    "        if f(xt) - f(x) <= alpha*lamda*initial_slope:\n",
    "            break\n",
    "        # uncomment to follow convergence of line search:\n",
    "        # print(j,lamda,f(xt)-f(x), alpha*lamda*initial_slope)\n",
    "        lamda /= 2.\n",
    "    else:\n",
    "        raise Exception(\"Line search did not converge\")\n",
    "    return xt, lamda, j\n",
    "\n",
    "def newton_cg_method(F, jac, f, line_search, x_0, atol = 1.e-5, maxiter=100, verbose=False, cg_rtol=0.5):\n",
    "    \"Newton-CG method with line search\"\n",
    "    x_n = []\n",
    "    y_n = []\n",
    "    x = x_0\n",
    "    \n",
    "    # iterate until we hit break either as we hit tolerance or maximum number iterations\n",
    "    # since we include the initial guess, the max. number of entries is maxiter+1\n",
    "    for i in range(maxiter+1):\n",
    "        x_n.append(x)\n",
    "        Fx = F(x)\n",
    "        y_n.append(Fx)\n",
    "        \n",
    "        # Newton update:\n",
    "        p = conjugate_gradient(jac(x), -Fx, np.zeros(len(x)), rtol=cg_rtol, verbose=verbose)\n",
    "        if p is None:\n",
    "            # CG has failed (due to an indefinite matrix)\n",
    "            # let's do steepest descent instead\n",
    "            p = -Fx\n",
    "                \n",
    "        x, lamda, reductions = line_search(x, p, f, np.dot(F(x), p))\n",
    "        if verbose:\n",
    "            print(\"In iteration {}, x={}; {} reductions were needed (lambda={})\".format(i, x_n[-1], reductions, lamda))\n",
    "        if sl.norm(F(x))<atol:\n",
    "            break\n",
    "    else:\n",
    "        print(\"Newton Convergence not achieved - stopped with maximum n/o iterations\")\n",
    "    \n",
    "    return x_n, y_n"
   ]
  },
  {
   "cell_type": "markdown",
   "metadata": {},
   "source": [
    "The tolerance used in CG, can be specified via the `cg_rtol` argument to `newton_cg_method`. Let us first see what its behaviour is if we specify a tight tolerance:"
   ]
  },
  {
   "cell_type": "code",
   "execution_count": 11,
   "metadata": {},
   "outputs": [
    {
     "name": "stdout",
     "output_type": "stream",
     "text": [
      "CG Converged after 2 iterations\n",
      "In iteration 0, x=[-0.5 -0.5]; 1 reductions were needed (lambda=0.5)\n",
      "CG Converged after 2 iterations\n",
      "In iteration 1, x=[-0.27629238 -0.26600667]; 0 reductions were needed (lambda=1.0)\n",
      "CG Failure after 1 iterations\n",
      "In iteration 2, x=[-0.19578792 -0.15909856]; 7 reductions were needed (lambda=0.0078125)\n",
      "CG Converged after 2 iterations\n",
      "In iteration 3, x=[-0.19895349 -0.2155953 ]; 0 reductions were needed (lambda=1.0)\n",
      "CG Failure after 1 iterations\n",
      "In iteration 4, x=[-0.23584547 -0.18559423]; 7 reductions were needed (lambda=0.0078125)\n",
      "CG Failure after 1 iterations\n",
      "In iteration 5, x=[-0.23647361 -0.19013919]; 7 reductions were needed (lambda=0.0078125)\n",
      "CG Failure after 1 iterations\n",
      "In iteration 6, x=[-0.23675966 -0.18807684]; 7 reductions were needed (lambda=0.0078125)\n",
      "CG Failure after 1 iterations\n",
      "In iteration 7, x=[-0.23719582 -0.18892624]; 6 reductions were needed (lambda=0.015625)\n",
      "CG Failure after 1 iterations\n",
      "In iteration 8, x=[-0.23794046 -0.18812888]; 7 reductions were needed (lambda=0.0078125)\n",
      "CG Failure after 1 iterations\n",
      "In iteration 9, x=[-0.23837042 -0.18881511]; 6 reductions were needed (lambda=0.015625)\n",
      "CG Failure after 1 iterations\n",
      "In iteration 10, x=[-0.23912643 -0.18816113]; 6 reductions were needed (lambda=0.015625)\n",
      "CG Failure after 1 iterations\n",
      "In iteration 11, x=[-0.23997674 -0.18926311]; 7 reductions were needed (lambda=0.0078125)\n",
      "CG Failure after 1 iterations\n",
      "In iteration 12, x=[-0.24031814 -0.188182  ]; 6 reductions were needed (lambda=0.015625)\n",
      "CG Failure after 1 iterations\n",
      "In iteration 13, x=[-0.24116038 -0.18904488]; 7 reductions were needed (lambda=0.0078125)\n",
      "CG Failure after 1 iterations\n",
      "In iteration 14, x=[-0.24151516 -0.18818516]; 6 reductions were needed (lambda=0.015625)\n",
      "CG Failure after 1 iterations\n",
      "In iteration 15, x=[-0.24235183 -0.18885833]; 7 reductions were needed (lambda=0.0078125)\n",
      "CG Failure after 1 iterations\n",
      "In iteration 16, x=[-0.24271773 -0.18817419]; 5 reductions were needed (lambda=0.03125)\n",
      "CG Failure after 1 iterations\n",
      "In iteration 17, x=[-0.24438396 -0.18921898]; 7 reductions were needed (lambda=0.0078125)\n",
      "CG Failure after 1 iterations\n",
      "In iteration 18, x=[-0.24471808 -0.18787396]; 6 reductions were needed (lambda=0.015625)\n",
      "CG Failure after 1 iterations\n",
      "In iteration 19, x=[-0.24558817 -0.18894858]; 7 reductions were needed (lambda=0.0078125)\n",
      "CG Failure after 1 iterations\n",
      "In iteration 20, x=[-0.24593954 -0.18789441]; 6 reductions were needed (lambda=0.015625)\n",
      "CG Failure after 1 iterations\n",
      "In iteration 21, x=[-0.24680099 -0.18872283]; 7 reductions were needed (lambda=0.0078125)\n",
      "CG Failure after 1 iterations\n",
      "In iteration 22, x=[-0.24716639 -0.18789564]; 6 reductions were needed (lambda=0.015625)\n",
      "CG Failure after 1 iterations\n",
      "In iteration 23, x=[-0.248022   -0.18853137]; 6 reductions were needed (lambda=0.015625)\n",
      "CG Failure after 1 iterations\n",
      "In iteration 24, x=[-0.24877584 -0.18723201]; 7 reductions were needed (lambda=0.0078125)\n",
      "CG Failure after 1 iterations\n",
      "In iteration 25, x=[-0.24925167 -0.18837239]; 6 reductions were needed (lambda=0.015625)\n",
      "CG Failure after 1 iterations\n",
      "In iteration 26, x=[-0.2500237  -0.18733395]; 7 reductions were needed (lambda=0.0078125)\n",
      "CG Failure after 1 iterations\n",
      "In iteration 27, x=[-0.25048862 -0.18823027]; 6 reductions were needed (lambda=0.015625)\n",
      "CG Failure after 1 iterations\n",
      "In iteration 28, x=[-0.2512763  -0.18740286]; 7 reductions were needed (lambda=0.0078125)\n",
      "CG Failure after 1 iterations\n",
      "In iteration 29, x=[-0.25173282 -0.18810211]; 5 reductions were needed (lambda=0.03125)\n",
      "CG Failure after 1 iterations\n",
      "In iteration 30, x=[-0.2533352  -0.18678588]; 7 reductions were needed (lambda=0.0078125)\n",
      "CG Failure after 1 iterations\n",
      "In iteration 31, x=[-0.25383591 -0.18820266]; 6 reductions were needed (lambda=0.015625)\n",
      "CG Failure after 1 iterations\n",
      "In iteration 32, x=[-0.25461037 -0.18693309]; 7 reductions were needed (lambda=0.0078125)\n",
      "CG Failure after 1 iterations\n",
      "In iteration 33, x=[-0.25509615 -0.18803694]; 6 reductions were needed (lambda=0.015625)\n",
      "CG Failure after 1 iterations\n",
      "In iteration 34, x=[-0.25588977 -0.18703687]; 7 reductions were needed (lambda=0.0078125)\n",
      "CG Failure after 1 iterations\n",
      "In iteration 35, x=[-0.256364   -0.18788994]; 6 reductions were needed (lambda=0.015625)\n",
      "CG Failure after 1 iterations\n",
      "In iteration 36, x=[-0.25717389 -0.18710426]; 7 reductions were needed (lambda=0.0078125)\n",
      "CG Failure after 1 iterations\n",
      "In iteration 37, x=[-0.25763937 -0.18775815]; 5 reductions were needed (lambda=0.03125)\n",
      "CG Failure after 1 iterations\n",
      "In iteration 38, x=[-0.25928692 -0.18652504]; 7 reductions were needed (lambda=0.0078125)\n",
      "CG Failure after 1 iterations\n",
      "In iteration 39, x=[-0.25979396 -0.18783135]; 6 reductions were needed (lambda=0.015625)\n",
      "CG Failure after 1 iterations\n",
      "In iteration 40, x=[-0.26059392 -0.18666559]; 7 reductions were needed (lambda=0.0078125)\n",
      "CG Failure after 1 iterations\n",
      "In iteration 41, x=[-0.26108597 -0.18766468]; 6 reductions were needed (lambda=0.015625)\n",
      "CG Failure after 1 iterations\n",
      "In iteration 42, x=[-0.26190516 -0.1867601 ]; 7 reductions were needed (lambda=0.0078125)\n",
      "CG Failure after 1 iterations\n",
      "In iteration 43, x=[-0.26238588 -0.1875175 ]; 6 reductions were needed (lambda=0.015625)\n",
      "CG Failure after 1 iterations\n",
      "In iteration 44, x=[-0.2632212  -0.18681682]; 6 reductions were needed (lambda=0.015625)\n",
      "CG Failure after 1 iterations\n",
      "In iteration 45, x=[-0.26416595 -0.1879548 ]; 7 reductions were needed (lambda=0.0078125)\n",
      "CG Failure after 1 iterations\n",
      "In iteration 46, x=[-0.26454299 -0.18684893]; 6 reductions were needed (lambda=0.015625)\n",
      "CG Failure after 1 iterations\n",
      "In iteration 47, x=[-0.26547486 -0.18767858]; 7 reductions were needed (lambda=0.0078125)\n",
      "CG Failure after 1 iterations\n",
      "In iteration 48, x=[-0.26587015 -0.18685249]; 5 reductions were needed (lambda=0.03125)\n",
      "CG Failure after 1 iterations\n",
      "In iteration 49, x=[-0.26771712 -0.18805358]; 7 reductions were needed (lambda=0.0078125)\n",
      "CG Failure after 1 iterations\n",
      "In iteration 50, x=[-0.2680749  -0.18652395]; 6 reductions were needed (lambda=0.015625)\n",
      "CG Failure after 1 iterations\n",
      "In iteration 51, x=[-0.26903985 -0.18768394]; 7 reductions were needed (lambda=0.0078125)\n",
      "CG Failure after 1 iterations\n",
      "In iteration 52, x=[-0.26942336 -0.18656003]; 6 reductions were needed (lambda=0.015625)\n",
      "CG Failure after 1 iterations\n",
      "In iteration 53, x=[-0.27037406 -0.18739255]; 7 reductions were needed (lambda=0.0078125)\n",
      "CG Failure after 1 iterations\n",
      "In iteration 54, x=[-0.27077715 -0.18656448]; 5 reductions were needed (lambda=0.03125)\n",
      "CG Failure after 1 iterations\n",
      "In iteration 55, x=[-0.2726602  -0.18774992]; 7 reductions were needed (lambda=0.0078125)\n",
      "CG Failure after 1 iterations\n",
      "In iteration 56, x=[-0.27302618 -0.18623756]; 6 reductions were needed (lambda=0.015625)\n",
      "CG Failure after 1 iterations\n",
      "In iteration 57, x=[-0.27400876 -0.18736857]; 7 reductions were needed (lambda=0.0078125)\n",
      "CG Failure after 1 iterations\n",
      "In iteration 58, x=[-0.27440165 -0.18627267]; 6 reductions were needed (lambda=0.015625)\n",
      "CG Failure after 1 iterations\n",
      "In iteration 59, x=[-0.27536939 -0.18707086]; 7 reductions were needed (lambda=0.0078125)\n",
      "CG Failure after 1 iterations\n",
      "In iteration 60, x=[-0.27578249 -0.18627428]; 5 reductions were needed (lambda=0.03125)\n",
      "CG Failure after 1 iterations\n",
      "In iteration 61, x=[-0.27769922 -0.18739018]; 7 reductions were needed (lambda=0.0078125)\n",
      "CG Failure after 1 iterations\n",
      "In iteration 62, x=[-0.27807732 -0.18595627]; 6 reductions were needed (lambda=0.015625)\n",
      "CG Failure after 1 iterations\n",
      "In iteration 63, x=[-0.27907499 -0.18701024]; 7 reductions were needed (lambda=0.0078125)\n",
      "CG Failure after 1 iterations\n",
      "In iteration 64, x=[-0.27948014 -0.18598516]; 6 reductions were needed (lambda=0.015625)\n",
      "CG Failure after 1 iterations\n",
      "In iteration 65, x=[-0.28046323 -0.18671547]; 6 reductions were needed (lambda=0.015625)\n",
      "CG Failure after 1 iterations\n",
      "In iteration 66, x=[-0.28131367 -0.18524478]; 7 reductions were needed (lambda=0.0078125)\n",
      "CG Failure after 1 iterations\n",
      "In iteration 67, x=[-0.2818637  -0.18648715]; 6 reductions were needed (lambda=0.015625)\n",
      "CG Failure after 1 iterations\n",
      "In iteration 68, x=[-0.28274314 -0.18540863]; 7 reductions were needed (lambda=0.0078125)\n",
      "CG Failure after 1 iterations\n",
      "In iteration 69, x=[-0.28327376 -0.1862949 ]; 6 reductions were needed (lambda=0.015625)\n",
      "CG Failure after 1 iterations\n",
      "In iteration 70, x=[-0.2841761  -0.18550545]; 6 reductions were needed (lambda=0.015625)\n",
      "CG Failure after 1 iterations\n",
      "In iteration 71, x=[-0.28521005 -0.18675419]; 7 reductions were needed (lambda=0.0078125)\n",
      "CG Failure after 1 iterations\n",
      "In iteration 72, x=[-0.28561423 -0.185558  ]; 6 reductions were needed (lambda=0.015625)\n",
      "CG Failure after 1 iterations\n",
      "In iteration 73, x=[-0.28662844 -0.18640593]; 7 reductions were needed (lambda=0.0078125)\n",
      "CG Failure after 1 iterations\n",
      "In iteration 74, x=[-0.28705732 -0.18556632]; 5 reductions were needed (lambda=0.03125)\n",
      "CG Failure after 1 iterations\n",
      "In iteration 75, x=[-0.28906141 -0.18670458]; 7 reductions were needed (lambda=0.0078125)\n",
      "CG Failure after 1 iterations\n",
      "In iteration 76, x=[-0.28945473 -0.18524318]; 6 reductions were needed (lambda=0.015625)\n",
      "CG Failure after 1 iterations\n",
      "In iteration 77, x=[-0.29049632 -0.18628289]; 7 reductions were needed (lambda=0.0078125)\n",
      "CG Failure after 1 iterations\n",
      "In iteration 78, x=[-0.29092072 -0.18527414]; 6 reductions were needed (lambda=0.015625)\n",
      "CG Failure after 1 iterations\n",
      "In iteration 79, x=[-0.29194547 -0.18596465]; 6 reductions were needed (lambda=0.015625)\n",
      "CG Failure after 1 iterations\n",
      "In iteration 80, x=[-0.2928388  -0.18456547]; 7 reductions were needed (lambda=0.0078125)\n",
      "CG Failure after 1 iterations\n",
      "In iteration 81, x=[-0.29340802 -0.18572197]; 6 reductions were needed (lambda=0.015625)\n",
      "CG Failure after 1 iterations\n",
      "In iteration 82, x=[-0.2943327  -0.18472963]; 7 reductions were needed (lambda=0.0078125)\n",
      "CG Failure after 1 iterations\n",
      "In iteration 83, x=[-0.29488105 -0.1855211 ]; 5 reductions were needed (lambda=0.03125)\n",
      "CG Failure after 1 iterations\n",
      "In iteration 84, x=[-0.29677837 -0.18411301]; 7 reductions were needed (lambda=0.0078125)\n",
      "CG Failure after 1 iterations\n",
      "In iteration 85, x=[-0.29737388 -0.18553633]; 6 reductions were needed (lambda=0.015625)\n",
      "CG Failure after 1 iterations\n",
      "In iteration 86, x=[-0.29829897 -0.18434082]; 7 reductions were needed (lambda=0.0078125)\n",
      "CG Failure after 1 iterations\n",
      "In iteration 87, x=[-0.29886714 -0.18530628]; 6 reductions were needed (lambda=0.015625)\n",
      "CG Failure after 1 iterations\n",
      "In iteration 88, x=[-0.29982125 -0.18447062]; 6 reductions were needed (lambda=0.015625)\n",
      "CG Failure after 1 iterations\n",
      "In iteration 89, x=[-0.30092087 -0.18575971]; 7 reductions were needed (lambda=0.0078125)\n",
      "CG Failure after 1 iterations\n",
      "In iteration 90, x=[-0.30134783 -0.18453623]; 6 reductions were needed (lambda=0.015625)\n",
      "CG Failure after 1 iterations\n",
      "In iteration 91, x=[-0.30242232 -0.18536086]; 6 reductions were needed (lambda=0.015625)\n",
      "CG Failure after 1 iterations\n",
      "In iteration 92, x=[-0.30333541 -0.18372723]; 7 reductions were needed (lambda=0.0078125)\n",
      "CG Failure after 1 iterations\n",
      "In iteration 93, x=[-0.30394007 -0.18507064]; 6 reductions were needed (lambda=0.015625)\n",
      "CG Failure after 1 iterations\n",
      "In iteration 94, x=[-0.30489289 -0.18395001]; 7 reductions were needed (lambda=0.0078125)\n",
      "CG Failure after 1 iterations\n",
      "In iteration 95, x=[-0.30546973 -0.18483803]; 5 reductions were needed (lambda=0.03125)\n",
      "CG Failure after 1 iterations\n",
      "In iteration 96, x=[-0.30743387 -0.18330034]; 7 reductions were needed (lambda=0.0078125)\n",
      "CG Failure after 1 iterations\n",
      "In iteration 97, x=[-0.30806152 -0.18484331]; 6 reductions were needed (lambda=0.015625)\n",
      "CG Failure after 1 iterations\n",
      "In iteration 98, x=[-0.30901877 -0.18357766]; 7 reductions were needed (lambda=0.0078125)\n",
      "CG Failure after 1 iterations\n",
      "In iteration 99, x=[-0.30961268 -0.18458573]; 5 reductions were needed (lambda=0.03125)\n",
      "CG Failure after 1 iterations\n",
      "In iteration 100, x=[-0.31159458 -0.18287508]; 7 reductions were needed (lambda=0.0078125)\n",
      "Newton Convergence not achieved - stopped with maximum n/o iterations\n"
     ]
    }
   ],
   "source": [
    "x0 = np.array([-0.5, -0.5])\n",
    "x_n, y_n = newton_cg_method(dfdx, hess, f, simple_line_search, x0, cg_rtol=1e-7, atol=1.e-5, verbose=True)"
   ]
  },
  {
   "cell_type": "markdown",
   "metadata": {},
   "source": [
    "This does not seem to work very well. It stopped because we hit the maximum number of iterations. And indeed if we check the derivative in the last point:"
   ]
  },
  {
   "cell_type": "code",
   "execution_count": 12,
   "metadata": {},
   "outputs": [
    {
     "name": "stdout",
     "output_type": "stream",
     "text": [
      "[0.08322388 0.22110383]\n"
     ]
    }
   ],
   "source": [
    "print(dfdx(x_n[-1]))"
   ]
  },
  {
   "cell_type": "markdown",
   "metadata": {},
   "source": [
    "we see we haven't reached a stationary point. There is an improvement of `newton_method_ls` from yesterday, in that the method at least does not stall (unlike `newton_method_ls` which gets stuck as soon as it hits a indefinite Hessian). If we increase the `maxiter` argument we can in fact get convergence:"
   ]
  },
  {
   "cell_type": "code",
   "execution_count": 13,
   "metadata": {},
   "outputs": [
    {
     "name": "stdout",
     "output_type": "stream",
     "text": [
      "CG Converged after 2 iterations\n",
      "In iteration 0, x=[-0.5 -0.5]; 1 reductions were needed (lambda=0.5)\n",
      "CG Converged after 2 iterations\n",
      "In iteration 1, x=[-0.27629238 -0.26600667]; 0 reductions were needed (lambda=1.0)\n",
      "CG Failure after 1 iterations\n",
      "In iteration 2, x=[-0.19578792 -0.15909856]; 7 reductions were needed (lambda=0.0078125)\n",
      "CG Converged after 2 iterations\n",
      "In iteration 3, x=[-0.19895349 -0.2155953 ]; 0 reductions were needed (lambda=1.0)\n",
      "CG Failure after 1 iterations\n",
      "In iteration 4, x=[-0.23584547 -0.18559423]; 7 reductions were needed (lambda=0.0078125)\n",
      "CG Failure after 1 iterations\n",
      "In iteration 5, x=[-0.23647361 -0.19013919]; 7 reductions were needed (lambda=0.0078125)\n",
      "CG Failure after 1 iterations\n",
      "In iteration 6, x=[-0.23675966 -0.18807684]; 7 reductions were needed (lambda=0.0078125)\n",
      "CG Failure after 1 iterations\n",
      "In iteration 7, x=[-0.23719582 -0.18892624]; 6 reductions were needed (lambda=0.015625)\n",
      "CG Failure after 1 iterations\n",
      "In iteration 8, x=[-0.23794046 -0.18812888]; 7 reductions were needed (lambda=0.0078125)\n",
      "CG Failure after 1 iterations\n",
      "In iteration 9, x=[-0.23837042 -0.18881511]; 6 reductions were needed (lambda=0.015625)\n",
      "CG Failure after 1 iterations\n",
      "In iteration 10, x=[-0.23912643 -0.18816113]; 6 reductions were needed (lambda=0.015625)\n",
      "CG Failure after 1 iterations\n",
      "In iteration 11, x=[-0.23997674 -0.18926311]; 7 reductions were needed (lambda=0.0078125)\n",
      "CG Failure after 1 iterations\n",
      "In iteration 12, x=[-0.24031814 -0.188182  ]; 6 reductions were needed (lambda=0.015625)\n",
      "CG Failure after 1 iterations\n",
      "In iteration 13, x=[-0.24116038 -0.18904488]; 7 reductions were needed (lambda=0.0078125)\n",
      "CG Failure after 1 iterations\n",
      "In iteration 14, x=[-0.24151516 -0.18818516]; 6 reductions were needed (lambda=0.015625)\n",
      "CG Failure after 1 iterations\n",
      "In iteration 15, x=[-0.24235183 -0.18885833]; 7 reductions were needed (lambda=0.0078125)\n",
      "CG Failure after 1 iterations\n",
      "In iteration 16, x=[-0.24271773 -0.18817419]; 5 reductions were needed (lambda=0.03125)\n",
      "CG Failure after 1 iterations\n",
      "In iteration 17, x=[-0.24438396 -0.18921898]; 7 reductions were needed (lambda=0.0078125)\n",
      "CG Failure after 1 iterations\n",
      "In iteration 18, x=[-0.24471808 -0.18787396]; 6 reductions were needed (lambda=0.015625)\n",
      "CG Failure after 1 iterations\n",
      "In iteration 19, x=[-0.24558817 -0.18894858]; 7 reductions were needed (lambda=0.0078125)\n",
      "CG Failure after 1 iterations\n",
      "In iteration 20, x=[-0.24593954 -0.18789441]; 6 reductions were needed (lambda=0.015625)\n",
      "CG Failure after 1 iterations\n",
      "In iteration 21, x=[-0.24680099 -0.18872283]; 7 reductions were needed (lambda=0.0078125)\n",
      "CG Failure after 1 iterations\n",
      "In iteration 22, x=[-0.24716639 -0.18789564]; 6 reductions were needed (lambda=0.015625)\n",
      "CG Failure after 1 iterations\n",
      "In iteration 23, x=[-0.248022   -0.18853137]; 6 reductions were needed (lambda=0.015625)\n",
      "CG Failure after 1 iterations\n",
      "In iteration 24, x=[-0.24877584 -0.18723201]; 7 reductions were needed (lambda=0.0078125)\n",
      "CG Failure after 1 iterations\n",
      "In iteration 25, x=[-0.24925167 -0.18837239]; 6 reductions were needed (lambda=0.015625)\n",
      "CG Failure after 1 iterations\n",
      "In iteration 26, x=[-0.2500237  -0.18733395]; 7 reductions were needed (lambda=0.0078125)\n",
      "CG Failure after 1 iterations\n",
      "In iteration 27, x=[-0.25048862 -0.18823027]; 6 reductions were needed (lambda=0.015625)\n",
      "CG Failure after 1 iterations\n",
      "In iteration 28, x=[-0.2512763  -0.18740286]; 7 reductions were needed (lambda=0.0078125)\n",
      "CG Failure after 1 iterations\n",
      "In iteration 29, x=[-0.25173282 -0.18810211]; 5 reductions were needed (lambda=0.03125)\n",
      "CG Failure after 1 iterations\n",
      "In iteration 30, x=[-0.2533352  -0.18678588]; 7 reductions were needed (lambda=0.0078125)\n",
      "CG Failure after 1 iterations\n",
      "In iteration 31, x=[-0.25383591 -0.18820266]; 6 reductions were needed (lambda=0.015625)\n",
      "CG Failure after 1 iterations\n",
      "In iteration 32, x=[-0.25461037 -0.18693309]; 7 reductions were needed (lambda=0.0078125)\n",
      "CG Failure after 1 iterations\n",
      "In iteration 33, x=[-0.25509615 -0.18803694]; 6 reductions were needed (lambda=0.015625)\n",
      "CG Failure after 1 iterations\n",
      "In iteration 34, x=[-0.25588977 -0.18703687]; 7 reductions were needed (lambda=0.0078125)\n",
      "CG Failure after 1 iterations\n",
      "In iteration 35, x=[-0.256364   -0.18788994]; 6 reductions were needed (lambda=0.015625)\n",
      "CG Failure after 1 iterations\n",
      "In iteration 36, x=[-0.25717389 -0.18710426]; 7 reductions were needed (lambda=0.0078125)\n",
      "CG Failure after 1 iterations\n",
      "In iteration 37, x=[-0.25763937 -0.18775815]; 5 reductions were needed (lambda=0.03125)\n",
      "CG Failure after 1 iterations\n",
      "In iteration 38, x=[-0.25928692 -0.18652504]; 7 reductions were needed (lambda=0.0078125)\n",
      "CG Failure after 1 iterations\n",
      "In iteration 39, x=[-0.25979396 -0.18783135]; 6 reductions were needed (lambda=0.015625)\n",
      "CG Failure after 1 iterations\n",
      "In iteration 40, x=[-0.26059392 -0.18666559]; 7 reductions were needed (lambda=0.0078125)\n",
      "CG Failure after 1 iterations\n",
      "In iteration 41, x=[-0.26108597 -0.18766468]; 6 reductions were needed (lambda=0.015625)\n",
      "CG Failure after 1 iterations\n",
      "In iteration 42, x=[-0.26190516 -0.1867601 ]; 7 reductions were needed (lambda=0.0078125)\n",
      "CG Failure after 1 iterations\n",
      "In iteration 43, x=[-0.26238588 -0.1875175 ]; 6 reductions were needed (lambda=0.015625)\n",
      "CG Failure after 1 iterations\n",
      "In iteration 44, x=[-0.2632212  -0.18681682]; 6 reductions were needed (lambda=0.015625)\n",
      "CG Failure after 1 iterations\n",
      "In iteration 45, x=[-0.26416595 -0.1879548 ]; 7 reductions were needed (lambda=0.0078125)\n",
      "CG Failure after 1 iterations\n",
      "In iteration 46, x=[-0.26454299 -0.18684893]; 6 reductions were needed (lambda=0.015625)\n",
      "CG Failure after 1 iterations\n",
      "In iteration 47, x=[-0.26547486 -0.18767858]; 7 reductions were needed (lambda=0.0078125)\n",
      "CG Failure after 1 iterations\n",
      "In iteration 48, x=[-0.26587015 -0.18685249]; 5 reductions were needed (lambda=0.03125)\n",
      "CG Failure after 1 iterations\n",
      "In iteration 49, x=[-0.26771712 -0.18805358]; 7 reductions were needed (lambda=0.0078125)\n",
      "CG Failure after 1 iterations\n",
      "In iteration 50, x=[-0.2680749  -0.18652395]; 6 reductions were needed (lambda=0.015625)\n",
      "CG Failure after 1 iterations\n",
      "In iteration 51, x=[-0.26903985 -0.18768394]; 7 reductions were needed (lambda=0.0078125)\n",
      "CG Failure after 1 iterations\n",
      "In iteration 52, x=[-0.26942336 -0.18656003]; 6 reductions were needed (lambda=0.015625)\n",
      "CG Failure after 1 iterations\n",
      "In iteration 53, x=[-0.27037406 -0.18739255]; 7 reductions were needed (lambda=0.0078125)\n",
      "CG Failure after 1 iterations\n",
      "In iteration 54, x=[-0.27077715 -0.18656448]; 5 reductions were needed (lambda=0.03125)\n",
      "CG Failure after 1 iterations\n",
      "In iteration 55, x=[-0.2726602  -0.18774992]; 7 reductions were needed (lambda=0.0078125)\n",
      "CG Failure after 1 iterations\n",
      "In iteration 56, x=[-0.27302618 -0.18623756]; 6 reductions were needed (lambda=0.015625)\n",
      "CG Failure after 1 iterations\n",
      "In iteration 57, x=[-0.27400876 -0.18736857]; 7 reductions were needed (lambda=0.0078125)\n",
      "CG Failure after 1 iterations\n",
      "In iteration 58, x=[-0.27440165 -0.18627267]; 6 reductions were needed (lambda=0.015625)\n",
      "CG Failure after 1 iterations\n",
      "In iteration 59, x=[-0.27536939 -0.18707086]; 7 reductions were needed (lambda=0.0078125)\n",
      "CG Failure after 1 iterations\n",
      "In iteration 60, x=[-0.27578249 -0.18627428]; 5 reductions were needed (lambda=0.03125)\n",
      "CG Failure after 1 iterations\n",
      "In iteration 61, x=[-0.27769922 -0.18739018]; 7 reductions were needed (lambda=0.0078125)\n",
      "CG Failure after 1 iterations\n",
      "In iteration 62, x=[-0.27807732 -0.18595627]; 6 reductions were needed (lambda=0.015625)\n",
      "CG Failure after 1 iterations\n",
      "In iteration 63, x=[-0.27907499 -0.18701024]; 7 reductions were needed (lambda=0.0078125)\n",
      "CG Failure after 1 iterations\n",
      "In iteration 64, x=[-0.27948014 -0.18598516]; 6 reductions were needed (lambda=0.015625)\n",
      "CG Failure after 1 iterations\n",
      "In iteration 65, x=[-0.28046323 -0.18671547]; 6 reductions were needed (lambda=0.015625)\n",
      "CG Failure after 1 iterations\n",
      "In iteration 66, x=[-0.28131367 -0.18524478]; 7 reductions were needed (lambda=0.0078125)\n",
      "CG Failure after 1 iterations\n",
      "In iteration 67, x=[-0.2818637  -0.18648715]; 6 reductions were needed (lambda=0.015625)\n",
      "CG Failure after 1 iterations\n",
      "In iteration 68, x=[-0.28274314 -0.18540863]; 7 reductions were needed (lambda=0.0078125)\n",
      "CG Failure after 1 iterations\n",
      "In iteration 69, x=[-0.28327376 -0.1862949 ]; 6 reductions were needed (lambda=0.015625)\n",
      "CG Failure after 1 iterations\n",
      "In iteration 70, x=[-0.2841761  -0.18550545]; 6 reductions were needed (lambda=0.015625)\n",
      "CG Failure after 1 iterations\n",
      "In iteration 71, x=[-0.28521005 -0.18675419]; 7 reductions were needed (lambda=0.0078125)\n",
      "CG Failure after 1 iterations\n",
      "In iteration 72, x=[-0.28561423 -0.185558  ]; 6 reductions were needed (lambda=0.015625)\n",
      "CG Failure after 1 iterations\n",
      "In iteration 73, x=[-0.28662844 -0.18640593]; 7 reductions were needed (lambda=0.0078125)\n",
      "CG Failure after 1 iterations\n",
      "In iteration 74, x=[-0.28705732 -0.18556632]; 5 reductions were needed (lambda=0.03125)\n",
      "CG Failure after 1 iterations\n",
      "In iteration 75, x=[-0.28906141 -0.18670458]; 7 reductions were needed (lambda=0.0078125)\n",
      "CG Failure after 1 iterations\n",
      "In iteration 76, x=[-0.28945473 -0.18524318]; 6 reductions were needed (lambda=0.015625)\n",
      "CG Failure after 1 iterations\n",
      "In iteration 77, x=[-0.29049632 -0.18628289]; 7 reductions were needed (lambda=0.0078125)\n",
      "CG Failure after 1 iterations\n",
      "In iteration 78, x=[-0.29092072 -0.18527414]; 6 reductions were needed (lambda=0.015625)\n",
      "CG Failure after 1 iterations\n",
      "In iteration 79, x=[-0.29194547 -0.18596465]; 6 reductions were needed (lambda=0.015625)\n",
      "CG Failure after 1 iterations\n",
      "In iteration 80, x=[-0.2928388  -0.18456547]; 7 reductions were needed (lambda=0.0078125)\n",
      "CG Failure after 1 iterations\n",
      "In iteration 81, x=[-0.29340802 -0.18572197]; 6 reductions were needed (lambda=0.015625)\n",
      "CG Failure after 1 iterations\n",
      "In iteration 82, x=[-0.2943327  -0.18472963]; 7 reductions were needed (lambda=0.0078125)\n",
      "CG Failure after 1 iterations\n",
      "In iteration 83, x=[-0.29488105 -0.1855211 ]; 5 reductions were needed (lambda=0.03125)\n",
      "CG Failure after 1 iterations\n",
      "In iteration 84, x=[-0.29677837 -0.18411301]; 7 reductions were needed (lambda=0.0078125)\n",
      "CG Failure after 1 iterations\n",
      "In iteration 85, x=[-0.29737388 -0.18553633]; 6 reductions were needed (lambda=0.015625)\n",
      "CG Failure after 1 iterations\n",
      "In iteration 86, x=[-0.29829897 -0.18434082]; 7 reductions were needed (lambda=0.0078125)\n",
      "CG Failure after 1 iterations\n",
      "In iteration 87, x=[-0.29886714 -0.18530628]; 6 reductions were needed (lambda=0.015625)\n",
      "CG Failure after 1 iterations\n",
      "In iteration 88, x=[-0.29982125 -0.18447062]; 6 reductions were needed (lambda=0.015625)\n",
      "CG Failure after 1 iterations\n",
      "In iteration 89, x=[-0.30092087 -0.18575971]; 7 reductions were needed (lambda=0.0078125)\n",
      "CG Failure after 1 iterations\n",
      "In iteration 90, x=[-0.30134783 -0.18453623]; 6 reductions were needed (lambda=0.015625)\n",
      "CG Failure after 1 iterations\n",
      "In iteration 91, x=[-0.30242232 -0.18536086]; 6 reductions were needed (lambda=0.015625)\n",
      "CG Failure after 1 iterations\n",
      "In iteration 92, x=[-0.30333541 -0.18372723]; 7 reductions were needed (lambda=0.0078125)\n",
      "CG Failure after 1 iterations\n",
      "In iteration 93, x=[-0.30394007 -0.18507064]; 6 reductions were needed (lambda=0.015625)\n",
      "CG Failure after 1 iterations\n",
      "In iteration 94, x=[-0.30489289 -0.18395001]; 7 reductions were needed (lambda=0.0078125)\n",
      "CG Failure after 1 iterations\n",
      "In iteration 95, x=[-0.30546973 -0.18483803]; 5 reductions were needed (lambda=0.03125)\n",
      "CG Failure after 1 iterations\n",
      "In iteration 96, x=[-0.30743387 -0.18330034]; 7 reductions were needed (lambda=0.0078125)\n",
      "CG Failure after 1 iterations\n",
      "In iteration 97, x=[-0.30806152 -0.18484331]; 6 reductions were needed (lambda=0.015625)\n",
      "CG Failure after 1 iterations\n",
      "In iteration 98, x=[-0.30901877 -0.18357766]; 7 reductions were needed (lambda=0.0078125)\n",
      "CG Failure after 1 iterations\n",
      "In iteration 99, x=[-0.30961268 -0.18458573]; 5 reductions were needed (lambda=0.03125)\n",
      "CG Failure after 1 iterations\n",
      "In iteration 100, x=[-0.31159458 -0.18287508]; 7 reductions were needed (lambda=0.0078125)\n",
      "CG Failure after 1 iterations\n",
      "In iteration 101, x=[-0.31224477 -0.18460245]; 6 reductions were needed (lambda=0.015625)\n",
      "CG Failure after 1 iterations\n",
      "In iteration 102, x=[-0.31320746 -0.18320621]; 7 reductions were needed (lambda=0.0078125)\n",
      "CG Failure after 1 iterations\n",
      "In iteration 103, x=[-0.31381789 -0.18432041]; 6 reductions were needed (lambda=0.015625)\n",
      "CG Failure after 1 iterations\n",
      "In iteration 104, x=[-0.3148187  -0.18339091]; 6 reductions were needed (lambda=0.015625)\n",
      "CG Failure after 1 iterations\n",
      "In iteration 105, x=[-0.31598837 -0.18480016]; 7 reductions were needed (lambda=0.0078125)\n",
      "CG Failure after 1 iterations\n",
      "In iteration 106, x=[-0.31643256 -0.18348197]; 6 reductions were needed (lambda=0.015625)\n",
      "CG Failure after 1 iterations\n",
      "In iteration 107, x=[-0.31756889 -0.18432934]; 6 reductions were needed (lambda=0.015625)\n",
      "CG Failure after 1 iterations\n",
      "In iteration 108, x=[-0.31853067 -0.18266081]; 7 reductions were needed (lambda=0.0078125)\n",
      "CG Failure after 1 iterations\n",
      "In iteration 109, x=[-0.31916908 -0.1840006 ]; 6 reductions were needed (lambda=0.015625)\n",
      "CG Failure after 1 iterations\n",
      "In iteration 110, x=[-0.32017767 -0.18291191]; 6 reductions were needed (lambda=0.015625)\n",
      "CG Failure after 1 iterations\n",
      "In iteration 111, x=[-0.32138846 -0.18457955]; 7 reductions were needed (lambda=0.0078125)\n",
      "CG Failure after 1 iterations\n",
      "In iteration 112, x=[-0.32182567 -0.18304448]; 6 reductions were needed (lambda=0.015625)\n",
      "CG Failure after 1 iterations\n",
      "In iteration 113, x=[-0.32299357 -0.18402614]; 6 reductions were needed (lambda=0.015625)\n",
      "CG Failure after 1 iterations\n",
      "In iteration 114, x=[-0.32395741 -0.18212983]; 7 reductions were needed (lambda=0.0078125)\n",
      "CG Failure after 1 iterations\n",
      "In iteration 115, x=[-0.32462167 -0.18365361]; 6 reductions were needed (lambda=0.015625)\n",
      "CG Failure after 1 iterations\n",
      "In iteration 116, x=[-0.32564066 -0.1824408 ]; 7 reductions were needed (lambda=0.0078125)\n",
      "CG Failure after 1 iterations\n",
      "In iteration 117, x=[-0.32626491 -0.18337167]; 5 reductions were needed (lambda=0.03125)\n",
      "CG Failure after 1 iterations\n",
      "In iteration 118, x=[-0.32837828 -0.18181633]; 7 reductions were needed (lambda=0.0078125)\n",
      "CG Failure after 1 iterations\n",
      "In iteration 119, x=[-0.32905126 -0.18331915]; 6 reductions were needed (lambda=0.015625)\n",
      "CG Failure after 1 iterations\n",
      "In iteration 120, x=[-0.33008788 -0.18213208]; 6 reductions were needed (lambda=0.015625)\n",
      "CG Failure after 1 iterations\n",
      "In iteration 121, x=[-0.33135113 -0.1839327 ]; 7 reductions were needed (lambda=0.0078125)\n",
      "CG Failure after 1 iterations\n",
      "In iteration 122, x=[-0.3317961  -0.18229519]; 6 reductions were needed (lambda=0.015625)\n",
      "CG Failure after 1 iterations\n",
      "In iteration 123, x=[-0.33300745 -0.18330869]; 6 reductions were needed (lambda=0.015625)\n",
      "CG Failure after 1 iterations\n",
      "In iteration 124, x=[-0.33400159 -0.18136468]; 7 reductions were needed (lambda=0.0078125)\n",
      "CG Failure after 1 iterations\n",
      "In iteration 125, x=[-0.33469039 -0.18290266]; 6 reductions were needed (lambda=0.015625)\n",
      "CG Failure after 1 iterations\n",
      "In iteration 126, x=[-0.33574632 -0.18170388]; 6 reductions were needed (lambda=0.015625)\n",
      "CG Failure after 1 iterations\n",
      "In iteration 127, x=[-0.33703412 -0.18350261]; 7 reductions were needed (lambda=0.0078125)\n",
      "CG Failure after 1 iterations\n",
      "In iteration 128, x=[-0.33748837 -0.18187313]; 6 reductions were needed (lambda=0.015625)\n",
      "CG Failure after 1 iterations\n",
      "In iteration 129, x=[-0.33872124 -0.1828581 ]; 6 reductions were needed (lambda=0.015625)\n",
      "CG Failure after 1 iterations\n",
      "In iteration 130, x=[-0.33973877 -0.18096588]; 7 reductions were needed (lambda=0.0078125)\n",
      "CG Failure after 1 iterations\n",
      "In iteration 131, x=[-0.34043646 -0.18244416]; 6 reductions were needed (lambda=0.015625)\n",
      "CG Failure after 1 iterations\n",
      "In iteration 132, x=[-0.34151741 -0.1813016 ]; 6 reductions were needed (lambda=0.015625)\n",
      "CG Failure after 1 iterations\n",
      "In iteration 133, x=[-0.3428214 -0.1829828]; 7 reductions were needed (lambda=0.0078125)\n",
      "CG Failure after 1 iterations\n",
      "In iteration 134, x=[-0.34329259 -0.18145778]; 6 reductions were needed (lambda=0.015625)\n",
      "CG Failure after 1 iterations\n",
      "In iteration 135, x=[-0.34454255 -0.18235047]; 6 reductions were needed (lambda=0.015625)\n",
      "CG Failure after 1 iterations\n",
      "In iteration 136, x=[-0.34559235 -0.18061569]; 7 reductions were needed (lambda=0.0078125)\n",
      "CG Failure after 1 iterations\n",
      "In iteration 137, x=[-0.34629207 -0.18194553]; 6 reductions were needed (lambda=0.015625)\n",
      "CG Failure after 1 iterations\n",
      "In iteration 138, x=[-0.34740348 -0.18091924]; 6 reductions were needed (lambda=0.015625)\n",
      "CG Failure after 1 iterations\n",
      "In iteration 139, x=[-0.34871605 -0.18238307]; 7 reductions were needed (lambda=0.0078125)\n",
      "CG Failure after 1 iterations\n",
      "In iteration 140, x=[-0.34921113 -0.18104389]; 5 reductions were needed (lambda=0.03125)\n",
      "CG Failure after 1 iterations\n",
      "In iteration 141, x=[-0.35173789 -0.18254302]; 7 reductions were needed (lambda=0.0078125)\n",
      "CG Failure after 1 iterations\n",
      "In iteration 142, x=[-0.35219676 -0.18068399]; 6 reductions were needed (lambda=0.015625)\n",
      "CG Failure after 1 iterations\n",
      "In iteration 143, x=[-0.35349835 -0.18175263]; 6 reductions were needed (lambda=0.015625)\n",
      "CG Failure after 1 iterations\n",
      "In iteration 144, x=[-0.35455676 -0.17973225]; 7 reductions were needed (lambda=0.0078125)\n",
      "CG Failure after 1 iterations\n",
      "In iteration 145, x=[-0.35529503 -0.18127581]; 6 reductions were needed (lambda=0.015625)\n",
      "CG Failure after 1 iterations\n",
      "In iteration 146, x=[-0.35642985 -0.18012577]; 6 reductions were needed (lambda=0.015625)\n",
      "CG Failure after 1 iterations\n",
      "In iteration 147, x=[-0.35779598 -0.18176056]; 7 reductions were needed (lambda=0.0078125)\n",
      "CG Failure after 1 iterations\n",
      "In iteration 148, x=[-0.3582953  -0.18028939]; 5 reductions were needed (lambda=0.03125)\n",
      "CG Failure after 1 iterations\n",
      "In iteration 149, x=[-0.36090644 -0.18188673]; 7 reductions were needed (lambda=0.0078125)\n",
      "CG Failure after 1 iterations\n",
      "In iteration 150, x=[-0.36137086 -0.17992556]; 6 reductions were needed (lambda=0.015625)\n",
      "CG Failure after 1 iterations\n",
      "In iteration 151, x=[-0.36271343 -0.18101215]; 6 reductions were needed (lambda=0.015625)\n",
      "CG Failure after 1 iterations\n",
      "In iteration 152, x=[-0.36380216 -0.17897044]; 7 reductions were needed (lambda=0.0078125)\n",
      "CG Failure after 1 iterations\n",
      "In iteration 153, x=[-0.36456205 -0.18050349]; 6 reductions were needed (lambda=0.015625)\n",
      "CG Failure after 1 iterations\n",
      "In iteration 154, x=[-0.36573401 -0.17938506]; 6 reductions were needed (lambda=0.015625)\n",
      "CG Failure after 1 iterations\n",
      "In iteration 155, x=[-0.36713428 -0.18093015]; 7 reductions were needed (lambda=0.0078125)\n",
      "CG Failure after 1 iterations\n",
      "In iteration 156, x=[-0.36765565 -0.17954116]; 5 reductions were needed (lambda=0.03125)\n",
      "CG Failure after 1 iterations\n",
      "In iteration 157, x=[-0.37033184 -0.18096354]; 7 reductions were needed (lambda=0.0078125)\n",
      "CG Failure after 1 iterations\n",
      "In iteration 158, x=[-0.37082599 -0.17918765]; 6 reductions were needed (lambda=0.015625)\n",
      "CG Failure after 1 iterations\n",
      "In iteration 159, x=[-0.37219626 -0.18011592]; 6 reductions were needed (lambda=0.015625)\n",
      "CG Failure after 1 iterations\n",
      "In iteration 160, x=[-0.37334073 -0.17833697]; 7 reductions were needed (lambda=0.0078125)\n",
      "CG Failure after 1 iterations\n",
      "In iteration 161, x=[-0.374103   -0.17962749]; 5 reductions were needed (lambda=0.03125)\n",
      "CG Failure after 1 iterations\n",
      "In iteration 162, x=[-0.37654963 -0.17774649]; 7 reductions were needed (lambda=0.0078125)\n",
      "CG Failure after 1 iterations\n",
      "In iteration 163, x=[-0.37735526 -0.17944126]; 6 reductions were needed (lambda=0.015625)\n",
      "CG Failure after 1 iterations\n",
      "In iteration 164, x=[-0.37857001 -0.17825728]; 6 reductions were needed (lambda=0.015625)\n",
      "CG Failure after 1 iterations\n",
      "In iteration 165, x=[-0.38003298 -0.17985404]; 7 reductions were needed (lambda=0.0078125)\n",
      "CG Failure after 1 iterations\n",
      "In iteration 166, x=[-0.38057351 -0.17843683]; 5 reductions were needed (lambda=0.03125)\n",
      "CG Failure after 1 iterations\n",
      "In iteration 167, x=[-0.38335484 -0.17978843]; 7 reductions were needed (lambda=0.0078125)\n",
      "CG Failure after 1 iterations\n",
      "In iteration 168, x=[-0.38387601 -0.17808649]; 5 reductions were needed (lambda=0.03125)\n",
      "CG Failure after 1 iterations\n",
      "In iteration 169, x=[-0.3867123  -0.17973149]; 7 reductions were needed (lambda=0.0078125)\n",
      "CG Failure after 1 iterations\n",
      "In iteration 170, x=[-0.38721229 -0.17772851]; 6 reductions were needed (lambda=0.015625)\n",
      "CG Failure after 1 iterations\n",
      "In iteration 171, x=[-0.38865869 -0.17870076]; 6 reductions were needed (lambda=0.015625)\n",
      "CG Failure after 1 iterations\n",
      "In iteration 172, x=[-0.38985809 -0.17686244]; 7 reductions were needed (lambda=0.0078125)\n",
      "CG Failure after 1 iterations\n",
      "In iteration 173, x=[-0.39066058 -0.17815142]; 5 reductions were needed (lambda=0.03125)\n",
      "CG Failure after 1 iterations\n",
      "In iteration 174, x=[-0.39324335 -0.17634668]; 7 reductions were needed (lambda=0.0078125)\n",
      "CG Failure after 1 iterations\n",
      "In iteration 175, x=[-0.39407849 -0.17789691]; 5 reductions were needed (lambda=0.03125)\n",
      "CG Failure after 1 iterations\n",
      "In iteration 176, x=[-0.39666216 -0.17580534]; 7 reductions were needed (lambda=0.0078125)\n",
      "CG Failure after 1 iterations\n",
      "In iteration 177, x=[-0.39753282 -0.17763997]; 5 reductions were needed (lambda=0.03125)\n",
      "CG Failure after 1 iterations\n",
      "In iteration 178, x=[-0.40011552 -0.1752423 ]; 7 reductions were needed (lambda=0.0078125)\n",
      "CG Failure after 1 iterations\n",
      "In iteration 179, x=[-0.40102417 -0.17737904]; 6 reductions were needed (lambda=0.015625)\n",
      "CG Failure after 1 iterations\n",
      "In iteration 180, x=[-0.40231438 -0.17602111]; 6 reductions were needed (lambda=0.015625)\n",
      "CG Failure after 1 iterations\n",
      "In iteration 181, x=[-0.4039036  -0.17777897]; 7 reductions were needed (lambda=0.0078125)\n",
      "CG Failure after 1 iterations\n",
      "In iteration 182, x=[-0.40447599 -0.17626492]; 5 reductions were needed (lambda=0.03125)\n",
      "CG Failure after 1 iterations\n",
      "In iteration 183, x=[-0.40745887 -0.1775124 ]; 7 reductions were needed (lambda=0.0078125)\n",
      "CG Failure after 1 iterations\n",
      "In iteration 184, x=[-0.40802949 -0.17591473]; 5 reductions were needed (lambda=0.03125)\n",
      "CG Failure after 1 iterations\n",
      "In iteration 185, x=[-0.41104932 -0.17721347]; 7 reductions were needed (lambda=0.0078125)\n",
      "CG Failure after 1 iterations\n",
      "In iteration 186, x=[-0.41162115 -0.17556415]; 5 reductions were needed (lambda=0.03125)\n",
      "CG Failure after 1 iterations\n",
      "In iteration 187, x=[-0.41467513 -0.17687866]; 7 reductions were needed (lambda=0.0078125)\n",
      "CG Failure after 1 iterations\n",
      "In iteration 188, x=[-0.41525159 -0.1752134 ]; 5 reductions were needed (lambda=0.03125)\n",
      "CG Failure after 1 iterations\n",
      "In iteration 189, x=[-0.41833664 -0.17650642]; 7 reductions were needed (lambda=0.0078125)\n",
      "CG Failure after 1 iterations\n",
      "In iteration 190, x=[-0.41892142 -0.17486221]; 5 reductions were needed (lambda=0.03125)\n",
      "CG Failure after 1 iterations\n",
      "In iteration 191, x=[-0.42203442 -0.17609722]; 6 reductions were needed (lambda=0.015625)\n",
      "CG Failure after 1 iterations\n",
      "In iteration 192, x=[-0.42322795 -0.17292241]; 7 reductions were needed (lambda=0.0078125)\n",
      "CG Failure after 1 iterations\n",
      "In iteration 193, x=[-0.42420625 -0.17510284]; 5 reductions were needed (lambda=0.03125)\n",
      "CG Failure after 1 iterations\n",
      "In iteration 194, x=[-0.42698771 -0.17255596]; 7 reductions were needed (lambda=0.0078125)\n",
      "CG Failure after 1 iterations\n",
      "In iteration 195, x=[-0.42797424 -0.17471045]; 5 reductions were needed (lambda=0.03125)\n",
      "CG Failure after 1 iterations\n",
      "In iteration 196, x=[-0.43079287 -0.17222642]; 7 reductions were needed (lambda=0.0078125)\n",
      "CG Failure after 1 iterations\n",
      "In iteration 197, x=[-0.43178182 -0.1742982 ]; 5 reductions were needed (lambda=0.03125)\n",
      "CG Failure after 1 iterations\n",
      "In iteration 198, x=[-0.43464397 -0.17193246]; 7 reductions were needed (lambda=0.0078125)\n",
      "CG Failure after 1 iterations\n",
      "In iteration 199, x=[-0.43562959 -0.17386698]; 5 reductions were needed (lambda=0.03125)\n",
      "CG Failure after 1 iterations\n",
      "In iteration 200, x=[-0.43854121 -0.17166885]; 7 reductions were needed (lambda=0.0078125)\n",
      "CG Failure after 1 iterations\n",
      "In iteration 201, x=[-0.4395183  -0.17341859]; 5 reductions were needed (lambda=0.03125)\n",
      "CG Failure after 1 iterations\n",
      "In iteration 202, x=[-0.44248442 -0.17142674]; 6 reductions were needed (lambda=0.015625)\n",
      "CG Failure after 1 iterations\n",
      "In iteration 203, x=[-0.44441337 -0.17448451]; 0 reductions were needed (lambda=1.0)\n",
      "CG Failure after 1 iterations\n",
      "In iteration 204, x=[-0.51524964  0.1302263 ]; 7 reductions were needed (lambda=0.0078125)\n",
      "CG Converged after 2 iterations\n",
      "In iteration 205, x=[-0.52282923  0.18593117]; 0 reductions were needed (lambda=1.0)\n",
      "CG Converged after 2 iterations\n",
      "In iteration 206, x=[-0.29785446  0.20115464]; 0 reductions were needed (lambda=1.0)\n",
      "CG Converged after 2 iterations\n",
      "In iteration 207, x=[-0.12151577  0.20695733]; 0 reductions were needed (lambda=1.0)\n",
      "CG Converged after 2 iterations\n",
      "In iteration 208, x=[-0.03663401  0.20616018]; 0 reductions were needed (lambda=1.0)\n",
      "CG Converged after 2 iterations\n",
      "In iteration 209, x=[-0.00328504  0.20579204]; 0 reductions were needed (lambda=1.0)\n",
      "CG Converged after 2 iterations\n",
      "In iteration 210, x=[-5.41365778e-05  2.05692297e-01]; 0 reductions were needed (lambda=1.0)\n",
      "Number of iterations: 211\n",
      "Final point x = {} [-5.41365778e-05  2.05692297e-01]\n",
      "with derivative  [-1.05293328e-05  1.56795166e-04]\n"
     ]
    }
   ],
   "source": [
    "x0 = np.array([-0.5, -0.5])\n",
    "x_n, y_n = newton_cg_method(dfdx, hess, f, simple_line_search, x0, \n",
    "                            cg_rtol=1e-7, atol=1.e-5, maxiter=1000,\n",
    "                            verbose=True)\n",
    "print('Number of iterations:', len(x_n))\n",
    "print('Final point x = {}', x_n[-1])\n",
    "print('with derivative ', dfdx(x_n[-1]))"
   ]
  },
  {
   "cell_type": "markdown",
   "metadata": {},
   "source": [
    "The performance, needing 211 iterations, is not very good however, as it seems to switch to steepest descent nearly everywhere. Now let's see what happens if we radically increase `cg_rtol` to 0.5:"
   ]
  },
  {
   "cell_type": "code",
   "execution_count": 14,
   "metadata": {},
   "outputs": [
    {
     "name": "stdout",
     "output_type": "stream",
     "text": [
      "CG Converged after 1 iterations\n",
      "In iteration 0, x=[-0.5 -0.5]; 0 reductions were needed (lambda=1.0)\n",
      "CG Failure after 0 iterations\n",
      "In iteration 1, x=[-0.48193288 -0.02973859]; 6 reductions were needed (lambda=0.015625)\n",
      "CG Converged after 1 iterations\n",
      "In iteration 2, x=[-0.61198696 -0.21474448]; 0 reductions were needed (lambda=1.0)\n",
      "CG Converged after 1 iterations\n",
      "In iteration 3, x=[-0.60479754 -0.14086096]; 0 reductions were needed (lambda=1.0)\n",
      "CG Failure after 0 iterations\n",
      "In iteration 4, x=[-0.60784554 -0.15042588]; 0 reductions were needed (lambda=1.0)\n",
      "CG Failure after 1 iterations\n",
      "In iteration 5, x=[-0.764872   -0.12192447]; 1 reductions were needed (lambda=0.5)\n",
      "CG Converged after 2 iterations\n",
      "In iteration 6, x=[-0.82888932  0.12295839]; 1 reductions were needed (lambda=0.5)\n",
      "CG Converged after 1 iterations\n",
      "In iteration 7, x=[-0.60217426  0.1814797 ]; 0 reductions were needed (lambda=1.0)\n",
      "CG Converged after 2 iterations\n",
      "In iteration 8, x=[-0.59916454  0.16811659]; 1 reductions were needed (lambda=0.5)\n",
      "CG Converged after 1 iterations\n",
      "In iteration 9, x=[-0.38035087  0.19816294]; 0 reductions were needed (lambda=1.0)\n",
      "CG Converged after 2 iterations\n",
      "In iteration 10, x=[-0.37927534  0.1913868 ]; 0 reductions were needed (lambda=1.0)\n",
      "CG Converged after 1 iterations\n",
      "In iteration 11, x=[-0.03601832  0.2179563 ]; 0 reductions were needed (lambda=1.0)\n",
      "CG Converged after 1 iterations\n",
      "In iteration 12, x=[-0.03588592  0.20469207]; 0 reductions were needed (lambda=1.0)\n",
      "CG Converged after 2 iterations\n",
      "In iteration 13, x=[-0.03585105  0.20556706]; 0 reductions were needed (lambda=1.0)\n",
      "CG Converged after 1 iterations\n",
      "In iteration 14, x=[-2.52961637e-05  2.05812703e-01]; 0 reductions were needed (lambda=1.0)\n",
      "CG Converged after 1 iterations\n",
      "In iteration 15, x=[-2.52665751e-05  2.05691287e-01]; 0 reductions were needed (lambda=1.0)\n",
      "Number of iterations: 16\n",
      "Final point x = {} [-2.52665751e-05  2.05691287e-01]\n",
      "with derivative  [-4.91342251e-06 -1.46475983e-05]\n"
     ]
    }
   ],
   "source": [
    "x0 = np.array([-0.5, -0.5])\n",
    "x_n, y_n = newton_cg_method(dfdx, hess, f, simple_line_search, x0, \n",
    "                            cg_rtol=0.5, atol=1.e-5, maxiter=1000,\n",
    "                            verbose=True)\n",
    "print('Number of iterations:', len(x_n))\n",
    "print('Final point x = {}', x_n[-1])\n",
    "print('with derivative ', dfdx(x_n[-1]))"
   ]
  },
  {
   "cell_type": "markdown",
   "metadata": {},
   "source": [
    "As predicted truncated Newton-CG converges much faster. It manages to stear \n",
    "away from regions with a problematic Hessian, and only fails the CG a few times."
   ]
  },
  {
   "cell_type": "markdown",
   "metadata": {
    "slideshow": {
     "slide_type": "slide"
    }
   },
   "source": [
    "# Computing and Testing the Gradient: Taylor Test"
   ]
  },
  {
   "cell_type": "markdown",
   "metadata": {
    "slideshow": {
     "slide_type": "slide"
    }
   },
   "source": [
    "## Obtaining Gradient Information\n",
    "\n",
    "As we have seen so far, using gradient information can significantly improve convergence of optimisation algorithms. When using quasi-Newton methods for optimisation we can avoid the need for a Hessian, but we still require the gradient of the function we optimise. Calculating the gradient however can be a challenge. Often the evaluation of the function $f$ itself involves running a, potentially complex, computer code.\n",
    "This means that we need to work out what the derivative is of the outcomes of our computer model with respect to the things we want to vary in the optimisation. There are various ways of obtaining this information. For small codes, we can work it out for ourselves by looking at the actual mathematical operations that are performed in sequence within a (computer) function and applying the chain rule to it. You will find out that this approach gets a little tedious soon, and will be infeasible for larger codes.\n",
    "\n",
    "There are automated ways to derive this information using so called <a class=\"definition\" href=\"#definitions\" id=\"AutomatedDifferentationAD\">Automated Differentation (AD)</a> tools. For compiled languages they may scan and interpret the actual source code and automatically derive new code that computes the derivative. Another approach is to record *at run-time* which operations are being performed, and then, when requested, to use this information to derive the gradient. There are various different approaches implemented in a number of Automated Differenation frameworks each with their own strengths and weaknesses: the level of complexity, how much manual intervention is still required, and run-time efficiency.\n",
    "\n",
    "If the function evaluation is based upon the solution of a PDE, with the input parameters used as initial or boundary conditions, or source terms, we may also consider the adjoint method. Here we reformulate the optimisation problem as a PDE-constrained optimisation problem and derive associated adjoint equations, a new PDE that we need to solve to obtain the desired gradient information. We will come back to this topic in lecture 7."
   ]
  },
  {
   "cell_type": "markdown",
   "metadata": {
    "slideshow": {
     "slide_type": "slide"
    }
   },
   "source": [
    "## Taylor Test\n",
    "Regardless of the method that is used to construct the derivative, it will become clear that this can be an error-prone business. It is therefore of the greatest importance to *test* whether our derivative function is correct. The best way to do this, is to use the so called <a class=\"definition\" href=\"#definitions\" id=\"Taylortest\">Taylor test</a>. The idea is very simple: let's treat our computer program as a mathematical function $f({\\bf x})$ that takes a number of input values gathered together in a vector ${\\bf x}$ and returns a value $f({\\bf x})$. Of course our program could be producing a lot of numbers, but for simplicity let's say there is just one output, the number $f({\\bf x})$. Then if $f'({\\bf x})$ is the derivative of this function - this implies that $f$ is actually differentiable as a mathematical function - then by Taylor's theorem we may write:\n",
    "\n",
    "$$\n",
    "  f({\\bf x} + {\\bf h}) = f({\\bf x}) + f'({\\bf x})\\cdot{\\bf h} + \\mathcal{O(\\|h\\|^2)}\\;\\;\n",
    "  \\text{ for }\\|{\\bf h}\\|\\to 0\n",
    "$$\n",
    "\n",
    "where ${\\bf h}$ is a (small) perturbation of our input values ${\\bf x}$. Note that if the computer program has $n$ input values, then both ${\\bf x}$ and ${\\bf h}$ are vectors in $\\mathbb{R}^n$, and we need to consider perturbations in all $n$ directions."
   ]
  },
  {
   "cell_type": "markdown",
   "metadata": {
    "slideshow": {
     "slide_type": "fragment"
    }
   },
   "source": [
    "Another way of phrasing the Taylor approximation, is to say that $f$ and its linear approximation around $f$ converge quadratically as $\\|h\\|\\to 0$. The difference between the two is called the Taylor residual\n",
    "\n",
    "$$\n",
    "  r({\\bf h}) = f({\\bf x} + {\\bf h}) - f({\\bf x}) - f'({\\bf x})\\cdot{\\bf h}\n",
    "$$\n",
    "\n",
    "So if we have correctly written (or automatically derived) a computer function that computes the derivative $f'({\\bf x})$, and we use this to compute the Taylor residual, we should have\n",
    "\n",
    "$$\n",
    "  |r({\\bf h})| \\leq C\\|{\\bf h}\\|^2\\;\\;\\text{ for small enough }{\\bf h}\n",
    "$$"
   ]
  },
  {
   "cell_type": "markdown",
   "metadata": {
    "slideshow": {
     "slide_type": "subslide"
    }
   },
   "source": [
    "One problem with these sorts of tests is that we don't necessarily know what a small enough ${\\bf h}$ is before the assymptotic behaviour becomes clear. A way to proceed is to consider a series of \n",
    "\n",
    "$$\n",
    "  \\newcommand\\fac{\\mathcal{F}}\n",
    "  {\\bf h}_k= \\frac{{\\bf h}_0}{\\fac^k},\n",
    "$$\n",
    "\n",
    "where we divide $h_k$ by a factor of $\\fac$ (usually $\\fac=2$) each time. It is then possible to show that\n",
    "\n",
    "$$\n",
    "  \\lim_{k\\to\\infty} \\frac{r({\\bf h}_k)}{r({\\bf h}_{k+1})} \\geq \\fac^2\n",
    "$$\n",
    "\n",
    "It is convenient to take the $\\log$ of this series and we get\n",
    "\n",
    "$$\n",
    "  \\lim_{k\\to\\infty} \\frac{\\log\\left(\\frac{r({\\bf h}_k)}{r({\\bf h}_{k+1})}\\right)}{\\log(\\fac)} \\geq 2\n",
    "$$\n",
    "\n",
    "In many cases this series will in fact converge exactly to 2, but for instance if the second derivative is zero the limit may be higher. Often when $h_k$ is not yet small enough the term on the left starts out being smaller than two, and so our test should keep dividing by a factor of $\\fac$ until it reaches 2. We typically allow for some round off error and allow a value close to 2."
   ]
  },
  {
   "cell_type": "markdown",
   "metadata": {
    "slideshow": {
     "slide_type": "slide"
    }
   },
   "source": [
    "# Example: Shape Optimisation <a class=\"tocSkip\"></a>\n",
    "\n",
    "## Polygons, Perimeter and Area\n",
    "To bring some of the ideas of today's lecture in to practice we will look at a shape optimisation problem based on the geometric properties of a shape such as the perimeter and area. We will describe the shapes as polygons. Polygons are given by a list of points, the vertices, with edges that are straight lines between the subsequent vertices. There are other, more sophisticated ways to describe shapes, such as [Bézier curves](https://en.wikipedia.org/wiki/B%C3%A9zier_curve), but we will not use those here. We use the convention that the first and the last point in the list are the same, to describe a closed polygon. Another convention we use is that the vertices in this list are given in counter clockwise order.\n",
    "\n",
    "To start we introduce a little helper function that creates a regular polygon, a polygon of which all edge lengths and all angles are the same."
   ]
  },
  {
   "cell_type": "code",
   "execution_count": 15,
   "metadata": {},
   "outputs": [],
   "source": [
    "def regular_polygon(R, n):\n",
    "    \"\"\"Create a regular polygon of radius R with n sides\"\"\"\n",
    "    alpha = 2*np.pi/n\n",
    "    x = []\n",
    "    for i in range(n+1):\n",
    "        x.append([R*np.cos(alpha*i), R*np.sin(alpha*i)])\n",
    "    return np.array(x)        "
   ]
  },
  {
   "cell_type": "markdown",
   "metadata": {},
   "source": [
    "Note that here, and elsewhere we use $n$ as the number of sides of the polygon. The number of vertices, including the last vertex which is at the same location as the first, is $n+1$. Plotting is straightforward:"
   ]
  },
  {
   "cell_type": "code",
   "execution_count": 16,
   "metadata": {},
   "outputs": [
    {
     "data": {
      "image/png": "[encoded data removed]",
      "text/plain": [
       "<Figure size 432x288 with 1 Axes>"
      ]
     },
     "metadata": {
      "needs_background": "light"
     },
     "output_type": "display_data"
    }
   ],
   "source": [
    "x = regular_polygon(1, 8)\n",
    "plt.plot(x[:,0], x[:,1], '.-')\n",
    "plt.axis('equal');"
   ]
  },
  {
   "cell_type": "markdown",
   "metadata": {},
   "source": [
    "Next we define two functions computing the area and perimeter of an abritrary polygon. The perimeter is actually given by a function called `length` as the perimeter of a polygon is just the sum of the length of the edges."
   ]
  },
  {
   "cell_type": "code",
   "execution_count": 17,
   "metadata": {},
   "outputs": [],
   "source": [
    "def area(x):\n",
    "    \"\"\"Compute the area of the polygon x\"\"\"\n",
    "    n = len(x)-1\n",
    "    a = 0.\n",
    "    for i in range(n):\n",
    "        a += (x[i,0]-x[i+1,0])*(x[i,1]+x[i+1,1])/2.\n",
    "    return a\n",
    "\n",
    "def length(x):\n",
    "    \"\"\"Compute the length of the path described by the list of points x.\"\"\"\n",
    "    n = len(x)-1\n",
    "    l = 0.\n",
    "    for i in range(n):\n",
    "        l += sl.norm(x[i+1]-x[i])\n",
    "    return l"
   ]
  },
  {
   "cell_type": "markdown",
   "metadata": {},
   "source": [
    "As always, we should test all components of our software. In the today's tutorial you will be asked to verify the results of these function applied to some regular polygons using known analytical expressions for these.\n",
    "\n",
    "Since we want to use these function in an gradient-based optimisation, we also need derivatives of these functions, and as argued in previous section test these using the Taylor test. We start by looking at the derivative of our `length` function. The function `length`$({\\bf x})$ takes a vector ${\\bf x}\\in\\mathbb{R}^{(n+1)\\times 2}$, where $n$ is the number of edges, $n+1$ the number of vertices, and we need a $\\times 2$ because we are in 2D and each vertex is given by a 2-vector. Therefore the derivative of `length` in ${\\bf x}$ should itself be a vector in $\\mathbb{R}^{(n+1)\\times 2}$, which indicates how much the function `length`$({\\bf x})$ would change by a small perturbation in each direction. Strictly speaking we should actually be talking about ${\\bf x}$ and the derivative as vectors in $\\mathbb{R}^{2(n+1)}$ (for example with $n=4$, they would be vectors in $\\mathbb{R}^{10}$), but for convenience in our code we store them as rank 2 arrays with a shape of $(n+1,2)$, so $n+1$ rows and 2 columns.\n",
    "\n",
    "We claim that this derivative is computed by the following function:"
   ]
  },
  {
   "cell_type": "code",
   "execution_count": 18,
   "metadata": {},
   "outputs": [],
   "source": [
    "def grad_length(x):\n",
    "    \"\"\"Compute the gradient of length(x).\"\"\"\n",
    "    n = len(x)-1\n",
    "    dldx = np.zeros((n+1, 2))\n",
    "    for i in range(n):\n",
    "        dldx[i, 0] += -(x[i+1,0]-x[i,0])/sl.norm(x[i+1]-x[i])\n",
    "        dldx[i+1, 0] += (x[i+1,0]-x[i,0])/sl.norm(x[i+1]-x[i])\n",
    "        dldx[i, 1] += -(x[i+1,1]-x[i,1])/sl.norm(x[i+1]-x[i])\n",
    "        dldx[i+1, 1] += (x[i+1,1]-x[i,1])/sl.norm(x[i+1]-x[i])\n",
    "    return dldx"
   ]
  },
  {
   "cell_type": "markdown",
   "metadata": {},
   "source": [
    "Compare this function with the original `length` function and make sure you understand why this would give us the derivative. First let's write out `length` as a mathematical formula:\n",
    "\n",
    "$$\n",
    "  l({\\bf x}) = \\sum l_i({\\bf x}) = \\sum_i \\|{\\bf x}_{i+1}-{\\bf x}_i\\|,\n",
    "$$\n",
    "\n",
    "where $l_i$ are the lengths of the individual edges $l_i$.\n",
    "Then the gradient of the entire length can be written as the sum of gradients of the individual edge lengths:\n",
    "\n",
    "$$\n",
    "  \\frac{\\partial l({\\bf x})}{\\partial {\\bf x}}\n",
    "  = \\sum_i \\frac{\\partial l_i({\\bf x})}{\\partial {\\bf x}}\n",
    "  = \\sum_i \\frac{\\partial\\|{\\bf x}_{i+1}-{\\bf x}_i\\|}{\\partial {\\bf x}}\n",
    "$$\n",
    "\n",
    "Each edge length $l_i$ can be worked out further as\n",
    "\n",
    "$$\n",
    "  l_i({\\bf x}) = \\|{\\bf x}_{i+1}-{\\bf x}_i\\| = \\sqrt{\\left(x_{i+1,0}-x_{i,0}\\right)^2\n",
    "     + \\left(x_{i+1,1}-x_{i,1}\\right)^2}\n",
    "$$\n",
    "\n",
    "as a function of the 4 coefficients $x_{i,0}, x_{i,1}, x_{i+1,0}$, and $x_{i+1,1}$, the \"$x$ and $y$\" coordinates of positions ${\\bf x}_{i}$ and ${\\bf x}_{i+1}$. \n",
    "\n",
    "The derivative of each individual $l_i$ with respect to all polygon positions ${\\bf x}$, is a large $(n+1)\\times 2$ vector that is mostly zero, except for the 4 entries associated these coefficients:\n",
    "\n",
    "\\begin{align*}\n",
    "  \\frac{\\partial l_i({\\bf x})}{\\partial {\\bf x}} =\n",
    "  \\frac{\\partial\\|{\\bf x}_{i+1}-{\\bf x}_i\\|}{\\partial {\\bf x}} &= \n",
    "  \\begin{pmatrix}\n",
    "    0 & \\dots &\n",
    "    \\frac{\\partial\\|{\\bf x}_{i+1}-{\\bf x}_i\\|}{\\partial x_{i,0}} &\n",
    "    \\frac{\\partial\\|{\\bf x}_{i+1}-{\\bf x}_i\\|}{\\partial x_{i,1}} &\n",
    "    \\frac{\\partial\\|{\\bf x}_{i+1}-{\\bf x}_i\\|}{\\partial x_{i+1,0}} &\n",
    "    \\frac{\\partial\\|{\\bf x}_{i+1}-{\\bf x}_i\\|}{\\partial x_{i+1,1}} &\n",
    "\\dots & 0 \n",
    "  \\end{pmatrix} \\\\\n",
    "  &= \n",
    "    \\begin{pmatrix}\n",
    "    0 & \\dots &\n",
    "    -\\frac{x_{i+1,0}-x_{i,0}}{\\|{\\bf x}_{i+1}-{\\bf x}_i\\|} &\n",
    "    \\frac{x_{i+1,0}-x_{i,0}}{\\|{\\bf x}_{i+1}-{\\bf x}_i\\|} &\n",
    "    -\\frac{x_{i+1,1}-x_{i,1}}{\\|{\\bf x}_{i+1}-{\\bf x}_i\\|} &\n",
    "    \\frac{x_{i+1,1}-x_{i,1}}{\\|{\\bf x}_{i+1}-{\\bf x}_i\\|} &\n",
    "\\dots & 0 \n",
    "  \\end{pmatrix}\n",
    "\\end{align*}\n",
    "\n",
    "In code this looks like:\n",
    "```python\n",
    "dlidx = np.zeros((n+1, 2))\n",
    "dlidx[i, 0] = -(x[i+1,0]-x[i,0])/sl.norm(x[i+1]-x[i])\n",
    "dlidx[i+1, 0] = (x[i+1,0]-x[i,0])/sl.norm(x[i+1]-x[i])\n",
    "dlidx[i, 1] = -(x[i+1,1]-x[i,1])/sl.norm(x[i+1]-x[i])\n",
    "dlidx[i+1, 1] = (x[i+1,1]-x[i,1])/sl.norm(x[i+1]-x[i])\n",
    "```\n",
    "\n",
    "That's already nearly the same as the function `grad_length`. The only last step is to simply add up all the derivatives of all the individual edge lengths. This is done in `grad_length` by starting a single `dldx`, for the derivate of the total length, and simply adding up the individual edge length derivatives as we loop through $i$. Note the use of `+=` in the `length` function above:\n",
    "```dldx[i, 0] += C``` is short for ```dldx[i, 0] = dldx[i,0] + C```."
   ]
  },
  {
   "cell_type": "markdown",
   "metadata": {},
   "source": [
    "OK, let's now test this `grad_length` function and verify that it is indeed the correct derivative of `length` using the Taylor test we described in the previous section. We provide the following function to perform this test:"
   ]
  },
  {
   "cell_type": "code",
   "execution_count": 19,
   "metadata": {},
   "outputs": [],
   "source": [
    "def taylor_test(f, grad_f, x, h0, max_iter=20, plot_convergence=True, print_convergence=True):\n",
    "    \"\"\"Taylor test to verify that the function grad_f is the derivative of the function `f`\n",
    "    \n",
    "    We test:\n",
    "    \n",
    "       f(x + h) = f(x) + grad_f(x).h + O(h^2)\n",
    "    \n",
    "    f, grad_f  - function and its derivative to test\n",
    "    x          - point in which to test\n",
    "    h0         - initial perturbation\n",
    "    max_iter   - number of times that h is halved\n",
    "    plot_convergence - whether to plot the convergence of the Taylor residual f(x+h)-f(x)-grad_f(x).h\n",
    "    print_convergence - prints the order of convergence between subsequent iterations.\"\"\"\n",
    "\n",
    "\n",
    "    h = h0.copy()\n",
    "    residuals = []\n",
    "    hnorms = []\n",
    "    # these two stay the same, so we can compute them outside the loop:\n",
    "    fx = f(x)\n",
    "    dfdx = grad_f(x)\n",
    "    \n",
    "    for i in range(max_iter):\n",
    "        r = f(x + h) - fx - np.sum(dfdx * h)\n",
    "        residuals.append(sl.norm(r))\n",
    "        hnorms.append(sl.norm(h))\n",
    "        h /= 2.\n",
    "\n",
    "    if plot_convergence:\n",
    "        fig, ax = plt.subplots(1,2, figsize=(16,4))\n",
    "        ax[0].semilogy(residuals)\n",
    "        ax[0].set_xlabel('iteration')\n",
    "        ax[0].set_ylabel('Taylor residual $|r|$')\n",
    "        ax[0].set_xticks(range(0,max_iter,2))\n",
    "        ax[1].loglog(hnorms, residuals)\n",
    "        ax[1].set_xlabel('perturbation size $\\|h\\|$')\n",
    "        ax[1].set_ylabel('Taylor residual $|r|$')\n",
    "\n",
    "        # NOTE: slope_marker does not seem to work in semilogy plots\n",
    "        annotation.slope_marker((1e-3, 1e-4), (2, 1), invert=True, ax=ax[1], size_frac=.2)\n",
    "\n",
    "    if print_convergence:\n",
    "        residuals = np.array(residuals)\n",
    "        print('Order of convergence, log(r(h_i)/r(h_{i+1}))/log(2):')\n",
    "        print(np.log(residuals[:-1]/residuals[1:])/np.log(2))"
   ]
  },
  {
   "cell_type": "markdown",
   "metadata": {},
   "source": [
    "All we need to do, is give it is the function and gradient to test (`length` and `grad_length` in this case), a point ${\\bf x}$ (a vector representing a polygon) to test the function in, and an initial perturbation:"
   ]
  },
  {
   "cell_type": "code",
   "execution_count": 25,
   "metadata": {},
   "outputs": [
    {
     "name": "stdout",
     "output_type": "stream",
     "text": [
      "Order of convergence, log(r(h_i)/r(h_{i+1}))/log(2):\n",
      "[1.90687861 1.94747315 1.97206217 1.98557668 1.99266907 1.99630391\n",
      " 1.9981442  1.99907014 1.99953458 1.99976716 1.99988354 1.99994152\n",
      " 1.99997301 1.99998374 1.99998903 2.00002978 1.99999059 2.00053298\n",
      " 2.00106655]\n"
     ]
    },
    {
     "data": {
      "image/png": "[encoded data removed]",
      "text/plain": [
       "<Figure size 1152x288 with 2 Axes>"
      ]
     },
     "metadata": {
      "needs_background": "light"
     },
     "output_type": "display_data"
    }
   ],
   "source": [
    "# we test the derivative around a regular polygon\n",
    "R = 1.5\n",
    "n = 6\n",
    "x = regular_polygon(R, n)\n",
    "\n",
    "# our original perturbation h0 is chosen as a random vector\n",
    "# with values between 0 and 1\n",
    "np.random.seed(0)  #  (* see note 2 below)\n",
    "h0 = np.random.random((n+1, 2))\n",
    "\n",
    "# NOTE 1: this *not* a small perturbation with respect to\n",
    "# a regular polygon with R=1.5, but we do this for demonstration\n",
    "# purposes. Normally you would probably start your test\n",
    "# with a much smaller perturbation which you expect to be\n",
    "# much closer to the asymptotic convergence\n",
    "\n",
    "# NOTE 2: we set a seed here to ensure we get the same\n",
    "# random vector every time - this is again for demonstration\n",
    "# purposes only - you do not need to do this\n",
    "\n",
    "taylor_test(length, grad_length, x, h0, max_iter =20)"
   ]
  },
  {
   "cell_type": "markdown",
   "metadata": {},
   "source": [
    "We observe that the order of convergence, computed from subsequent iterations, rapidly reaches the expected value of 2. In today's tutorial you will be asked to derive and test the gradient of the `area` function as well. We will then perform our first shape optimisation based upon a shape factor functional that combines both functions. This is a first step in a shape optimisation problem that we will further develop next week, where we will optimise the shape of an airfoil."
   ]
  },
  {
   "cell_type": "markdown",
   "metadata": {
    "slideshow": {
     "slide_type": "skip"
    }
   },
   "source": [
    "# List of Definitions\n",
    "<a id=\"definitions\"/>\n",
    "\n",
    "* <a class=definition href=\"#quasiNewtonsecantmethods\">quasi-Newton secant methods</a>\n",
    "* <a class=definition href=\"#secantequation\">secant equation</a>\n",
    "* <a class=definition href=\"#Broydensgoodmethod\">Broyden's \"good\" method</a>\n",
    "* <a class=definition href=\"#Broydensbadmethod\">Broyden's \"bad\" method</a>\n",
    "* <a class=definition href=\"#SymmetricRankeOneSRmethod\">Symmetric Ranke One (SR1) method</a>\n",
    "* <a class=definition href=\"#BroydenFletcherGoldfarbShannoBFGSmethod\">Broyden-Fletcher-Goldfarb-Shanno (BFGS) method</a>\n",
    "* <a class=definition href=\"#limitedmemoryapproach\">limited memory approach</a>\n",
    "* <a class=definition href=\"#iterativemethods\">iterative methods</a>\n",
    "* <a class=definition href=\"#stoppingcriterion\">stopping criterion</a>\n",
    "* <a class=definition href=\"#absolutetolerance\">absolute tolerance</a>\n",
    "* <a class=definition href=\"#relativetolerance\">relative tolerance</a>\n",
    "* <a class=definition href=\"#stallingcriteria\">stalling criteria</a>\n",
    "* <a class=definition href=\"#truncatedNewton\">truncated Newton</a>\n",
    "* <a class=definition href=\"#NewtonCG\">Newton-CG</a>\n",
    "* <a class=definition href=\"#AutomatedDifferentationAD\">Automated Differentation (AD)</a>\n",
    "* <a class=definition href=\"#Taylortest\">Taylor test</a>\n"
   ]
  }
 ],
 "metadata": {
  "kernelspec": {
   "display_name": "Python 3",
   "language": "python",
   "name": "python3"
  },
  "language_info": {
   "codemirror_mode": {
    "name": "ipython",
    "version": 3
   },
   "file_extension": ".py",
   "mimetype": "text/x-python",
   "name": "python",
   "nbconvert_exporter": "python",
   "pygments_lexer": "ipython3",
   "version": "3.8.5"
  },
  "toc": {
   "base_numbering": 1,
   "nav_menu": {},
   "number_sections": true,
   "sideBar": true,
   "skip_h1_title": false,
   "title_cell": "Table of Contents",
   "title_sidebar": "Contents",
   "toc_cell": true,
   "toc_position": {},
   "toc_section_display": true,
   "toc_window_display": true
  }
 },
 "nbformat": 4,
 "nbformat_minor": 4
}
